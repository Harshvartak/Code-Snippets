{
 "cells": [
  {
   "cell_type": "code",
   "execution_count": 2,
   "id": "f7517c78",
   "metadata": {},
   "outputs": [],
   "source": [
    "import pandas as pd"
   ]
  },
  {
   "cell_type": "markdown",
   "id": "ef6fee80",
   "metadata": {},
   "source": [
    "## SDGA"
   ]
  },
  {
   "cell_type": "code",
   "execution_count": 3,
   "id": "2e8e2ec0",
   "metadata": {},
   "outputs": [],
   "source": [
    "def factorDiffDictionary3(dicList,viewFile,filename):\n",
    "    import pandas as pd\n",
    "    import numpy as np\n",
    "    df = pd.DataFrame()\n",
    "    for f in dicList:\n",
    "        data = pd.read_excel(str(f))\n",
    "        df =df.append(data)\n",
    "    \n",
    "    col_list_set = set(df[\"File Header\"].tolist())\n",
    "    viewFactorList = list(pd.read_excel(viewFile).columns)\n",
    "    if \"issuerID\" in viewFactorList:\n",
    "        viewFactorList.remove(\"issuerID\")\n",
    "        \n",
    "    viewFactorSet=set(viewFactorList)    \n",
    "    \n",
    "    temp3 = [x for x in df[\"File Header\"].tolist() if x not in viewFactorSet]\n",
    "    print(temp3)\n",
    "    print(len(temp3))\n",
    "    with open(filename, mode='w', encoding='utf-8') as myfile:\n",
    "        myfile.write('\\n'.join(temp3))"
   ]
  },
  {
   "cell_type": "code",
   "execution_count": null,
   "id": "9603f335",
   "metadata": {},
   "outputs": [],
   "source": []
  },
  {
   "cell_type": "code",
   "execution_count": 4,
   "id": "51d4fcb0",
   "metadata": {},
   "outputs": [],
   "source": [
    "def factorDiffDictionary(dicList,viewFile,filename1,filename2):\n",
    "    import pandas as pd\n",
    "    import numpy as np\n",
    "    df = pd.DataFrame()\n",
    "    for f in dicList:\n",
    "        data = pd.read_excel(str(f))\n",
    "        df =df.append(data)\n",
    "    \n",
    "    col_list_set = set(df[\"File Header\"].tolist())\n",
    "    viewFactorList = list(pd.read_excel(viewFile).columns)\n",
    "    if \"issuerID\" in viewFactorList:\n",
    "        viewFactorList.remove(\"issuerID\")\n",
    "\n",
    "    \n",
    "    temp3 = [x for x in viewFactorList if x not in col_list_set]\n",
    "    \n",
    "    temp4 = [x for x in col_list_set if x not in viewFactorList]\n",
    "    \n",
    "    if not len(temp3)==0:\n",
    "        with open(filename1+\".txt\", mode='w', encoding='utf-8') as myfile:\n",
    "            myfile.write('\\n'.join(temp3))\n",
    "        print(\"Extra factors in view present\")\n",
    "    else:\n",
    "        print(\"No extra factors in view\")\n",
    "        \n",
    "        \n",
    "    if not len(temp4)==0:\n",
    "        with open(filename2+\".txt\", mode='w', encoding='utf-8') as myfile:\n",
    "            myfile.write('\\n'.join(temp4))\n",
    "        print(\"Extra factors in dictionary present\")\n",
    "    else:\n",
    "        print(\"No extra factors in dictionary\")"
   ]
  },
  {
   "cell_type": "code",
   "execution_count": 9,
   "id": "bc52570c",
   "metadata": {},
   "outputs": [
    {
     "name": "stdout",
     "output_type": "stream",
     "text": [
      "[]\n",
      "0\n"
     ]
    },
    {
     "name": "stderr",
     "output_type": "stream",
     "text": [
      "C:\\Users\\varthar\\AppData\\Local\\Temp\\5\\ipykernel_30948\\2222137833.py:7: FutureWarning: The frame.append method is deprecated and will be removed from pandas in a future version. Use pandas.concat instead.\n",
      "  df =df.append(data)\n",
      "C:\\Users\\varthar\\AppData\\Local\\Temp\\5\\ipykernel_30948\\2222137833.py:7: FutureWarning: The frame.append method is deprecated and will be removed from pandas in a future version. Use pandas.concat instead.\n",
      "  df =df.append(data)\n"
     ]
    }
   ],
   "source": [
    "factorDiffDictionary([\"DATA/SF Phase 2 - Data Dictionary - SDGSA Funds.xlsx\",\"DATA/SF Phase 2 - Data Dictionary - SDGSA Issuers.xlsx\"],\"DATA/ImpactUNSDG_SDGSolutionsAssessment_Inst_Corp_V1.xlsx\",\"SDGA Missing Factors.txt\")"
   ]
  },
  {
   "cell_type": "code",
   "execution_count": 30,
   "id": "23b6893f",
   "metadata": {},
   "outputs": [],
   "source": [
    "def factorDiffDictionary2(dicList,viewPath,errorFileName):\n",
    "    import pandas as pd\n",
    "    import numpy as np\n",
    "    import glob\n",
    "    \n",
    "    df = pd.DataFrame()\n",
    "    \n",
    "    for f in dicList:\n",
    "        data = pd.read_excel(str(f))\n",
    "        df =df.append(data)\n",
    "    \n",
    "    col_list_set = set(df[\"File Header\"].tolist())\n",
    "    \n",
    "    all_files = glob.glob(viewPath+\"*.xlsx\")\n",
    "    li = []\n",
    "    \n",
    "    for filename in all_files:\n",
    "        print(\"Read the file: \"+filename)\n",
    "        df = pd.read_excel(filename, index_col=None, header=0)\n",
    "        li.append(df)\n",
    "\n",
    "    frame = pd.concat(li, axis=0, ignore_index=True)\n",
    "    frame.T.drop_duplicates().T\n",
    "        \n",
    "    viewFactorList = list(frame.columns)\n",
    "    \n",
    "    if \"issuerID\" in viewFactorList:\n",
    "        viewFactorList.remove(\"issuerID\")\n",
    "    \n",
    "    temp3 = [x for x in viewFactorList if x not in col_list_set]\n",
    "    \n",
    "    print(temp3)\n",
    "    print(len(temp3))\n",
    "    \n",
    "    with open(errorFileName, mode='w+', encoding='utf-8') as myfile:\n",
    "        myfile.write('\\n'.join(temp3))"
   ]
  },
  {
   "cell_type": "code",
   "execution_count": 31,
   "id": "ae76685b",
   "metadata": {},
   "outputs": [
    {
     "name": "stderr",
     "output_type": "stream",
     "text": [
      "C:\\Users\\varthar\\AppData\\Local\\Temp\\5\\ipykernel_38388\\194082192.py:10: FutureWarning: The frame.append method is deprecated and will be removed from pandas in a future version. Use pandas.concat instead.\n",
      "  df =df.append(data)\n"
     ]
    },
    {
     "name": "stdout",
     "output_type": "stream",
     "text": [
      "Read the file: DATA/DD-12023\\ScreeningControversies_Issuer_CUSIP_Reference_V1.xlsx\n",
      "Read the file: DATA/DD-12023\\ScreeningControversies_Issuer_Reference_V1.xlsx\n",
      "Read the file: DATA/DD-12023\\ScreeningControversies_Issuer_SEDOL_Reference_V1.xlsx\n",
      "Read the file: DATA/DD-12023\\ScreeningControversies_SectorScreening_Abortifacients_Inst_Corp_V1.xlsx\n",
      "Read the file: DATA/DD-12023\\ScreeningControversies_SectorScreening_Abortion_Inst_Corp_V1.xlsx\n",
      "Read the file: DATA/DD-12023\\ScreeningControversies_SectorScreening_Alcohol_Inst_Corp_V1.xlsx\n",
      "Read the file: DATA/DD-12023\\ScreeningControversies_SectorScreening_All_Inst_Corp_V1.xlsx\n",
      "Read the file: DATA/DD-12023\\ScreeningControversies_SectorScreening_AnimalTesting_Inst_Corp_V1.xlsx\n",
      "Read the file: DATA/DD-12023\\ScreeningControversies_SectorScreening_AnimalWelfare_Inst_Corp_V1.xlsx\n",
      "Read the file: DATA/DD-12023\\ScreeningControversies_SectorScreening_Cannabis_Inst_Corp_V1.xlsx\n",
      "Read the file: DATA/DD-12023\\ScreeningControversies_SectorScreening_CommunityReinvestmentAct_Inst_Corp_V1.xlsx\n",
      "Read the file: DATA/DD-12023\\ScreeningControversies_SectorScreening_Contraceptives_Inst_Corp_V1.xlsx\n",
      "Read the file: DATA/DD-12023\\ScreeningControversies_SectorScreening_ControversialCellLines_Inst_Corp_V1.xlsx\n",
      "Read the file: DATA/DD-12023\\ScreeningControversies_SectorScreening_Euthanasia_Inst_Corp_V1.xlsx\n",
      "Read the file: DATA/DD-12023\\ScreeningControversies_SectorScreening_ForProfitCorrectionalFacilities_Inst_Corp_V1.xlsx\n",
      "Read the file: DATA/DD-12023\\ScreeningControversies_SectorScreening_Gambling_Inst_Corp_V1.xlsx\n",
      "Read the file: DATA/DD-12023\\ScreeningControversies_SectorScreening_GeneticallyModifiedOrganisms_Inst_Corp_V1.xlsx\n",
      "Read the file: DATA/DD-12023\\ScreeningControversies_SectorScreening_HazardousSubstances_Inst_Corp_V1.xlsx\n",
      "Read the file: DATA/DD-12023\\ScreeningControversies_SectorScreening_InVitroFertilization_Inst_Corp_V1.xlsx\n",
      "Read the file: DATA/DD-12023\\ScreeningControversies_SectorScreening_MilitaryEquipmentWeapons_Inst_Corp_V1.xlsx\n",
      "Read the file: DATA/DD-12023\\ScreeningControversies_SectorScreening_PalmOil_Inst_Corp_V1.xlsx\n",
      "Read the file: DATA/DD-12023\\ScreeningControversies_SectorScreening_PlannedParenthood_Corp_V1.xlsx\n",
      "Read the file: DATA/DD-12023\\ScreeningControversies_SectorScreening_Pork_Inst_Corp_V1.xlsx\n",
      "Read the file: DATA/DD-12023\\ScreeningControversies_SectorScreening_Pornography_Inst_Corp_V1.xlsx\n",
      "Read the file: DATA/DD-12023\\ScreeningControversies_SectorScreening_PredatoryLending_Inst_Corp_V1.xlsx\n",
      "Read the file: DATA/DD-12023\\ScreeningControversies_SectorScreening_StemCellResearch_Inst_Corp_V1.xlsx\n",
      "Read the file: DATA/DD-12023\\ScreeningControversies_SectorScreening_Tobacco_Inst_Corp_V1.xlsx\n",
      "Read the file: DATA/DD-12023\\ScreeningControversies_SectorScreening_ViolentVideoGames_Inst_Corp_V1.xlsx\n",
      "[]\n",
      "0\n"
     ]
    }
   ],
   "source": [
    "factorDiffDictionary2([\"DATA/SF Phase 2 - Data Dictionary - SBS.xlsx\"],\"DATA/DD-12023/\",\"SBS Missing Factors.txt\")"
   ]
  },
  {
   "cell_type": "code",
   "execution_count": 13,
   "id": "decedf69",
   "metadata": {},
   "outputs": [
    {
     "name": "stdout",
     "output_type": "stream",
     "text": [
      "['issuerID', 'ESGRatingIndustry']\n",
      "2\n"
     ]
    },
    {
     "name": "stderr",
     "output_type": "stream",
     "text": [
      "C:\\Users\\varthar\\AppData\\Local\\Temp\\5\\ipykernel_38388\\1546156165.py:7: FutureWarning: The frame.append method is deprecated and will be removed from pandas in a future version. Use pandas.concat instead.\n",
      "  df =df.append(data)\n"
     ]
    }
   ],
   "source": [
    "factorDiffDictionary3([\"DATA/ScreeningControversies_Issuer_Reference_Dictionary_V1.xlsx\"],\"DATA/ScreeningControversies_Issuer_Reference_V1.xlsx\",\"ESQS Missing Fact.txt\")"
   ]
  },
  {
   "cell_type": "code",
   "execution_count": 36,
   "id": "2f23e4a3",
   "metadata": {},
   "outputs": [
    {
     "name": "stdout",
     "output_type": "stream",
     "text": [
      "['EUTaxAfforestationDNSH', 'EUTaxAfforestationInvolvement', 'EUTaxAfforestationOverallAlign', 'EUTaxAfforestationOverallAlignA', 'EUTaxAfforestationOverallAlignM', 'EUTaxAfforestationRevenue', 'EUTaxAfforestationSC', 'EUTaxAfforestationSCA', 'EUTaxAfforestationSCM', 'EUTaxAfforestRevAbsolute', 'EUTaxAluminiumDNSH', 'EUTaxAluminiumInvolvement', 'EUTaxAluminiumOverallAlign', 'EUTaxAluminiumOverallAlignM', 'EUTaxAluminiumRevAbsolute', 'EUTaxAluminiumRevenue', 'EUTaxAluminiumSC', 'EUTaxAluminiumSCM', 'EUTaxAnaDigBioWasRevAbsolute', 'EUTaxAnaerDigeBioWasDNSH', 'EUTaxAnaerDigeBioWasInvolvement', 'EUTaxAnaerDigeBioWasOverallAlign', 'EUTaxAnaerDigeBioWasOverallAlignM', 'EUTaxAnaerDigeBioWasRevenue', 'EUTaxAnaerDigeBioWasSC', 'EUTaxAnaerDigeBioWasSCM', 'EUTaxAnaerDigeSewageDNSH', 'EUTaxAnaerDigeSewageInvolvement', 'EUTaxAnaerDigeSewageOverallAlign', 'EUTaxAnaerDigeSewageOverallAlignM', 'EUTaxAnaerDigeSewageRevenue', 'EUTaxAnaerDigeSewageSC', 'EUTaxAnaerDigeSewageSCM', 'EUTaxAnaerDigeSewRevAbsolute', 'EUTaxAnhydrAmmoniaDNSH', 'EUTaxAnhydrAmmoniaInvolvement', 'EUTaxAnhydrAmmoniaOverallAlign', 'EUTaxAnhydrAmmoniaOverallAlignM', 'EUTaxAnhydrAmmoniaRevenue', 'EUTaxAnhydrAmmoniaSC', 'EUTaxAnhydrAmmoniaSCM', 'EUTaxAnhydrAmniaRevAbsolute', 'EUTaxBiofuelfactDNSH', 'EUTaxBiofuelfactInvolvement', 'EUTaxBiofuelfactOverallAlign', 'EUTaxBiofuelfactOverallAlignM', 'EUTaxBiofuelfactRevAbsolute', 'EUTaxBiofuelfactRevenue', 'EUTaxBiofuelfactSC', 'EUTaxBiofuelfactSCM', 'EUTaxBuildAcqOwnRevAbsolute', 'EUTaxBuildingAcqOwnDNSH', 'EUTaxBuildingAcqOwnInvolvement', 'EUTaxBuildingAcqOwnOverallAlign', 'EUTaxBuildingAcqOwnOverallAlignM', 'EUTaxBuildingAcqOwnRevenue', 'EUTaxBuildingAcqOwnSC', 'EUTaxBuildingAcqOwnSCM', 'EUTaxBuildingRenovatDNSH', 'EUTaxBuildingRenovatInvolvement', 'EUTaxBuildingRenovatOverallAlign', 'EUTaxBuildingRenovatOverallAlignM', 'EUTaxBuildingRenovatRevenue', 'EUTaxBuildingRenovatSC', 'EUTaxBuildingRenovatSCM', 'EUTaxBuildRenovatRevAbsolute', 'EUTaxCAERevAbsolute', 'EUTaxCarbonBlackDNSH', 'EUTaxCarbonBlackInvolvement', 'EUTaxCarbonBlackOverallAlign', 'EUTaxCarbonBlackOverallAlignM', 'EUTaxCarbonBlackRevAbsolute', 'EUTaxCarbonBlackRevenue', 'EUTaxCarbonBlackSC', 'EUTaxCarbonBlackSCM', 'EUTaxCCAdaptEngineerDNSH', 'EUTaxCCAdaptEngineerInvolvement', 'EUTaxCCAdaptEngineerOverallAlign', 'EUTaxCCAdaptEngineerOverallAlignA', 'EUTaxCCAdaptEngineerRevenue', 'EUTaxCCAdaptEngineerSC', 'EUTaxCCAdaptEngineerSCA', 'EUTaxCCAdaptEngRevAbsolute', 'EUTaxCementfactDNSH', 'EUTaxCementfactInvolvement', 'EUTaxCementfactOverallAlign', 'EUTaxCementfactOverallAlignM', 'EUTaxCementfactRevAbsolute', 'EUTaxCementfactRevenue', 'EUTaxCementfactSC', 'EUTaxCementfactSCM', 'EUTaxChlorineDNSH', 'EUTaxChlorineInvolvement', 'EUTaxChlorineOverallAlign', 'EUTaxChlorineOverallAlignM', 'EUTaxChlorineRevAbsolute', 'EUTaxChlorineRevenue', 'EUTaxChlorineSC', 'EUTaxChlorineSCM', 'EUTaxCO2TransportDNSH', 'EUTaxCO2TransportInvolvement', 'EUTaxCO2TransportOverallAlign', 'EUTaxCO2TransportOverallAlignM', 'EUTaxCO2TransportRevAbsolute', 'EUTaxCO2TransportRevenue', 'EUTaxCO2TransportSC', 'EUTaxCO2TransportSCM', 'EUTaxCogenBioenergyDNSH', 'EUTaxCogenBioenergyInvolvement', 'EUTaxCogenBioenergyOverallAlign', 'EUTaxCogenBioenergyOverallAlignM', 'EUTaxCogenBioenergyRevenue', 'EUTaxCogenBioenergySC', 'EUTaxCogenBioenergySCM', 'EUTaxCogenBioenRevAbsolute', 'EUTaxCogenConSolPowDNSH', 'EUTaxCogenConSolPowInvolvement', 'EUTaxCogenConSolPowOverallAlign', 'EUTaxCogenConSolPowOverallAlignM', 'EUTaxCogenConSolPowRevenue', 'EUTaxCogenConSolPowSC', 'EUTaxCogenConSolPowSCM', 'EUTaxCogenConSolRevAbsolute', 'EUTaxCogenerationGasDNSH', 'EUTaxCogenerationGasInvolvement', 'EUTaxCogenerationGasOverallAlign', 'EUTaxCogenerationGasOverallAlignM', 'EUTaxCogenerationGasRevenue', 'EUTaxCogenerationGasSC', 'EUTaxCogenerationGasSCM', 'EUTaxCogenGasRevAbsolute', 'EUTaxCogenGeoRevAbsolute', 'EUTaxCogenGeothermDNSH', 'EUTaxCogenGeothermInvolvement', 'EUTaxCogenGeothermOverallAlign', 'EUTaxCogenGeothermOverallAlignM', 'EUTaxCogenGeothermRevenue', 'EUTaxCogenGeothermSC', 'EUTaxCogenGeothermSCM', 'EUTaxCompanyType', 'EUTaxCompBioWasteRevAbsolute', 'EUTaxCompostBioWasteDNSH', 'EUTaxCompostBioWasteInvolvement', 'EUTaxCompostBioWasteOverallAlign', 'EUTaxCompostBioWasteOverallAlignM', 'EUTaxCompostBioWasteRevenue', 'EUTaxCompostBioWasteSC', 'EUTaxCompostBioWasteSCM', 'EUTaxComputerProgramConsultDNSH', 'EUTaxComputerProgramConsultInvolvement', 'EUTaxComputerProgramConsultOverallAlign', 'EUTaxComputerProgramConsultOverallAlignM', 'EUTaxComputerProgramConsultRevenue', 'EUTaxComputerProgramConsultSC', 'EUTaxComputerProgramConsultSCM', 'EUTaxConservationForestDNSH', 'EUTaxConservationForestInvolv', 'EUTaxConservationForestRevenue', 'EUTaxConservationForestSC', 'EUTaxConservationForestSCA', 'EUTaxConservationForestSCM', 'EUTaxConservForestOverallAlign', 'EUTaxConservForestOverallAlignA', 'EUTaxConservForestOverallAlignM', 'EUTaxConservForRevAbsolute', 'EUTaxConsNewBuildingDNSH', 'EUTaxConsNewBuildingInvolvement', 'EUTaxConsNewBuildingOverallAlign', 'EUTaxConsNewBuildingOverallAlignM', 'EUTaxConsNewBuildingRevenue', 'EUTaxConsNewBuildingSC', 'EUTaxConsNewBuildingSCM', 'EUTaxConsNewBuildRevAbsolute', 'EUTaxCreativeArtsEntertainctivDNSH', 'EUTaxCreativeArtsEntertainctivInvolvement', 'EUTaxCreativeArtsEntertainctivOverallAlign', 'EUTaxCreativeArtsEntertainctivOverallAlignA', 'EUTaxCreativeArtsEntertainctivRevenue', 'EUTaxCreativeArtsEntertainctivSC', 'EUTaxCreativeArtsEntertainctivSCA', 'EUTaxDataDrCCMonRevAbsolute', 'EUTaxDataDrivCCMonitDNSH', 'EUTaxDataDrivCCMonitInvolvement', 'EUTaxDataDrivCCMonitOverallAlign', 'EUTaxDataDrivCCMonitOverallAlignM', 'EUTaxDataDrivCCMonitRevenue', 'EUTaxDataDrivCCMonitSC', 'EUTaxDataDrivCCMonitSCM', 'EUTaxDataProcessHostDNSH', 'EUTaxDataProcessHostInvolvement', 'EUTaxDataProcessHostOverallAlign', 'EUTaxDataProcessHostOverallAlignM', 'EUTaxDataProcessHostRevenue', 'EUTaxDataProcessHostSC', 'EUTaxDataProcessHostSCM', 'EUTaxDataProcHostRevAbsolute', 'EUTaxDataSource', 'EUTaxDataYear', 'EUTaxDisodiumCarbDNSH', 'EUTaxDisodiumCarbInvolvement', 'EUTaxDisodiumCarbOverallAlig', 'EUTaxDisodiumCarbOverallAligM', 'EUTaxDisodiumCarbRevAbsolute', 'EUTaxDisodiumCarbRevenue', 'EUTaxDisodiumCarbSC', 'EUTaxDisodiumCarbSCM', 'EUTaxDistrHeatClRevAbsolute', 'EUTaxDistrHeatCoolDNSH', 'EUTaxDistrHeatCoolInvolvement', 'EUTaxDistrHeatCoolOverallAlign', 'EUTaxDistrHeatCoolOverallAlignM', 'EUTaxDistrHeatCoolRevenue', 'EUTaxDistrHeatCoolSC', 'EUTaxDistrHeatCoolSCM', 'EUTaxDNSHLowestOutcome', 'EUTaxEducationDNSH', 'EUTaxEducationInvolvement', 'EUTaxEducationOverallAlign', 'EUTaxEducationOverallAlignA', 'EUTaxEducationRevAbsolute', 'EUTaxEducationRevenue', 'EUTaxEducationSC', 'EUTaxEducationSCA', 'EUTaxElecBioenCapExAbsolute', 'EUTaxElecBioenCapExOverAlignA', 'EUTaxElecBioenCapExOverAlignM', 'EUTaxElecBioenCapExSCA', 'EUTaxElecBioenCapExSCM', 'EUTaxElecBioenRevAbsolute', 'EUTaxElecHeatPumpRevAbsolute', 'EUTaxElecHydropowCapExAbsolute', 'EUTaxElecHydropowCapExOverAlignA', 'EUTaxElecHydropowCapExOverAlignM', 'EUTaxElecHydropowCapExSCA', 'EUTaxElecHydropowCapExSCM', 'EUTaxElecHydropowRevAbsolute', 'EUTaxElecOceanEnCapExAbsolute', 'EUTaxElecOceanEnCapExOverAlignA', 'EUTaxElecOceanEnCapExOverAlignM', 'EUTaxElecOceanEnCapExSCA', 'EUTaxElecOceanEnCapExSCM', 'EUTaxElecOceanEnRevAbsolute', 'EUTaxElecProdBioenerDNSH', 'EUTaxElecProdBioenerInvolvement', 'EUTaxElecProdBioenerOverallAlign', 'EUTaxElecProdBioenerOverallAlignM', 'EUTaxElecProdBioenerRevenue', 'EUTaxElecProdBioenerSC', 'EUTaxElecProdBioenerSCM', 'EUTaxElecProdCSPCapExAbsolute', 'EUTaxElecProdCSPCapExOverAlignA', 'EUTaxElecProdCSPCapExOverAlignM', 'EUTaxElecProdCSPCapExSCA', 'EUTaxElecProdCSPCapExSCM', 'EUTaxElecProdCSPRevAbsolute', 'EUTaxElecProdGasCapExAbsolute', 'EUTaxElecProdGasCapExOverAlignA', 'EUTaxElecProdGasCapExOverAlignM', 'EUTaxElecProdGasCapExSCA', 'EUTaxElecProdGasCapExSCM', 'EUTaxElecProdGasDNSH', 'EUTaxElecProdGasInvolvement', 'EUTaxElecProdGasOverallAlign', 'EUTaxElecProdGasOverallAlignM', 'EUTaxElecProdGasRevAbsolute', 'EUTaxElecProdGasRevenue', 'EUTaxElecProdGasSC', 'EUTaxElecProdGasSCM', 'EUTaxElecProdHydroDNSH', 'EUTaxElecProdHydroInvolvement', 'EUTaxElecProdHydroOverallAlign', 'EUTaxElecProdHydroOverallAlignM', 'EUTaxElecProdHydroRevenue', 'EUTaxElecProdHydroSC', 'EUTaxElecProdHydroSCM', 'EUTaxElecProdOceanEnergyDNSH', 'EUTaxElecProdOceanEnergyRevenue', 'EUTaxElecProdOceanEnergySC', 'EUTaxElecProdOceanEnergySCM', 'EUTaxElecProdOceanEnInvolvement', 'EUTaxElecProdOceanEnOverallAlign', 'EUTaxElecProdOceanEnOverallAlignM', 'EUTaxElecProdPVCapExAbsolute', 'EUTaxElecProdPVCapExOverAlignA', 'EUTaxElecProdPVCapExOverAlignM', 'EUTaxElecProdPVCapExSCA', 'EUTaxElecProdPVCapExSCM', 'EUTaxElecProdPVRevAbsolute', 'EUTaxElecProdSolarPVDNSH', 'EUTaxElecProdSolarPVInvolvement', 'EUTaxElecProdSolarPVOverallAlign', 'EUTaxElecProdSolarPVOverallAlignM', 'EUTaxElecProdSolarPVRevenue', 'EUTaxElecProdSolarPVSC', 'EUTaxElecProdSolarPVSCM', 'EUTaxElecProdWindPowDNSH', 'EUTaxElecProdWindPowInvolvement', 'EUTaxElecProdWindPowOverallAlign', 'EUTaxElecProdWindPowOverallAlignM', 'EUTaxElecProdWindPowRevenue', 'EUTaxElecProdWindPowSC', 'EUTaxElecProdWindPowSCM', 'EUTaxElecStorRevAbsolute', 'EUTaxElecTranDisRevAbsolute', 'EUTaxElecTransmDistrDNSH', 'EUTaxElecTransmDistrInvolvement', 'EUTaxElecTransmDistrOverallAlign', 'EUTaxElecTransmDistrOverallAlignM', 'EUTaxElecTransmDistrRevenue', 'EUTaxElecTransmDistrSC', 'EUTaxElecTransmDistrSCM', 'EUTaxElectrHeatPumpDNSH', 'EUTaxElectrHeatPumpInvolvement', 'EUTaxElectrHeatPumpOverallAlign', 'EUTaxElectrHeatPumpOverallAlignM', 'EUTaxElectrHeatPumpRevenue', 'EUTaxElectrHeatPumpSC', 'EUTaxElectrHeatPumpSCM', 'EUTaxElectricityBioenergyCapEx', 'EUTaxElectricityBioenergyCapExDNSH', 'EUTaxElectricityBioenergyCapExInvolv', 'EUTaxElectricityBioenergyCapExOverAlign', 'EUTaxElectricityBioenergyCapExSC', 'EUTaxElectricityFossilGasCapEx', 'EUTaxElectricityFossilGasCapExDNSH', 'EUTaxElectricityFossilGasCapExInvolv', 'EUTaxElectricityFossilGasCapExOverAlign', 'EUTaxElectricityFossilGasCapExSC', 'EUTaxElectricityGenCSPCapEx', 'EUTaxElectricityGenCSPCapExDNSH', 'EUTaxElectricityGenCSPCapExInvolv', 'EUTaxElectricityGenCSPCapExOverAlign', 'EUTaxElectricityGenCSPCapExSC', 'EUTaxElectricityGenSolarPhotoCapEx', 'EUTaxElectricityGenSolarPhotoCapExDNSH', 'EUTaxElectricityGenSolarPhotoCapExInvolv', 'EUTaxElectricityGenSolarPhotoCapExOverAlign', 'EUTaxElectricityGenSolarPhotoCapExSC', 'EUTaxElectricityGeothermalCapEx', 'EUTaxElectricityGeothermalCapExDNSH', 'EUTaxElectricityGeothermalCapExInvolv', 'EUTaxElectricityGeothermalCapExOverAlign', 'EUTaxElectricityGeothermalCapExSC', 'EUTaxElectricityHydropowerCapEx', 'EUTaxElectricityHydropowerCapExDNSH', 'EUTaxElectricityHydropowerCapExInvolv', 'EUTaxElectricityHydropowerCapExOverAlign', 'EUTaxElectricityHydropowerCapExSC', 'EUTaxElectricityOceanEnergyCapEx', 'EUTaxElectricityOceanEnergyCapExDNSH', 'EUTaxElectricityOceanEnergyCapExInvolv', 'EUTaxElectricityOceanEnergyCapExOverAlign', 'EUTaxElectricityOceanEnergyCapExSC', 'EUTaxElectricityRenewGasLiquidCapEx', 'EUTaxElectricityRenewGasLiquidCapExDNSH', 'EUTaxElectricityRenewGasLiquidCapExInvolv', 'EUTaxElectricityRenewGasLiquidCapExOverAlign', 'EUTaxElectricityRenewGasLiquidCapExSC', 'EUTaxElectricityWindPowerCapEx', 'EUTaxElectricityWindPowerCapExDNSH', 'EUTaxElectricityWindPowerCapExInvolv', 'EUTaxElectricityWindPowerCapExOverAlign', 'EUTaxElectricityWindPowerCapExSC', 'EUTaxElectricStorageDNSH', 'EUTaxElectricStorageInvolvement', 'EUTaxElectricStorageOverallAlign', 'EUTaxElectricStorageOverallAlignM', 'EUTaxElectricStorageRevenue', 'EUTaxElectricStorageSC', 'EUTaxElectricStorageSCM', 'EUTaxElecWindPowCapExAbsolute', 'EUTaxElecWindPowCapExOverAlignA', 'EUTaxElecWindPowCapExOverAlignM', 'EUTaxElecWindPowCapExSCA', 'EUTaxElecWindPowCapExSCM', 'EUTaxElecWindPowRevAbsolute', 'EUTaxEligibleCapexActivOverview', 'EUTaxEligibleCapExInvolvement', 'EUTaxEligibleNLInsuPrem', 'EUTaxEligibleNLInsuPremAbs', 'EUTaxEligibleOpExActityInvolv', 'EUTaxElProdConSolPowDNSH', 'EUTaxElProdConSolPowInvolvement', 'EUTaxElProdConSolPowOverallAlign', 'EUTaxElProdConSolPowOverallAlignM', 'EUTaxElProdConSolPowRevenue', 'EUTaxElProdConSolPowSC', 'EUTaxElProdConSolPowSCM', 'EUTaxElProdGeothermDNSH', 'EUTaxElProdGeothermInvolvement', 'EUTaxElProdGeothermOverallAlign', 'EUTaxElProdGeothermOverallAlignM', 'EUTaxElProdGeothermRevenue', 'EUTaxElProdGeothermSC', 'EUTaxElProdGeothermSCM', 'EUTaxElProdGeOthmCapExAbsolute', 'EUTaxElProdGeOthmCapExOverAlignA', 'EUTaxElProdGeOthmCapExOverAlignM', 'EUTaxElProdGeOthmCapExSCA', 'EUTaxElProdGeOthmCapExSCM', 'EUTaxElProdGeOthmRevAbsolute', 'EUTaxEnEfficEquipRevAbsolute', 'EUTaxEnergyEfficiencyEquipDNSH', 'EUTaxEnergyEfficiencyEquipInvolvem', 'EUTaxEnergyEfficiencyEquipOverallAlign', 'EUTaxEnergyEfficiencyEquipOverallAlignM', 'EUTaxEnergyEfficiencyEquipRevenue', 'EUTaxEnergyEfficiencyEquipSC', 'EUTaxEnergyEfficiencyEquipSCM', 'EUTaxExpDerivatives', 'EUTaxExpDerivativesAbs', 'EUTaxExpEligibleAsCapEx', 'EUTaxExpEligibleAsCapExAbs', 'EUTaxExpEligibleAsRev', 'EUTaxExpEligibleAsRevAbs', 'EUTaxExpNonEligibleAsCapEx', 'EUTaxExpNonEligibleAsCapExAbs', 'EUTaxExpNonEligibleAsRev', 'EUTaxExpNonEligibleAsRevAbs', 'EUTaxExpNonNFRD', 'EUTaxExpNonNFRDAbs', 'EUTaxExpSovereign', 'EUTaxExpSovereignAbs', 'EUTaxFreightRailDNSH', 'EUTaxFreightRailInvolvement', 'EUTaxFreightRailOverallAlign', 'EUTaxFreightRailOverallAlignM', 'EUTaxFreightRailRevenue', 'EUTaxFreightRailSC', 'EUTaxFreightRailSCM', 'EUTaxFreightTranRoadDNSH', 'EUTaxFreightTranRoadInvolvement', 'EUTaxFreightTranRoadOverallAlign', 'EUTaxFreightTranRoadOverallAlignM', 'EUTaxFreightTranRoadRevenue', 'EUTaxFreightTranRoadSC', 'EUTaxFreightTranRoadSCM', 'EUTaxFreighWaterTranDNSH', 'EUTaxFreighWaterTranInvolvement', 'EUTaxFreighWaterTranOverallAlign', 'EUTaxFreighWaterTranOverallAlignM', 'EUTaxFreighWaterTranRevenue', 'EUTaxFreighWaterTranSC', 'EUTaxFreighWaterTranSCM', 'EUTaxFreiWatTranRevAbsolute', 'EUTaxFreRailRevAbsolute', 'EUTaxFreTranRoadRevAbsolute', 'EUTaxGasElecGenCapExAbsolute', 'EUTaxGasElecGenCapExOverAlignA', 'EUTaxGasElecGenCapExOverAlignM', 'EUTaxGasElecGenCapExSCA', 'EUTaxGasElecGenCapExSCM', 'EUTaxGasElecGenRevAbsolute', 'EUTaxGasElectricityGenDNSH', 'EUTaxGasElectricityGenInvolvement', 'EUTaxGasElectricityGenOverallAlign', 'EUTaxGasElectricityGenOverallAlignM', 'EUTaxGasElectricityGenRevenue', 'EUTaxGasElectricityGenSC', 'EUTaxGasElectricityGenSCM', 'EUTaxGasHeatCoolRevAbsolute', 'EUTaxGasHEfCoGenRevAbsolute', 'EUTaxGasHighEffCoGenHCPDNSH', 'EUTaxGasHighEffCoGenHCPInvolvement', 'EUTaxGasHighEffCoGenHCPOverallAlign', 'EUTaxGasHighEffCoGenHCPOverallAlignM', 'EUTaxGasHighEffCoGenHCPRevenue', 'EUTaxGasHighEffCoGenHCPSC', 'EUTaxGasHighEffCoGenHCPSCM', 'EUTaxGasProdHeatCoolDNSH', 'EUTaxGasProdHeatCoolInvolvement', 'EUTaxGasProdHeatCoolOverallAlign', 'EUTaxGasProdHeatCoolOverallAlignM', 'EUTaxGasProdHeatCoolRevenue', 'EUTaxGasProdHeatCoolSC', 'EUTaxGasProdHeatCoolSCM', 'EUTaxHeatClBioenRevAbsolute', 'EUTaxHeatClGasRevAbsolute', 'EUTaxHeatClGeOthRevAbsolute', 'EUTaxHeatClWasteRevAbsolute', 'EUTaxHeatCoConSolPowDNSH', 'EUTaxHeatCoConSolPowInvolvement', 'EUTaxHeatCoConSolPowOverallAlign', 'EUTaxHeatCoConSolPowOverallAlignM', 'EUTaxHeatCoConSolPowRevenue', 'EUTaxHeatCoConSolPowSC', 'EUTaxHeatCoConSolPowSCM', 'EUTaxHeatCoolBioenerDNSH', 'EUTaxHeatCoolBioenerInvolvement', 'EUTaxHeatCoolBioenerOverallAlign', 'EUTaxHeatCoolBioenerOverallAlignM', 'EUTaxHeatCoolBioenerRevenue', 'EUTaxHeatCoolBioenerSC', 'EUTaxHeatCoolBioenerSCM', 'EUTaxHeatCoolCSPRevAbsolute', 'EUTaxHeatCoolGasDNSH', 'EUTaxHeatCoolGasInvolvement', 'EUTaxHeatCoolGasOverallAlign', 'EUTaxHeatCoolGasOverallAlignM', 'EUTaxHeatCoolGasRevenue', 'EUTaxHeatCoolGasSC', 'EUTaxHeatCoolGasSCM', 'EUTaxHeatCoolGeotherDNSH', 'EUTaxHeatCoolGeotherInvolvement', 'EUTaxHeatCoolGeotherOverallAlign', 'EUTaxHeatCoolGeotherOverallAlignM', 'EUTaxHeatCoolGeotherRevenue', 'EUTaxHeatCoolGeotherSC', 'EUTaxHeatCoolGeotherSCM', 'EUTaxHeatCoolWasteDNSH', 'EUTaxHeatCoolWasteInvolvement', 'EUTaxHeatCoolWasteOverallAlign', 'EUTaxHeatCoolWasteOverallAlignM', 'EUTaxHeatCoolWasteRevenue', 'EUTaxHeatCoolWasteSC', 'EUTaxHeatCoolWasteSCM', 'EUTaxHumanHealthSocialWorkActivDNSH', 'EUTaxHumanHealthSocialWorkActivInvolvement', 'EUTaxHumanHealthSocialWorkActivOverallAlign', 'EUTaxHumanHealthSocialWorkActivOverallAlignM', 'EUTaxHumanHealthSocialWorkActivRevenue', 'EUTaxHumanHealthSocialWorkActivSC', 'EUTaxHumanHealthSocialWorkActivSCM', 'EUTaxHydrogenDNSH', 'EUTaxHydrogenInvolvement', 'EUTaxHydrogenOverallAlign', 'EUTaxHydrogenOverallAlignM', 'EUTaxHydrogenRevenue', 'EUTaxHydrogenSC', 'EUTaxHydrogenSCM', 'EUTaxHydrogenStorageDNSH', 'EUTaxHydrogenStorageInvolvement', 'EUTaxHydrogenStorageOverallAlign', 'EUTaxHydrogenStorageOverallAlignM', 'EUTaxHydrogenStorageRevenue', 'EUTaxHydrogenStorageSC', 'EUTaxHydrogenStorageSCM', 'EUTaxHydrogRevAbsolute', 'EUTaxHydrogStorRevAbsolute', 'EUTaxImpForestManagementDNSH', 'EUTaxImpForestManagementInvolvement', 'EUTaxImpForestManagementRevenue', 'EUTaxImpForestManagementSC', 'EUTaxImpForestManagementSCA', 'EUTaxImpForestManagementSCM', 'EUTaxImpForestManagemOverallAlign', 'EUTaxImpForestManagemOverallAlignA', 'EUTaxImpForestManagemOverallAlignM', 'EUTaxImpForestManRevAbsolute', 'EUTaxInfEnablLCRTRevAbsolute', 'EUTaxInfLowCbnAptRevAbsolute', 'EUTaxInfraEnablingLowCarbonRoadTransDNSH', 'EUTaxInfraEnablingLowCarbonRoadTransInvolvement', 'EUTaxInfraEnablingLowCarbonRoadTransOverallAlign', 'EUTaxInfraEnablingLowCarbonRoadTransOverallAlignM', 'EUTaxInfraEnablingLowCarbonRoadTransRevenue', 'EUTaxInfraEnablingLowCarbonRoadTransSC', 'EUTaxInfraEnablingLowCarbonRoadTransSCM', 'EUTaxInfRailTranRevAbsolute', 'EUTaxInfraLowCarbonAirportDNSH', 'EUTaxInfraLowCarbonAirportInvolvement', 'EUTaxInfraLowCarbonAirportOverallAlign', 'EUTaxInfraLowCarbonAirportOverallAlignM', 'EUTaxInfraLowCarbonAirportRevenue', 'EUTaxInfraLowCarbonAirportSC', 'EUTaxInfraLowCarbonAirportSCM', 'EUTaxInfraPersMCLRevAbsolute', 'EUTaxInfraPersonalMobilCycleLogisticsDNSH', 'EUTaxInfraPersonalMobilCycleLogisticsInvolvement', 'EUTaxInfraPersonalMobilCycleLogisticsOverallAlign', 'EUTaxInfraPersonalMobilCycleLogisticsOverallAlignM', 'EUTaxInfraPersonalMobilCycleLogisticsRevenue', 'EUTaxInfraPersonalMobilCycleLogisticsSC', 'EUTaxInfraPersonalMobilCycleLogisticsSCM', 'EUTaxInfraRailTransDNSH', 'EUTaxInfraRailTransInvolvement', 'EUTaxInfraRailTransOverallAlign', 'EUTaxInfraRailTransOverallAlignM', 'EUTaxInfraRailTransRevenue', 'EUTaxInfraRailTransSC', 'EUTaxInfraRailTransSCM', 'EUTaxInMnEnEffEqRevAbsolute', 'EUTaxInMnEVChStRevAbsolute', 'EUTaxInMnInstrDevRevAbsolute', 'EUTaxInMnRenewEnRevAbsolute', 'EUTaxInstalMainChargingStationsDNSH', 'EUTaxInstalMainChargingStationsInvolvement', 'EUTaxInstalMainChargingStationsOverallAlign', 'EUTaxInstalMainChargingStationsOverallAlignM', 'EUTaxInstalMainChargingStationsRevenue', 'EUTaxInstalMainChargingStationsSC', 'EUTaxInstalMainChargingStationsSCM', 'EUTaxInstalMainEnergyEfficEquipDNSH', 'EUTaxInstalMainEnergyEfficEquipInvolvement', 'EUTaxInstalMainEnergyEfficEquipOverallAlign', 'EUTaxInstalMainEnergyEfficEquipOverallAlignM', 'EUTaxInstalMainEnergyEfficEquipRevenue', 'EUTaxInstalMainEnergyEfficEquipSC', 'EUTaxInstalMainEnergyEfficEquipSCM', 'EUTaxInstalMainInstrumentsDevicesDNSH', 'EUTaxInstalMainInstrumentsDevicesInvolvement', 'EUTaxInstalMainInstrumentsDevicesOverallAlign', 'EUTaxInstalMainInstrumentsDevicesOverallAlignM', 'EUTaxInstalMainInstrumentsDevicesRevenue', 'EUTaxInstalMainInstrumentsDevicesSC', 'EUTaxInstalMainInstrumentsDevicesSCM', 'EUTaxInstalMainRenewableEnergyDNSH', 'EUTaxInstalMainRenewableEnergyInvolvement', 'EUTaxInstalMainRenewableEnergyOverallAlign', 'EUTaxInstalMainRenewableEnergyOverallAlignM', 'EUTaxInstalMainRenewableEnergyRevenue', 'EUTaxInstalMainRenewableEnergySC', 'EUTaxInstalMainRenewableEnergySCM', 'EUTaxIntbankloan', 'EUTaxIntbankloanAbs', 'EUTaxInterurbTranspDNSH', 'EUTaxInterurbTranspInvolvement', 'EUTaxInterurbTranspOverallAlign', 'EUTaxInterurbTranspOverallAlignM', 'EUTaxInterurbTranspRevenue', 'EUTaxInterurbTranspSC', 'EUTaxInterurbTranspSCM', 'EUTaxIronSteelDNSH', 'EUTaxIronSteelInvolvement', 'EUTaxIronSteelOverallAlign', 'EUTaxIronSteelOverallAlignM', 'EUTaxIronSteelRevAbsolute', 'EUTaxIronSteelRevenue', 'EUTaxIronSteelSC', 'EUTaxIronSteelSCM', 'EUTaxLandfillGasCaptDNSH', 'EUTaxLandfillGasCaptInvolvement', 'EUTaxLandfillGasCaptOverallAlign', 'EUTaxLandfillGasCaptOverallAlignM', 'EUTaxLandfillGasCaptRevenue', 'EUTaxLandfillGasCaptSC', 'EUTaxLandfillGasCaptSCM', 'EUTaxLCTOtherDNSH', 'EUTaxLCTOtherInvolvement', 'EUTaxLCTOtherOverallAlign', 'EUTaxLCTOtherOverallAlignM', 'EUTaxLCTOtherRevAbsolute', 'EUTaxLCTOtherRevenue', 'EUTaxLCTOtherSC', 'EUTaxLCTOtherSCM', 'EUTaxLCTTransportDNSH', 'EUTaxLCTTransportInvolvement', 'EUTaxLCTTransportOverallAlign', 'EUTaxLCTTransportOverallAlignM', 'EUTaxLCTTransportRevAbsolute', 'EUTaxLCTTransportRevenue', 'EUTaxLCTTransportSC', 'EUTaxLCTTransportSCM', 'EUTaxLibrariesMuseumsCulturalActivDNSH', 'EUTaxLibrariesMuseumsCulturalActivInvolvement', 'EUTaxLibrariesMuseumsCulturalActivOverallAlign', 'EUTaxLibrariesMuseumsCulturalActivOverallAlignA', 'EUTaxLibrariesMuseumsCulturalActivRevenue', 'EUTaxLibrariesMuseumsCulturalActivSC', 'EUTaxLibrariesMuseumsCulturalActivSCA', 'EUTaxLivestockProdDNSH', 'EUTaxLivestockProdInvolvement', 'EUTaxLivestockProdOverallAlign', 'EUTaxLivestockProdOverallAlignM', 'EUTaxLivestockProdRevenue', 'EUTaxLivestockProdSC', 'EUTaxLivestockProdSCM', 'EUTaxLMCActivRevAbsolute', 'EUTaxLndFilGaptRevAbsolute', 'EUTaxLowCarbWateTranDNSH', 'EUTaxLowCarbWateTranInvolvement', 'EUTaxLowCarbWateTranOverallAlign', 'EUTaxLowCarbWateTranOverallAlignM', 'EUTaxLowCarbWateTranRevenue', 'EUTaxLowCarbWateTranSC', 'EUTaxLowCarbWateTranSCM', 'EUTaxLowCarbWaTrRevAbsolute', 'EUTaxMaEqProdHydrRevAbsolute', 'EUTaxManuBattsRevAbsolute', 'EUTaxManufactureBatteriesDNSH', 'EUTaxManufactureBatteriesInvolvement', 'EUTaxManufactureBatteriesOverallAlign', 'EUTaxManufactureBatteriesOverallAlignM', 'EUTaxManufactureBatteriesRevenue', 'EUTaxManufactureBatteriesSC', 'EUTaxManufactureBatteriesSCM', 'EUTaxManufactureEquipProdHydrogenDNSH', 'EUTaxManufactureEquipProdHydrogenInvolvement', 'EUTaxManufactureEquipProdHydrogenOverallAlign', 'EUTaxManufactureEquipProdHydrogenOverallAlignM', 'EUTaxManufactureEquipProdHydrogenRevenue', 'EUTaxManufactureEquipProdHydrogenSC', 'EUTaxManufactureEquipProdHydrogenSCM', 'EUTaxMinSafeguardsDDFlag', 'EUTaxMinSocialSafeguards', 'EUTaxMotionPictureTelevisionProgramDNSH', 'EUTaxMotionPictureTelevisionProgramInvolvement', 'EUTaxMotionPictureTelevisionProgramOverallAlign', 'EUTaxMotionPictureTelevisionProgramOverallAlignA', 'EUTaxMotionPictureTelevisionProgramRevenue', 'EUTaxMotionPictureTelevisionProgramSC', 'EUTaxMotionPictureTelevisionProgramSCA', 'EUTaxMotPicTelProRevAbsolute', 'EUTaxNitricAcidDNSH', 'EUTaxNitricAcidInvolvement', 'EUTaxNitricAcidOverallAlign', 'EUTaxNitricAcidOverallAlignM', 'EUTaxNitricAcidRevAbsolute', 'EUTaxNitricAcidRevenue', 'EUTaxNitricAcidSC', 'EUTaxNitricAcidSCM', 'EUTaxNonEligibleNLInsuPrem', 'EUTaxNonEligibleNLInsuPremAbs', 'EUTaxNonHazWastRecovDNSH', 'EUTaxNonHazWastRecovInvolvement', 'EUTaxNonHazWastRecovOverallAlign', 'EUTaxNonHazWastRecovOverallAlignM', 'EUTaxNonHazWastRecovRevenue', 'EUTaxNonHazWastRecovSC', 'EUTaxNonHazWastRecovSCM', 'EUTaxNonHzWastRecRevAbsolute', 'EUTaxNonLifeInsRevAbsolute', 'EUTaxNonLifeInsurancDNSH', 'EUTaxNonLifeInsurancInvolvement', 'EUTaxNonLifeInsurancOverallAlign', 'EUTaxNonLifeInsurancOverallAlignA', 'EUTaxNonLifeInsurancRevenue', 'EUTaxNonLifeInsurancSC', 'EUTaxNonLifeInsurancSCA', 'EUTaxNonPerennCropsOverallAlign', 'EUTaxNonPerennCropsOverallAlignM', 'EUTaxNonPerennialCropsDNSH', 'EUTaxNonPerennialCropsInvolv', 'EUTaxNonPerennialCropsRevenue', 'EUTaxNonPerennialCropsSC', 'EUTaxNonPerennialCropsSCM', 'EUTaxNucConsNewRevAbsolute', 'EUTaxNucElecGenRevAbsolute', 'EUTaxNuclearConstrNewPlantsDNSH', 'EUTaxNuclearConstrNewPlantsInvolvement', 'EUTaxNuclearConstrNewPlantsOverallAlign', 'EUTaxNuclearConstrNewPlantsOverallAlignM', 'EUTaxNuclearConstrNewPlantsRevenue', 'EUTaxNuclearConstrNewPlantsSC', 'EUTaxNuclearConstrNewPlantsSCM', 'EUTaxNuclearElectricityGenDNSH', 'EUTaxNuclearElectricityGenInvolvement', 'EUTaxNuclearElectricityGenOverallAlign', 'EUTaxNuclearElectricityGenOverallAlignM', 'EUTaxNuclearElectricityGenRevenue', 'EUTaxNuclearElectricityGenSC', 'EUTaxNuclearElectricityGenSCM', 'EUTaxNuclearPreCommFuelCycleDNSH', 'EUTaxNuclearPreCommFuelCycleInvolvement', 'EUTaxNuclearPreCommFuelCycleOverallAlign', 'EUTaxNuclearPreCommFuelCycleOverallAlignM', 'EUTaxNuclearPreCommFuelCycleRevenue', 'EUTaxNuclearPreCommFuelCycleSC', 'EUTaxNuclearPreCommFuelCycleSCM', 'EUTaxNucPreComCycRevAbsolute', 'EUTaxOperationPersonalMobilDevicesDNSH', 'EUTaxOperationPersonalMobilDevicesInvolvement', 'EUTaxOperationPersonalMobilDevicesOverallAlign', 'EUTaxOperationPersonalMobilDevicesOverallAlignM', 'EUTaxOperationPersonalMobilDevicesRevenue', 'EUTaxOperationPersonalMobilDevicesSC', 'EUTaxOperationPersonalMobilDevicesSCM', 'EUTaxOpPersMobDevRevAbsolute', 'EUTaxOtherOrgBasChemDNSH', 'EUTaxOtherOrgBasChemInvolvement', 'EUTaxOtherOrgBasChemOverallAlign', 'EUTaxOtherOrgBasChemOverallAlignM', 'EUTaxOtherOrgBasChemRevenue', 'EUTaxOtherOrgBasChemSC', 'EUTaxOtherOrgBasChemSCM', 'EUTaxOthOrBChemRevAbsolute', 'EUTaxPasrsComRevAbsolute', 'EUTaxPassCarsCommercDNSH', 'EUTaxPassCarsCommercInvolvement', 'EUTaxPassCarsCommercOverallAlign', 'EUTaxPassCarsCommercOverallAlignM', 'EUTaxPassCarsCommercRevenue', 'EUTaxPassCarsCommercSC', 'EUTaxPassCarsCommercSCM', 'EUTaxPassengerRailDNSH', 'EUTaxPassengerRailInvolvement', 'EUTaxPassengerRailOverallAlign', 'EUTaxPassengerRailOverallAlignM', 'EUTaxPassengerRailRevenue', 'EUTaxPassengerRailSC', 'EUTaxPassengerRailSCM', 'EUTaxPassRailRevAbsolute', 'EUTaxPassWaterTranspDNSH', 'EUTaxPassWaterTranspInvolvement', 'EUTaxPassWaterTranspOverallAlign', 'EUTaxPassWaterTranspOverallAlignM', 'EUTaxPassWaterTranspRevenue', 'EUTaxPassWaterTranspSC', 'EUTaxPassWaterTranspSCM', 'EUTaxPassWatTransRevAbsolute', 'EUTaxPerennialCropsDNSH', 'EUTaxPerennialCropsInvolvement', 'EUTaxPerennialCropsOverallAlign', 'EUTaxPerennialCropsOverallAlignM', 'EUTaxPerennialCropsRevenue', 'EUTaxPerennialCropsSC', 'EUTaxPerennialCropsSCM', 'EUTaxPermCO2SeqRevAbsolute', 'EUTaxPermCO2SequestrDNSH', 'EUTaxPermCO2SequestrInvolvement', 'EUTaxPermCO2SequestrOverallAlign', 'EUTaxPermCO2SequestrOverallAlignM', 'EUTaxPermCO2SequestrRevenue', 'EUTaxPermCO2SequestrSC', 'EUTaxPermCO2SequestrSCM', 'EUTaxPlasticsPrimaryDNSH', 'EUTaxPlasticsPrimaryInvolvement', 'EUTaxPlasticsPrimaryOverallAlign', 'EUTaxPlasticsPrimaryOverallAlignM', 'EUTaxPlasticsPrimaryRevenue', 'EUTaxPlasticsPrimarySC', 'EUTaxPlasticsPrimarySCM', 'EUTaxPlasticsPrimRevAbsolute', 'EUTaxProfServicesEnergyPerfBuildDNSH', 'EUTaxProfServicesEnergyPerfBuildInvolvement', 'EUTaxProfServicesEnergyPerfBuildOverallAlign', 'EUTaxProfServicesEnergyPerfBuildOverallAlignM', 'EUTaxProfServicesEnergyPerfBuildRevenue', 'EUTaxProfServicesEnergyPerfBuildSC', 'EUTaxProfServicesEnergyPerfBuildSCM', 'EUTaxProgBrdActRevAbsolute', 'EUTaxProgramBroadcastingActivDNSH', 'EUTaxProgramBroadcastingActivInvolvement', 'EUTaxProgramBroadcastingActivOverallAlign', 'EUTaxProgramBroadcastingActivOverallAlignA', 'EUTaxProgramBroadcastingActivRevenue', 'EUTaxProgramBroadcastingActivSC', 'EUTaxProgramBroadcastingActivSCA', 'EUTaxPSEnPerfBldRevAbsolute', 'EUTaxRDCloseToMktOverallAlignA', 'EUTaxRDCloseToMktRevAbsolute', 'EUTaxRDCloseToMktSCA', 'EUTaxRDDAirCaptRevAbsolute', 'EUTaxReforestationDNSH', 'EUTaxReforestationInvolvement', 'EUTaxReforestationOverallAlign', 'EUTaxReforestationOverallAlignM', 'EUTaxReforestationRevenue', 'EUTaxReforestationSC', 'EUTaxReforestationSCM', 'EUTaxRehabilitationDNSH', 'EUTaxRehabilitationInvolvement', 'EUTaxRehabilitationOverallAlign', 'EUTaxRehabilitationOverallAlignA', 'EUTaxRehabilitationOverallAlignM', 'EUTaxRehabilitationRevenue', 'EUTaxRehabilitationSC', 'EUTaxRehabilitationSCA', 'EUTaxRehabilitationSCM', 'EUTaxRehabRevAbsolute', 'EUTaxReInseRevAbsolute', 'EUTaxReinsuranceDNSH', 'EUTaxReinsuranceInvolvement', 'EUTaxReinsuranceOverallAlign', 'EUTaxReinsuranceOverallAlignA', 'EUTaxReinsuranceRevenue', 'EUTaxReinsuranceSC', 'EUTaxReinsuranceSCA', 'EUTaxEligibleActivityInvolvement', 'EUTaxEligibleRevActivityOverview', 'EUTaxRenewalWasteWaterCollectTreatDNSH', 'EUTaxRenewalWasteWaterCollectTreatInvolvement', 'EUTaxRenewalWasteWaterCollectTreatOverallAlign', 'EUTaxRenewalWasteWaterCollectTreatOverallAlignM', 'EUTaxRenewalWasteWaterCollectTreatRevenue', 'EUTaxRenewalWasteWaterCollectTreatSC', 'EUTaxRenewalWasteWaterCollectTreatSCM', 'EUTaxRenewalWaterCollectTreatDNSH', 'EUTaxRenewalWaterCollectTreatInvolvement', 'EUTaxRenewalWaterCollectTreatOverallAlign', 'EUTaxRenewalWaterCollectTreatOverallAlignM', 'EUTaxRenewalWaterCollectTreatRevenue', 'EUTaxRenewalWaterCollectTreatSC', 'EUTaxRenewalWaterCollectTreatSCM', 'EUTaxRenewEnergyTechDNSH', 'EUTaxRenewEnergyTechInvolvement', 'EUTaxRenewEnergyTechOverallAlign', 'EUTaxRenewEnergyTechOverallAlignM', 'EUTaxRenewEnergyTechRevenue', 'EUTaxRenewEnergyTechSC', 'EUTaxRenewEnergyTechSCM', 'EUTaxRenewEnTechRevAbsolute', 'EUTaxRenWatColTrRevAbsolute', 'EUTaxRenWWColTrRevAbsolute', 'EUTaxResearchDevCloseToMarketDNSH', 'EUTaxResearchDevCloseToMarketInvolvement', 'EUTaxResearchDevCloseToMarketOverallAlign', 'EUTaxResearchDevCloseToMarketOverallAlignM', 'EUTaxResearchDevCloseToMarketRevenue', 'EUTaxResearchDevCloseToMarketSC', 'EUTaxResearchDevCloseToMarketSCM', 'EUTaxResearchDevDirectAirCaptureDNSH', 'EUTaxResearchDevDirectAirCaptureInvolvement', 'EUTaxResearchDevDirectAirCaptureOverallAlign', 'EUTaxResearchDevDirectAirCaptureOverallAlignM', 'EUTaxResearchDevDirectAirCaptureRevenue', 'EUTaxResearchDevDirectAirCaptureSC', 'EUTaxResearchDevDirectAirCaptureSCM', 'EUTaxResidentialCareActivDNSH', 'EUTaxResidentialCareActivInvolvement', 'EUTaxResidentialCareActivOverallAlign', 'EUTaxResidentialCareActivOverallAlignM', 'EUTaxResidentialCareActivRevenue', 'EUTaxResidentialCareActivSC', 'EUTaxResidentialCareActivSCM', 'EUTaxRestorationWetlandsDNSH', 'EUTaxRestorationWetlandsInvolvement', 'EUTaxRestorationWetlandsOverallAlign', 'EUTaxRestorationWetlandsOverallAlignA', 'EUTaxRestorationWetlandsOverallAlignM', 'EUTaxRestorationWetlandsRevenue', 'EUTaxRestorationWetlandsSC', 'EUTaxRestorationWetlandsSCA', 'EUTaxRestorationWetlandsSCM', 'EUTaxRestWetlandsRevAbsolute', 'EUTaxRetroSeaCoastalFreightPassWaterTransDNSH', 'EUTaxRetroSeaCoastalFreightPassWaterTransInvolvement', 'EUTaxRetroSeaCoastalFreightPassWaterTransOverallAlign', 'EUTaxRetroSeaCoastalFreightPassWaterTransOverallAlignM', 'EUTaxRetroSeaCoastalFreightPassWaterTransRevenue', 'EUTaxRetroSeaCoastalFreightPassWaterTransSC', 'EUTaxRetroSeaCoastalFreightPassWaterTransSCM', 'EUTaxRetroWaterPassFreightTransDNSH', 'EUTaxRetroWaterPassFreightTransInvolvement', 'EUTaxRetroWaterPassFreightTransOverallAlign', 'EUTaxRetroWaterPassFreightTransOverallAlignM', 'EUTaxRetroWaterPassFreightTransRevenue', 'EUTaxRetroWaterPassFreightTransSC', 'EUTaxRetroWaterPassFreightTransSCM', 'EUTaxRetWPFrTransRevAbsolute', 'EUTaxRSCFPWaTranRevAbsolute', 'EUTaxSClNonHazWasRevAbsolute', 'EUTaxSeaCoastalFreightWaterTransDNSH', 'EUTaxSeaCoastalFreightWaterTransInvolvement', 'EUTaxSeaCoastalFreightWaterTransOverallAlign', 'EUTaxSeaCoastalFreightWaterTransOverallAlignM', 'EUTaxSeaCoastalFreightWaterTransRevenue', 'EUTaxSeaCoastalFreightWaterTransSC', 'EUTaxSeaCoastalFreightWaterTransSCM', 'EUTaxSeaCoastalPassWaterTransDNSH', 'EUTaxSeaCoastalPassWaterTransInvolvement', 'EUTaxSeaCoastalPassWaterTransOverallAlign', 'EUTaxSeaCoastalPassWaterTransOverallAlignM', 'EUTaxSeaCoastalPassWaterTransRevenue', 'EUTaxSeaCoastalPassWaterTransSC', 'EUTaxSeaCoastalPassWaterTransSCM', 'EUTaxSeaCstFrWaTrRevAbsolute', 'EUTaxSeaCstPaWaTrRevAbsolute', 'EUTaxSepColNonHazWasDNSH', 'EUTaxSepColNonHazWasInvolvement', 'EUTaxSepColNonHazWasOverallAlign', 'EUTaxSepColNonHazWasOverallAlignM', 'EUTaxSepColNonHazWasRevenue', 'EUTaxSepColNonHazWasSC', 'EUTaxSepColNonHazWasSCM', 'EUTaxThermEneStorageDNSH', 'EUTaxThermEneStorageInvolvement', 'EUTaxThermEneStorageOverallAlign', 'EUTaxThermEneStorageOverallAlignM', 'EUTaxThermEneStorageRevenue', 'EUTaxThermEneStorageSC', 'EUTaxThermEneStorageSCM', 'EUTaxThermEneStorRevAbsolute', 'EUTaxTotalAlignedCapEx', 'EUTaxTotalAlignedCapExExNG', 'EUTaxTotalAlignedEnablingRev', 'EUTaxTotalAlignedEnablingRevA', 'EUTaxTotalAlignedEnablingRevM', 'EUTaxTotalAlignedGreenCapEx', 'EUTaxTotalAlignedGreenRevenues', 'EUTaxTotalAlignedGreenRevenuesA', 'EUTaxTotalAlignedGreenRevenuesM', 'EUTaxTotalAlignedRevenues', 'EUTaxTotalAlignedRevenuesA', 'EUTaxTotalAlignedRevenuesAExNG', 'EUTaxTotalAlignedRevenuesExNG', 'EUTaxTotalAlignedRevenuesM', 'EUTaxTotalAlignedRevenuesMExNG', 'EUTaxTotalAlignedTransCapEx', 'EUTaxTotalAlignedTransitionRev', 'EUTaxTotalAlignedTransitionRevA', 'EUTaxTotalAlignedTransitionRevM', 'EUTaxTotalEligibleActivityCapEx', 'EUTaxTotalEligibleActivityCapExExNG', 'EUTaxTotalEligibleActivityGreenCapEx', 'EUTaxTotalEligibleActivityTransCapEx', 'EUTaxTotAlignedCapExA', 'EUTaxTotAlignedCapExAbs', 'EUTaxTotAlignedCapExAExNG', 'EUTaxTotAlignedCapExM', 'EUTaxTotAlignedCapExMExNG', 'EUTaxTotAlignedEnablCapEx', 'EUTaxTotAlignedEnablCapExA', 'EUTaxTotAlignedEnablCapExM', 'EUTaxTotAlignedEnablOpEx', 'EUTaxTotAlignedEnablOpExA', 'EUTaxTotAlignedEnablOpExM', 'EUTaxTotAlignedGreenCapExA', 'EUTaxTotAlignedGreenCapExM', 'EUTaxTotAlignedGreenOpEx', 'EUTaxTotAlignedGreenOpExA', 'EUTaxTotAlignedGreenOpExM', 'EUTaxTotAlignedOpEx', 'EUTaxTotAlignedOpExA', 'EUTaxTotAlignedOpExAbs', 'EUTaxTotAlignedOpExAExNG', 'EUTaxTotAlignedOpExExNG', 'EUTaxTotAlignedOpExM', 'EUTaxTotAlignedOpExMExNG', 'EUTaxTotAlignedRevAbs', 'EUTaxTotAlignedTransCapExA', 'EUTaxTotAlignedTransCapExM', 'EUTaxTotAlignedTransitOpEx', 'EUTaxTotAlignedTransitOpExA', 'EUTaxTotAlignedTransitOpExM', 'EUTaxTotalLikelyAlignedCapEx', 'EUTaxTotalLikelyAlignedCapExExNG', 'EUTaxTotalLikelyAlignedGreenCapEx', 'EUTaxTotalLikelyAlignedGreenRev', 'EUTaxTotalLikelyAlignedGreenRevA', 'EUTaxTotalLikelyAlignedGreenRevM', 'EUTaxTotalLikelyAlignedRevenues', 'EUTaxTotalLikelyAlignedRevenuesA', 'EUTaxTotalLikelyAlignedRevenuesAExNG', 'EUTaxTotalLikelyAlignedRevenuesExNG', 'EUTaxTotalLikelyAlignedRevenuesM', 'EUTaxTotalLikelyAlignedRevenuesMExNG', 'EUTaxTotalLikelyAlignedTransCapEx', 'EUTaxTotalLikelyNotAlignedCapEx', 'EUTaxTotalLikelyNotAlignedCapExExNG', 'EUTaxTotalLikelyNotAlignedGreenCapEx', 'EUTaxTotalLikelyNotAlignedRev', 'EUTaxTotalLikelyNotAlignedRevA', 'EUTaxTotalLikelyNotAlignedRevAExNG', 'EUTaxTotalLikelyNotAlignedRevExNG', 'EUTaxTotalLikelyNotAlignedRevM', 'EUTaxTotalLikelyNotAlignedRevMExNG', 'EUTaxTotalLikelyNotAlignedTransCapEx', 'EUTaxTotalNotAlignedCapEx', 'EUTaxTotalNotAlignedCapExExNG', 'EUTaxTotalNotAlignedEnablingRev', 'EUTaxTotalNotAlignedEnablingRevA', 'EUTaxTotalNotAlignedEnablingRevM', 'EUTaxTotalNotAlignedGreenCapEx', 'EUTaxTotalNotAlignedGreenRev', 'EUTaxTotalNotAlignedGreenRevA', 'EUTaxTotalNotAlignedGreenRevM', 'EUTaxTotalNotAlignedRevenues', 'EUTaxTotalNotAlignedRevenuesA', 'EUTaxTotalNotAlignedRevenuesAExNG', 'EUTaxTotalNotAlignedRevenuesExNG', 'EUTaxTotalNotAlignedRevenuesM', 'EUTaxTotalNotAlignedRevenuesMExNG', 'EUTaxTotalNotAlignedTransCapEx', 'EUTaxTotalNotCollectedCapEx', 'EUTaxTotalNotCollectedCapExExNG', 'EUTaxTotalNotCollectedGreenCapEx', 'EUTaxTotalNotCollectedGreenRev', 'EUTaxTotalNotCollectedGreenRevA', 'EUTaxTotalNotCollectedGreenRevM', 'EUTaxTotalNotCollectedRevenues', 'EUTaxTotalNotCollectedRevenuesA', 'EUTaxTotalNotCollectedRevenuesAExNG', 'EUTaxTotalNotCollectedRevenuesExNG', 'EUTaxTotalNotCollectedRevenuesM', 'EUTaxTotalNotCollectedRevenuesMExNG', 'EUTaxTotalNotCollectedTransCapEx', 'EUTaxTotalNotEligibleCapEx', 'EUTaxTotalNotEligibleCapExExNG', 'EUTaxTotalNotEligibleGreenCapEx', 'EUTaxTotalNotEligibleTransCapEx', 'EUTaxTotalNotEligibleEnablingRev', 'EUTaxTotalNotRelevantEnablingRevA', 'EUTaxTotalNotRelevantEnablingRevM', 'EUTaxTotalNotEligibleGreenRev', 'EUTaxTotalNotRelevantGreenRevA', 'EUTaxTotalNotRelevantGreenRevM', 'EUTaxTotalNotEligibleRevenues', 'EUTaxTotalNotRelevantRevenuesA', 'EUTaxTotalNotRelevantRevenuesAExNG', 'EUTaxTotalNotRelevantRevenuesExNG', 'EUTaxTotalNotRelevantRevenuesM', 'EUTaxTotalNotRelevantRevenuesMExNG', 'EUTaxTotalPotentAlignedCapEx', 'EUTaxTotalPotentAlignedCapExExNG', 'EUTaxTotalPotentAlignedGreenCapEx', 'EUTaxTotalPotentAlignedGreenRev', 'EUTaxTotalPotentAlignedGreenRevA', 'EUTaxTotalPotentAlignedGreenRevM', 'EUTaxTotalPotentAlignedRevenues', 'EUTaxTotalPotentAlignedRevenuesA', 'EUTaxTotalPotentAlignedRevenuesAExNG', 'EUTaxTotalPotentAlignedRevenuesExNG', 'EUTaxTotalPotentAlignedRevenuesM', 'EUTaxTotalPotentAlignedRevenuesMExNG', 'EUTaxTotalPotentAlignedTransCapEx', 'EUTaxTotalEligibleActivityEnablRev', 'EUTaxTotalEligibleActivityGreenRev', 'EUTaxTotalEligibleActivityRev', 'EUTaxTotalRelevantActivityRevExNG', 'EUTaxTotalEligibleActivityTransRev', 'EUTaxTotalRelevantEnablingRevA', 'EUTaxTotalRelevantEnablingRevM', 'EUTaxTotalRelevantGreenRevA', 'EUTaxTotalRelevantGreenRevM', 'EUTaxTotalRelevantRevenuesA', 'EUTaxTotalRelevantRevenuesM', 'EUTaxTotCapExAbs', 'EUTaxTotEligibleCapExA', 'EUTaxTotEligibleCapExAbs', 'EUTaxTotEligibleCapExAExNG', 'EUTaxTotEligibleCapExM', 'EUTaxTotEligibleCapExMExNG', 'EUTaxTotEligibleEnablCapEx', 'EUTaxTotEligibleEnablCapExA', 'EUTaxTotEligibleEnablCapExM', 'EUTaxTotEligibleEnablOpEx', 'EUTaxTotEligibleEnablOpExA', 'EUTaxTotEligibleEnablOpExM', 'EUTaxTotEligibleGreenCapExA', 'EUTaxTotEligibleGreenCapExM', 'EUTaxTotEligibleGreenOpEx', 'EUTaxTotEligibleGreenOpExA', 'EUTaxTotEligibleGreenOpExM', 'EUTaxTotEligibleOpEx', 'EUTaxTotEligibleOpExA', 'EUTaxTotEligibleOpExAbs', 'EUTaxTotEligibleOpExAExNG', 'EUTaxTotEligibleOpExExNG', 'EUTaxTotEligibleOpExM', 'EUTaxTotEligibleOpExMExNG', 'EUTaxTotEligibleRevAbs', 'EUTaxTotEligibleRevAExNG', 'EUTaxTotEligibleRevMExNG', 'EUTaxTotEligibleTransCapExA', 'EUTaxTotEligibleTransCapExM', 'EUTaxTotEligibleTransitOpEx', 'EUTaxTotEligibleTransitOpExA', 'EUTaxTotEligibleTransitOpExM', 'EUTaxTotLikelyAlignedCapExM', 'EUTaxTotLikelyAlignedCapExMExNG', 'EUTaxTotLikelyAlignedEnablingRev', 'EUTaxTotLikelyAlignedEnablingRevA', 'EUTaxTotLikelyAlignedEnablingRevM', 'EUTaxTotLikelyAlignedGreenCapExM', 'EUTaxTotLikelyAlignedTransCapExM', 'EUTaxTotLikelyAlignedTransitRev', 'EUTaxTotLikelyAlignedTransitRevA', 'EUTaxTotLikelyAlignedTransitRevM', 'EUTaxTotLikelyNotAligCapExM', 'EUTaxTotLikelyNotAligCapExMExNG', 'EUTaxTotLikelyNotAligGreenCapExM', 'EUTaxTotLikelyNotAlignedEnablRev', 'EUTaxTotLikelyNotAlignedEnablRevA', 'EUTaxTotLikelyNotAlignedEnablRevM', 'EUTaxTotLikelyNotAlignedGreenRev', 'EUTaxTotLikelyNotAlignedGreenRevA', 'EUTaxTotLikelyNotAlignedGreenRevM', 'EUTaxTotLikelyNotAlignedTransRev', 'EUTaxTotLikelyNotAlignedTransRevA', 'EUTaxTotLikelyNotAlignedTransRevM', 'EUTaxTotLikelyNotAligTransCapExM', 'EUTaxTotNotAlignedCapExA', 'EUTaxTotNotAlignedCapExAExNG', 'EUTaxTotNotAlignedCapExM', 'EUTaxTotNotAlignedCapExMExNG', 'EUTaxTotNotAlignedEnablCapEx', 'EUTaxTotNotAlignedEnablCapExA', 'EUTaxTotNotAlignedEnablCapExM', 'EUTaxTotNotAlignedEnablOpEx', 'EUTaxTotNotAlignedEnablOpExA', 'EUTaxTotNotAlignedEnablOpExM', 'EUTaxTotNotAlignedGreenCapExA', 'EUTaxTotNotAlignedGreenCapExM', 'EUTaxTotNotAlignedGreenOpEx', 'EUTaxTotNotAlignedGreenOpExA', 'EUTaxTotNotAlignedGreenOpExM', 'EUTaxTotNotAlignedOpEx', 'EUTaxTotNotAlignedOpExA', 'EUTaxTotNotAlignedOpExAExNG', 'EUTaxTotNotAlignedOpExExNG', 'EUTaxTotNotAlignedOpExM', 'EUTaxTotNotAlignedOpExMExNG', 'EUTaxTotNotAlignedTransCapExA', 'EUTaxTotNotAlignedTransCapExM', 'EUTaxTotNotAlignedTransitionRev', 'EUTaxTotNotAlignedTransitionRevA', 'EUTaxTotNotAlignedTransitionRevM', 'EUTaxTotNotAlignedTransitOpEx', 'EUTaxTotNotAlignedTransitOpExA', 'EUTaxTotNotAlignedTransitOpExM', 'EUTaxTotNotCollectedCapExM', 'EUTaxTotNotCollectedCapExMExNG', 'EUTaxTotNotCollectedEnablingRev', 'EUTaxTotNotCollectedEnablingRevA', 'EUTaxTotNotCollectedEnablingRevM', 'EUTaxTotNotCollectedGreenCapExM', 'EUTaxTotNotCollectedTransCapExM', 'EUTaxTotNotCollectedTransitRev', 'EUTaxTotNotCollectedTransitRevA', 'EUTaxTotNotCollectedTransitRevM', 'EUTaxTotNotDisclCapEx', 'EUTaxTotNotDisclCapExA', 'EUTaxTotNotDisclCapExAExNG', 'EUTaxTotNotDisclCapExExNG', 'EUTaxTotNotDisclCapExM', 'EUTaxTotNotDisclCapExMExNG', 'EUTaxTotNotDisclEnablCapEx', 'EUTaxTotNotDisclEnablCapExA', 'EUTaxTotNotDisclEnablCapExM', 'EUTaxTotNotDisclEnablOpEx', 'EUTaxTotNotDisclEnablOpExA', 'EUTaxTotNotDisclEnablOpExM', 'EUTaxTotNotDisclEnablRev', 'EUTaxTotNotDisclEnablRevA', 'EUTaxTotNotDisclEnablRevM', 'EUTaxTotNotDisclGreenCapEx', 'EUTaxTotNotDisclGreenCapExA', 'EUTaxTotNotDisclGreenCapExM', 'EUTaxTotNotDisclGreenOpEx', 'EUTaxTotNotDisclGreenOpExA', 'EUTaxTotNotDisclGreenOpExM', 'EUTaxTotNotDisclGreenRev', 'EUTaxTotNotDisclGreenRevA', 'EUTaxTotNotDisclGreenRevM', 'EUTaxTotNotDisclOpEx', 'EUTaxTotNotDisclOpExA', 'EUTaxTotNotDisclOpExAExNG', 'EUTaxTotNotDisclOpExExNG', 'EUTaxTotNotDisclOpExM', 'EUTaxTotNotDisclOpExMExNG', 'EUTaxTotNotDisclRev', 'EUTaxTotNotDisclRevA', 'EUTaxTotNotDisclRevAExNG', 'EUTaxTotNotDisclRevExNG', 'EUTaxTotNotDisclRevM', 'EUTaxTotNotDisclRevMExNG', 'EUTaxTotNotDisclTransCapEx', 'EUTaxTotNotDisclTransCapExA', 'EUTaxTotNotDisclTransCapExM', 'EUTaxTotNotDisclTransitOpEx', 'EUTaxTotNotDisclTransitOpExA', 'EUTaxTotNotDisclTransitOpExM', 'EUTaxTotNotDisclTransitRev', 'EUTaxTotNotDisclTransitRevA', 'EUTaxTotNotDisclTransitRevM', 'EUTaxTotNotEligibleCapExA', 'EUTaxTotNotEligibleCapExAExNG', 'EUTaxTotNotEligibleCapExM', 'EUTaxTotNotEligibleCapExMExNG', 'EUTaxTotNotEligibleEnablCapEx', 'EUTaxTotNotEligibleEnablCapExA', 'EUTaxTotNotEligibleEnablCapExM', 'EUTaxTotNotEligibleEnablOpEx', 'EUTaxTotNotEligibleEnablOpExA', 'EUTaxTotNotEligibleEnablOpExM', 'EUTaxTotNotEligibleGreenCapExA', 'EUTaxTotNotEligibleGreenCapExM', 'EUTaxTotNotEligibleGreenOpEx', 'EUTaxTotNotEligibleGreenOpExA', 'EUTaxTotNotEligibleGreenOpExM', 'EUTaxTotNotEligibleOpEx', 'EUTaxTotNotEligibleOpExA', 'EUTaxTotNotEligibleOpExAExNG', 'EUTaxTotNotEligibleOpExExNG', 'EUTaxTotNotEligibleOpExM', 'EUTaxTotNotEligibleOpExMExNG', 'EUTaxTotNotEligibleTransCapExA', 'EUTaxTotNotEligibleTransCapExM', 'EUTaxTotNotEligibleTransitOpEx', 'EUTaxTotNotEligibleTransitOpExA', 'EUTaxTotNotEligibleTransitOpExM', 'EUTaxTotNotEligibleTransitionRev', 'EUTaxTotNotRelevantTransitionRevA', 'EUTaxTotNotRelevantTransitionRevM', 'EUTaxTotOpExAbs', 'EUTaxTotPotentAlignedCapExM', 'EUTaxTotPotentAlignedCapExMExNG', 'EUTaxTotPotentAlignedEnablingRev', 'EUTaxTotPotentAlignedEnablingRevA', 'EUTaxTotPotentAlignedEnablingRevM', 'EUTaxTotPotentAlignedGreenCapExM', 'EUTaxTotPotentAlignedTransCapExM', 'EUTaxTotPotentAlignedTransitRev', 'EUTaxTotPotentAlignedTransitRevA', 'EUTaxTotPotentAlignedTransitRevM', 'EUTaxTotRelevantTransitionRevA', 'EUTaxTotRelevantTransitionRevM', 'EUTaxTotRevAbs', 'EUTaxTotSCAlignedCapExA', 'EUTaxTotSCAlignedCapExAbsA', 'EUTaxTotSCAlignedCapExAbsM', 'EUTaxTotSCAlignedCapExM', 'EUTaxTotSCAlignedOpExA', 'EUTaxTotSCAlignedOpExAbsA', 'EUTaxTotSCAlignedOpExAbsM', 'EUTaxTotSCAlignedOpExM', 'EUTaxTotSCAlignedRevA', 'EUTaxTotSCAlignedRevAbsA', 'EUTaxTotSCAlignedRevAbsM', 'EUTaxTotSCAlignedRevM', 'EUTaxTradportfol', 'EUTaxTradportfolAbs', 'EUTaxTraNetRenGasRevAbsolute', 'EUTaxTransNetwRenGasDNSH', 'EUTaxTransNetwRenGasInvolvement', 'EUTaxTransNetwRenGasOverallAlign', 'EUTaxTransNetwRenGasOverallAlignM', 'EUTaxTransNetwRenGasRevenue', 'EUTaxTransNetwRenGasSC', 'EUTaxTransNetwRenGasSCM', 'EUTaxUrbPassengTransDNSH', 'EUTaxUrbPassengTransInvolvement', 'EUTaxUrbPassengTransOverallAlign', 'EUTaxUrbPassengTransOverallAlignM', 'EUTaxUrbPassengTransRevenue', 'EUTaxUrbPassengTransSC', 'EUTaxUrbPassengTransSCM', 'EUTaxUrbPassTransRevAbsolute', 'EUTaxWasteWaterTreatDNSH', 'EUTaxWasteWaterTreatInvolvement', 'EUTaxWasteWaterTreatOverallAlign', 'EUTaxWasteWaterTreatOverallAlignM', 'EUTaxWasteWaterTreatRevenue', 'EUTaxWasteWaterTreatSC', 'EUTaxWasteWaterTreatSCM', 'EUTaxWatColleTrRevAbsolute', 'EUTaxWaterColleTreatDNSH', 'EUTaxWaterColleTreatInvolvement', 'EUTaxWaterColleTreatOverallAlign', 'EUTaxWaterColleTreatOverallAlignM', 'EUTaxWaterColleTreatRevenue', 'EUTaxWaterColleTreatSC', 'EUTaxWaterColleTreatSCM', 'EUTaxWWTrRevAbsolute', 'InvolvInContrWeapons', 'NFRDFlag']\n",
      "--------------------------------------------------\n",
      "{'EUTaxCompBioWasteRevAbsolute', 'EUTaxTotNotDisclGreenRevA', 'EUTaxElectricStorageInvolvement', 'EUTaxInstalMainEnergyEfficEquipOverallAlignM', 'EUTaxInstalMainInstrumentsDevicesSC', 'EUTaxTotLikelyAlignedEnablingRev', 'EUTaxTotNotCollectedEnablingRevM', 'EUTaxTotalPotentAlignedCapExExNG', 'EUTaxLndFilGaptRevAbsolute', 'EUTaxTotNotEligibleEnablCapExA', 'EUTaxPassCarsCommercInvolvement', 'EUTaxHeatClGeOthRevAbsolute', 'EUTaxTotEligibleCapExM', 'EUTaxRenewalWaterCollectTreatOverallAlignM', 'EUTaxTotLikelyNotAlignedTransRev', 'EUTaxLibrariesMuseumsCulturalActivSCA', 'EUTaxInfraEnablingLowCarbonRoadTransInvolvement', 'EUTaxTotNotDisclEnablCapEx', 'EUTaxSClNonHazWasRevAbsolute', 'EUTaxRenewalWasteWaterCollectTreatInvolvement', 'EUTaxCarbonBlackRevenue', 'EUTaxDisodiumCarbRevAbsolute', 'EUTaxCogenBioenergyRevenue', 'EUTaxLivestockProdOverallAlignM', 'EUTaxElecWindPowCapExAbsolute', 'EUTaxDataDrivCCMonitOverallAlign', 'EUTaxTotNotDisclTransitOpEx', 'EUTaxElecTransmDistrDNSH', 'EUTaxTotalNotRelevantEnablingRevA', 'EUTaxChlorineSC', 'EUTaxMinSocialSafeguards', 'EUTaxTotAlignedOpExA', 'EUTaxDistrHeatCoolDNSH', 'EUTaxTotEligibleGreenOpEx', 'EUTaxTotalPotentAlignedRevenuesAExNG', 'EUTaxMotPicTelProRevAbsolute', 'EUTaxTotNotDisclTransitRev', 'EUTaxBuildingRenovatInvolvement', 'EUTaxCreativeArtsEntertainctivSCA', 'EUTaxTotNotDisclGreenOpExA', 'EUTaxTotNotEligibleEnablOpEx', 'EUTaxElecWindPowCapExOverAlignM', 'EUTaxElectricityGenSolarPhotoCapExInvolv', 'EUTaxAnaerDigeSewageInvolvement', 'EUTaxElecProdSolarPVInvolvement', 'EUTaxLCTTransportDNSH', 'EUTaxConservationForestSCA', 'EUTaxOperationPersonalMobilDevicesOverallAlign', 'EUTaxTotSCAlignedOpExM', 'EUTaxAluminiumInvolvement', 'EUTaxLivestockProdSC', 'EUTaxGasHighEffCoGenHCPSC', 'EUTaxBuildingAcqOwnOverallAlign', 'EUTaxElecProdSolarPVOverallAlignM', 'EUTaxTotAlignedTransitOpEx', 'EUTaxHumanHealthSocialWorkActivOverallAlignM', 'EUTaxInfraLowCarbonAirportRevenue', 'EUTaxInfraRailTransRevenue', 'EUTaxRenewEnergyTechSC', 'EUTaxAluminiumRevenue', 'EUTaxCogenGeothermOverallAlignM', 'EUTaxElecProdGasInvolvement', 'EUTaxTotNotEligibleGreenOpEx', 'EUTaxSeaCoastalPassWaterTransDNSH', 'EUTaxDataDrivCCMonitInvolvement', 'EUTaxEnergyEfficiencyEquipInvolvem', 'EUTaxResearchDevDirectAirCaptureRevenue', 'EUTaxTotalNotRelevantRevenuesM', 'EUTaxPermCO2SequestrSCM', 'EUTaxEligibleNLInsuPremAbs', 'EUTaxAfforestationInvolvement', 'EUTaxTotNotDisclEnablCapExA', 'EUTaxTotPotentAlignedTransCapExM', 'EUTaxInstalMainChargingStationsRevenue', 'EUTaxHydrogenInvolvement', 'EUTaxDataDrivCCMonitDNSH', 'EUTaxNonLifeInsRevAbsolute', 'EUTaxElecProdCSPCapExAbsolute', 'EUTaxTotNotDisclEnablOpExM', 'EUTaxAnaerDigeSewageDNSH', 'EUTaxTotNotEligibleOpExM', 'EUTaxTotSCAlignedOpExAbsM', 'EUTaxFreTranRoadRevAbsolute', 'EUTaxElProdGeothermOverallAlign', 'EUTaxTotLikelyAlignedTransitRevM', 'EUTaxRetroWaterPassFreightTransDNSH', 'EUTaxElecProdPVCapExSCM', 'EUTaxNuclearConstrNewPlantsInvolvement', 'EUTaxElectricityHydropowerCapExDNSH', 'EUTaxInfraPersonalMobilCycleLogisticsRevenue', 'EUTaxResearchDevCloseToMarketOverallAlign', 'EUTaxWWTrRevAbsolute', 'EUTaxAfforestationDNSH', 'EUTaxElecProdGasCapExSCA', 'EUTaxHeatClWasteRevAbsolute', 'EUTaxTotalLikelyAlignedRevenuesM', 'EUTaxTotNotAlignedOpEx', 'EUTaxEnergyEfficiencyEquipSC', 'EUTaxTotalLikelyNotAlignedCapExExNG', 'EUTaxReforestationInvolvement', 'EUTaxElectricityHydropowerCapExSC', 'EUTaxLCTOtherDNSH', 'EUTaxCO2TransportSC', 'EUTaxRetroSeaCoastalFreightPassWaterTransOverallAlignM', 'EUTaxTotNotDisclTransitRevA', 'EUTaxElecHydropowCapExOverAlignM', 'EUTaxRenewalWasteWaterCollectTreatOverallAlignM', 'EUTaxCompostBioWasteOverallAlignM', 'EUTaxSeaCoastalFreightWaterTransInvolvement', 'EUTaxNonPerennCropsOverallAlign', 'EUTaxInstalMainRenewableEnergyInvolvement', 'EUTaxCarbonBlackInvolvement', 'EUTaxTotAlignedGreenCapExA', 'EUTaxElProdConSolPowOverallAlignM', 'EUTaxIntbankloanAbs', 'EUTaxTotNotAlignedTransitOpExM', 'EUTaxPlasticsPrimaryRevenue', 'EUTaxCarbonBlackSCM', 'EUTaxTotLikelyNotAligCapExM', 'EUTaxInfraEnablingLowCarbonRoadTransOverallAlignM', 'EUTaxTotalNotAlignedCapExExNG', 'EUTaxTotNotAlignedTransitionRev', 'EUTaxNuclearConstrNewPlantsSC', 'EUTaxInstalMainChargingStationsOverallAlign', 'EUTaxElecBioenCapExSCM', 'EUTaxHydrogStorRevAbsolute', 'EUTaxInstalMainChargingStationsDNSH', 'EUTaxDistrHeatCoolRevenue', 'EUTaxRetroSeaCoastalFreightPassWaterTransDNSH', 'EUTaxTotLikelyAlignedEnablingRevM', 'EUTaxCCAdaptEngineerSC', 'EUTaxNuclearPreCommFuelCycleOverallAlignM', 'EUTaxTotNotDisclRevExNG', 'EUTaxImpForestManagementSCM', 'EUTaxTotNotDisclTransitOpExM', 'EUTaxDistrHeatCoolSC', 'EUTaxCogenerationGasRevenue', 'EUTaxInstalMainChargingStationsOverallAlignM', 'EUTaxInfraLowCarbonAirportDNSH', 'EUTaxReinsuranceOverallAlignA', 'EUTaxPerennialCropsInvolvement', 'EUTaxTotAlignedOpExM', 'EUTaxElecProdBioenerInvolvement', 'EUTaxProfServicesEnergyPerfBuildDNSH', 'EUTaxElecProdGasCapExOverAlignA', 'EUTaxTotalNotAlignedRevenuesM', 'EUTaxTotNotEligibleOpExExNG', 'EUTaxElectricityBioenergyCapExOverAlign', 'EUTaxElecBioenCapExOverAlignA', 'EUTaxOpPersMobDevRevAbsolute', 'EUTaxCreativeArtsEntertainctivInvolvement', 'EUTaxAnaerDigeSewageRevenue', 'EUTaxTotNotAlignedTransCapExA', 'EUTaxNonEligibleNLInsuPremAbs', 'EUTaxTotAlignedRevAbs', 'EUTaxCO2TransportOverallAlignM', 'EUTaxTotalLikelyNotAlignedRevMExNG', 'EUTaxInstalMainEnergyEfficEquipOverallAlign', 'EUTaxTotalNotCollectedRevenuesMExNG', 'EUTaxTotEligibleRevAExNG', 'EUTaxIronSteelRevenue', 'EUTaxHumanHealthSocialWorkActivInvolvement', 'EUTaxElectricityGeothermalCapExSC', 'EUTaxInfraRailTransSCM', 'EUTaxRenewalWasteWaterCollectTreatDNSH', 'EUTaxElecProdCSPCapExOverAlignA', 'EUTaxEducationDNSH', 'EUTaxTotNotDisclEnablRevA', 'EUTaxNitricAcidRevenue', 'EUTaxWaterColleTreatSCM', 'EUTaxNonPerennialCropsSC', 'EUTaxImpForestManagementSCA', 'EUTaxDisodiumCarbRevenue', 'EUTaxDataProcessHostSC', 'EUTaxUrbPassTransRevAbsolute', 'EUTaxThermEneStorageOverallAlignM', 'EUTaxTotalNotEligibleGreenRev', 'EUTaxPermCO2SequestrRevenue', 'EUTaxTotalNotAlignedGreenRev', 'EUTaxElecProdPVCapExOverAlignM', 'EUTaxElecHydropowCapExSCM', 'EUTaxFreighWaterTranInvolvement', 'EUTaxElecTransmDistrOverallAlign', 'EUTaxTotNotDisclGreenOpEx', 'EUTaxPassCarsCommercRevenue', 'EUTaxElectricityFossilGasCapEx', 'EUTaxHumanHealthSocialWorkActivSCM', 'EUTaxTotNotDisclOpExM', 'EUTaxElectricityRenewGasLiquidCapExInvolv', 'EUTaxElecProdOceanEnOverallAlign', 'EUTaxGasElectricityGenDNSH', 'EUTaxEducationSC', 'EUTaxTransNetwRenGasOverallAlign', 'EUTaxLivestockProdSCM', 'EUTaxTotNotEligibleTransCapExA', 'EUTaxNonHazWastRecovSCM', 'EUTaxDataYear', 'EUTaxTotalPotentAlignedGreenRevA', 'EUTaxInfraPersonalMobilCycleLogisticsSCM', 'EUTaxWaterColleTreatRevenue', 'EUTaxWaterColleTreatOverallAlignM', 'EUTaxTotalAlignedEnablingRevA', 'EUTaxTotNotAlignedEnablOpExA', 'EUTaxElectrHeatPumpDNSH', 'EUTaxElProdGeOthmCapExAbsolute', 'EUTaxWaterColleTreatInvolvement', 'EUTaxNonPerennialCropsInvolv', 'EUTaxLowCarbWateTranDNSH', 'EUTaxOtherOrgBasChemRevenue', 'EUTaxSeaCstPaWaTrRevAbsolute', 'EUTaxElecHydropowCapExOverAlignA', 'EUTaxAnhydrAmmoniaSC', 'EUTaxSeaCoastalPassWaterTransRevenue', 'EUTaxUrbPassengTransDNSH', 'EUTaxFreightTranRoadSCM', 'EUTaxTotalNotAlignedCapEx', 'EUTaxAnaerDigeSewRevAbsolute', 'EUTaxFreighWaterTranOverallAlignM', 'EUTaxElectricityWindPowerCapEx', 'EUTaxTotNotDisclTransitOpExA', 'EUTaxOtherOrgBasChemSCM', 'EUTaxTotNotAlignedCapExM', 'EUTaxTotAlignedGreenCapExM', 'EUTaxTotNotDisclOpExA', 'EUTaxElecTransmDistrSC', 'EUTaxCogenerationGasOverallAlign', 'EUTaxTotalNotAlignedGreenRevM', 'EUTaxTotNotDisclCapExMExNG', 'EUTaxElProdGeOthmRevAbsolute', 'EUTaxHydrogenStorageDNSH', 'EUTaxTotalEligibleActivityEnablRev', 'EUTaxCogenBioenergyOverallAlign', 'EUTaxTotNotEligibleTransitionRev', 'EUTaxTotEligibleTransitOpExM', 'EUTaxProfServicesEnergyPerfBuildSC', 'EUTaxBuildingRenovatOverallAlignM', 'EUTaxThermEneStorageInvolvement', 'EUTaxFreightTranRoadSC', 'EUTaxTotNotDisclEnablCapExM', 'EUTaxTotEligibleCapExMExNG', 'EUTaxMotionPictureTelevisionProgramRevenue', 'EUTaxTotSCAlignedOpExA', 'EUTaxTotPotentAlignedEnablingRevA', 'NFRDFlag', 'EUTaxTotRelevantTransitionRevM', 'EUTaxCogenConSolPowRevenue', 'EUTaxChlorineDNSH', 'EUTaxHydrogenDNSH', 'EUTaxTotalAlignedCapEx', 'EUTaxInfraRailTransDNSH', 'EUTaxHydrogenOverallAlign', 'EUTaxElecWindPowCapExSCM', 'EUTaxInstalMainEnergyEfficEquipSCM', 'EUTaxTotLikelyAlignedTransitRevA', 'EUTaxManufactureEquipProdHydrogenInvolvement', 'EUTaxNitricAcidSCM', 'EUTaxInstalMainRenewableEnergyRevenue', 'EUTaxTotNotEligibleOpExMExNG', 'EUTaxTotEligibleEnablOpExA', 'EUTaxProgramBroadcastingActivOverallAlign', 'EUTaxTotNotCollectedTransitRev', 'EUTaxTotNotCollectedCapExMExNG', 'EUTaxAluminiumOverallAlign', 'EUTaxElProdGeothermSC', 'EUTaxElectricityWindPowerCapExDNSH', 'EUTaxResearchDevCloseToMarketOverallAlignM', 'EUTaxElecTransmDistrSCM', 'EUTaxTotalNotCollectedGreenCapEx', 'EUTaxExpDerivatives', 'EUTaxTotEligibleOpExAbs', 'EUTaxMotionPictureTelevisionProgramInvolvement', 'EUTaxElecOceanEnRevAbsolute', 'EUTaxBuildingAcqOwnSC', 'EUTaxCogenBioenergyDNSH', 'EUTaxRenewEnergyTechInvolvement', 'EUTaxElProdGeothermOverallAlignM', 'EUTaxGasElectricityGenInvolvement', 'EUTaxRehabRevAbsolute', 'EUTaxConservForestOverallAlignA', 'EUTaxInstalMainRenewableEnergySC', 'EUTaxTotNotAlignedGreenOpExA', 'EUTaxResidentialCareActivOverallAlign', 'EUTaxTotLikelyAlignedTransCapExM', 'EUTaxGasHeatCoolRevAbsolute', 'EUTaxTotNotDisclOpEx', 'EUTaxConservationForestInvolv', 'EUTaxMotionPictureTelevisionProgramDNSH', 'EUTaxPlasticsPrimarySCM', 'EUTaxResearchDevCloseToMarketSCM', 'EUTaxInstalMainInstrumentsDevicesOverallAlignM', 'InvolvInContrWeapons', 'EUTaxRenewalWaterCollectTreatInvolvement', 'EUTaxGasElecGenRevAbsolute', 'EUTaxTotNotDisclEnablOpExA', 'EUTaxElectricityOceanEnergyCapEx', 'EUTaxDisodiumCarbOverallAligM', 'EUTaxPasrsComRevAbsolute', 'EUTaxWaterColleTreatDNSH', 'EUTaxElecProdCSPCapExSCM', 'EUTaxInfraPersonalMobilCycleLogisticsOverallAlign', 'EUTaxGasProdHeatCoolSC', 'EUTaxTotNotAlignedOpExAExNG', 'EUTaxTotAlignedOpExAbs', 'EUTaxHeatCoolGasRevenue', 'EUTaxPassengerRailSCM', 'EUTaxConsNewBuildingRevenue', 'EUTaxTotalPotentAlignedGreenRevM', 'EUTaxInfraLowCarbonAirportOverallAlign', 'EUTaxGasHighEffCoGenHCPInvolvement', 'EUTaxRetroWaterPassFreightTransInvolvement', 'EUTaxInstalMainChargingStationsSCM', 'EUTaxExpEligibleAsRevAbs', 'EUTaxTotPotentAlignedCapExMExNG', 'EUTaxDataProcessHostDNSH', 'EUTaxTotNotEligibleGreenCapExM', 'EUTaxSeaCoastalFreightWaterTransSCM', 'EUTaxHumanHealthSocialWorkActivRevenue', 'EUTaxTotNotDisclCapExAExNG', 'EUTaxTotalLikelyNotAlignedGreenCapEx', 'EUTaxExpNonEligibleAsCapEx', 'EUTaxTotNotEligibleCapExM', 'EUTaxTransNetwRenGasInvolvement', 'EUTaxPassWaterTranspOverallAlignM', 'EUTaxElProdGeothermRevenue', 'EUTaxTotNotEligibleGreenOpExA', 'EUTaxChlorineOverallAlignM', 'EUTaxTotLikelyAlignedEnablingRevA', 'EUTaxRenewEnergyTechRevenue', 'EUTaxElecProdSolarPVSC', 'EUTaxConsNewBuildingSCM', 'EUTaxElProdConSolPowInvolvement', 'EUTaxNonPerennialCropsDNSH', 'EUTaxTotNotDisclGreenOpExM', 'EUTaxDataProcessHostInvolvement', 'EUTaxCogenConSolPowSCM', 'EUTaxHeatCoolGasDNSH', 'EUTaxTotNotDisclTransCapExM', 'EUTaxPassengerRailDNSH', 'EUTaxTotNotDisclRevMExNG', 'EUTaxIronSteelOverallAlign', 'EUTaxLandfillGasCaptOverallAlignM', 'EUTaxFreightRailRevenue', 'EUTaxElectricityGenCSPCapExDNSH', 'EUTaxTotalPotentAlignedCapEx', 'EUTaxFreightRailSC', 'EUTaxCO2TransportRevenue', 'EUTaxCCAdaptEngRevAbsolute', 'EUTaxRehabilitationSCM', 'EUTaxAfforestationOverallAlignA', 'EUTaxPerennialCropsDNSH', 'EUTaxDataProcHostRevAbsolute', 'EUTaxInMnEVChStRevAbsolute', 'EUTaxHydrogRevAbsolute', 'EUTaxNonLifeInsurancOverallAlign', 'EUTaxCarbonBlackDNSH', 'EUTaxInstalMainEnergyEfficEquipInvolvement', 'EUTaxTotEligibleGreenCapExA', 'EUTaxHydrogenStorageOverallAlign', 'EUTaxGasHighEffCoGenHCPDNSH', 'EUTaxImpForestManagemOverallAlignA', 'EUTaxEducationSCA', 'EUTaxLivestockProdDNSH', 'EUTaxAnaerDigeBioWasOverallAlign', 'EUTaxAnhydrAmmoniaRevenue', 'EUTaxTotNotEligibleTransitOpEx', 'EUTaxElProdConSolPowSCM', 'EUTaxCCAdaptEngineerSCA', 'EUTaxResidentialCareActivSCM', 'EUTaxNonHazWastRecovInvolvement', 'EUTaxAnaerDigeBioWasInvolvement', 'EUTaxSeaCoastalPassWaterTransSC', 'EUTaxLCTOtherInvolvement', 'EUTaxGasElecGenCapExOverAlignM', 'EUTaxWaterColleTreatOverallAlign', 'EUTaxInfEnablLCRTRevAbsolute', 'EUTaxCogenGeothermSCM', 'EUTaxLCTTransportRevenue', 'EUTaxNuclearPreCommFuelCycleOverallAlign', 'EUTaxEligibleActivityInvolvement', 'EUTaxEducationInvolvement', 'EUTaxElectricityFossilGasCapExInvolv', 'EUTaxCementfactSC', 'EUTaxTotNotDisclTransCapEx', 'EUTaxHydrogenRevenue', 'EUTaxNuclearPreCommFuelCycleSC', 'EUTaxExpSovereignAbs', 'EUTaxTotalPotentAlignedRevenuesExNG', 'EUTaxElProdConSolPowSC', 'EUTaxGasHighEffCoGenHCPOverallAlignM', 'EUTaxTotAlignedTransCapExA', 'EUTaxHeatCoolGeotherDNSH', 'EUTaxRetroWaterPassFreightTransSC', 'EUTaxTotNotAlignedGreenCapExA', 'EUTaxCogenConSolPowOverallAlignM', 'EUTaxImpForestManRevAbsolute', 'EUTaxTotalNotCollectedTransCapEx', 'EUTaxRestorationWetlandsInvolvement', 'EUTaxTotalPotentAlignedGreenRev', 'EUTaxTotNotEligibleCapExMExNG', 'EUTaxElectricityOceanEnergyCapExInvolv', 'EUTaxProgramBroadcastingActivDNSH', 'EUTaxLowCarbWateTranOverallAlign', 'EUTaxLivestockProdInvolvement', 'EUTaxEnergyEfficiencyEquipRevenue', 'EUTaxIronSteelRevAbsolute', 'EUTaxTotAlignedEnablOpExM', 'EUTaxTotalNotEligibleEnablingRev', 'EUTaxTotNotRelevantTransitionRevA', 'EUTaxInfraLowCarbonAirportSCM', 'EUTaxRenewalWasteWaterCollectTreatOverallAlign', 'EUTaxEducationOverallAlignA', 'EUTaxAnaerDigeSewageSC', 'EUTaxHeatCoolWasteOverallAlign', 'EUTaxHydrogenStorageInvolvement', 'EUTaxManufactureBatteriesRevenue', 'EUTaxTotPotentAlignedTransitRevA', 'EUTaxTotalLikelyAlignedRevenuesExNG', 'EUTaxTotEligibleTransitOpEx', 'EUTaxTotAlignedEnablCapExM', 'EUTaxHeatCoolGeotherOverallAlign', 'EUTaxTotNotEligibleCapExAExNG', 'EUTaxTotAlignedTransCapExM', 'EUTaxDataProcessHostOverallAlignM', 'EUTaxImpForestManagementInvolvement', 'EUTaxInstalMainRenewableEnergySCM', 'EUTaxTotAlignedCapExA', 'EUTaxFreightRailDNSH', 'EUTaxTotNotAlignedOpExMExNG', 'EUTaxSepColNonHazWasRevenue', 'EUTaxElecWindPowCapExSCA', 'EUTaxPassCarsCommercOverallAlign', 'EUTaxSepColNonHazWasOverallAlignM', 'EUTaxRehabilitationOverallAlignM', 'EUTaxGasHighEffCoGenHCPRevenue', 'EUTaxEligibleNLInsuPrem', 'EUTaxCarbonBlackOverallAlignM', 'EUTaxTotalAlignedGreenRevenuesM', 'EUTaxReforestationSC', 'EUTaxCO2TransportDNSH', 'EUTaxElecTransmDistrOverallAlignM', 'EUTaxGasElectricityGenOverallAlignM', 'EUTaxReinsuranceOverallAlign', 'EUTaxFreightTranRoadInvolvement', 'EUTaxTotEligibleEnablCapExM', 'EUTaxTotNotCollectedTransitRevA', 'EUTaxCarbonBlackRevAbsolute', 'EUTaxHeatCoolCSPRevAbsolute', 'EUTaxWasteWaterTreatDNSH', 'EUTaxExpNonNFRD', 'EUTaxTotalPotentAlignedRevenuesMExNG', 'EUTaxManufactureEquipProdHydrogenOverallAlign', 'EUTaxTotAlignedEnablCapExA', 'EUTaxTotPotentAlignedEnablingRevM', 'EUTaxGasElectricityGenSC', 'EUTaxReinsuranceRevenue', 'EUTaxSeaCoastalPassWaterTransOverallAlign', 'EUTaxInfRailTranRevAbsolute', 'EUTaxExpEligibleAsRev', 'EUTaxProgramBroadcastingActivRevenue', 'EUTaxRetroSeaCoastalFreightPassWaterTransSCM', 'EUTaxTotAlignedEnablOpExA', 'EUTaxTotalNotAlignedTransCapEx', 'EUTaxElecProdPVCapExOverAlignA', 'EUTaxLivestockProdRevenue', 'EUTaxNuclearPreCommFuelCycleSCM', 'EUTaxTotalNotCollectedRevenuesM', 'EUTaxSeaCoastalPassWaterTransSCM', 'EUTaxFreighWaterTranOverallAlign', 'EUTaxTotNotAlignedCapExA', 'EUTaxTotAlignedOpEx', 'EUTaxCementfactSCM', 'EUTaxElectricityBioenergyCapExSC', 'EUTaxCCAdaptEngineerOverallAlignA', 'EUTaxExpSovereign', 'EUTaxTotNotEligibleTransitOpExM', 'EUTaxLandfillGasCaptSCM', 'EUTaxProgramBroadcastingActivSCA', 'EUTaxHydrogenStorageSC', 'EUTaxCompostBioWasteOverallAlign', 'EUTaxElecProdOceanEnergySCM', 'EUTaxManufactureEquipProdHydrogenSC', 'EUTaxBuildingAcqOwnOverallAlignM', 'EUTaxIronSteelDNSH', 'EUTaxImpForestManagemOverallAlignM', 'EUTaxTotalEligibleActivityTransRev', 'EUTaxMinSafeguardsDDFlag', 'EUTaxBiofuelfactSC', 'EUTaxNonHazWastRecovOverallAlign', 'EUTaxElecHydropowCapExSCA', 'EUTaxTotalNotCollectedGreenRevM', 'EUTaxElectrHeatPumpOverallAlignM', 'EUTaxNonLifeInsurancSCA', 'EUTaxElProdGeOthmCapExOverAlignA', 'EUTaxOtherOrgBasChemOverallAlign', 'EUTaxCCAdaptEngineerInvolvement', 'EUTaxPerennialCropsSC', 'EUTaxExpEligibleAsCapEx', 'EUTaxElecProdWindPowRevenue', 'EUTaxFreighWaterTranSCM', 'EUTaxInfraLowCarbonAirportSC', 'EUTaxNitricAcidDNSH', 'EUTaxTotalNotCollectedRevenues', 'EUTaxTotalLikelyNotAlignedRevM', 'EUTaxCO2TransportInvolvement', 'EUTaxAfforestRevAbsolute', 'EUTaxElecProdGasRevenue', 'EUTaxElecProdOceanEnergyRevenue', 'EUTaxTotalNotCollectedRevenuesExNG', 'EUTaxTotalNotEligibleGreenCapEx', 'EUTaxTotalRelevantGreenRevA', 'EUTaxDistrHeatCoolOverallAlignM', 'EUTaxImpForestManagementDNSH', 'EUTaxRetroSeaCoastalFreightPassWaterTransOverallAlign', 'EUTaxNonPerennialCropsRevenue', 'EUTaxTotalPotentAlignedTransCapEx', 'EUTaxTotEligibleGreenCapExM', 'EUTaxTotPotentAlignedTransitRevM', 'EUTaxElectricityRenewGasLiquidCapExSC', 'EUTaxCogenConSolPowDNSH', 'EUTaxInfraLowCarbonAirportInvolvement', 'EUTaxTotNotCollectedTransCapExM', 'EUTaxRenewalWasteWaterCollectTreatSC', 'EUTaxTotNotAlignedEnablCapEx', 'EUTaxNonHzWastRecRevAbsolute', 'EUTaxEligibleRevActivityOverview', 'EUTaxElectricityOceanEnergyCapExOverAlign', 'EUTaxConservForestOverallAlign', 'EUTaxDataProcessHostSCM', 'EUTaxElecProdSolarPVDNSH', 'EUTaxResearchDevDirectAirCaptureInvolvement', 'EUTaxPassCarsCommercSC', 'EUTaxTotEligibleOpEx', 'EUTaxCogenConSolPowOverallAlign', 'EUTaxHeatCoolGeotherSC', 'EUTaxRetroWaterPassFreightTransOverallAlignM', 'EUTaxTotalAlignedTransitionRevA', 'EUTaxElecProdOceanEnOverallAlignM', 'EUTaxTotNotAlignedEnablCapExA', 'EUTaxNonLifeInsurancInvolvement', 'EUTaxTotEligibleTransitOpExA', 'EUTaxIronSteelSC', 'EUTaxRenewalWaterCollectTreatSC', 'EUTaxElectricityHydropowerCapEx', 'EUTaxTotalAlignedTransitionRevM', 'EUTaxConservationForestSC', 'EUTaxComputerProgramConsultInvolvement', 'EUTaxComputerProgramConsultRevenue', 'EUTaxTotNotCollectedGreenCapExM', 'EUTaxTotEligibleOpExAExNG', 'EUTaxReinsuranceDNSH', 'EUTaxElecProdWindPowInvolvement', 'EUTaxElecProdWindPowDNSH', 'EUTaxElecProdGasDNSH', 'EUTaxElectricityGenCSPCapExSC', 'EUTaxBiofuelfactOverallAlignM', 'EUTaxEligibleCapExInvolvement', 'EUTaxElecOceanEnCapExAbsolute', 'EUTaxTotalNotEligibleCapEx', 'EUTaxManufactureEquipProdHydrogenSCM', 'EUTaxElecWindPowRevAbsolute', 'EUTaxRDDAirCaptRevAbsolute', 'EUTaxElecOceanEnCapExOverAlignM', 'EUTaxNonHazWastRecovDNSH', 'EUTaxHeatCoConSolPowRevenue', 'EUTaxElecProdGasSC', 'EUTaxLandfillGasCaptSC', 'EUTaxNonEligibleNLInsuPrem', 'EUTaxAnaerDigeBioWasOverallAlignM', 'EUTaxElectricityFossilGasCapExOverAlign', 'EUTaxHeatCoolGasSC', 'EUTaxLCTOtherRevenue', 'EUTaxManufactureBatteriesDNSH', 'EUTaxLibrariesMuseumsCulturalActivOverallAlign', 'EUTaxElProdConSolPowDNSH', 'EUTaxLibrariesMuseumsCulturalActivRevenue', 'EUTaxTotLikelyNotAlignedEnablRevM', 'EUTaxElecBioenCapExSCA', 'EUTaxTotSCAlignedCapExM', 'EUTaxResearchDevCloseToMarketRevenue', 'EUTaxPlasticsPrimaryInvolvement', 'EUTaxLowCarbWateTranSCM', 'EUTaxElecHydropowRevAbsolute', 'EUTaxHydrogenSCM', 'EUTaxReInseRevAbsolute', 'EUTaxAnhydrAmniaRevAbsolute', 'EUTaxLCTTransportRevAbsolute', 'EUTaxRetroSeaCoastalFreightPassWaterTransRevenue', 'EUTaxTotNotAlignedOpExExNG', 'EUTaxInfraPersonalMobilCycleLogisticsOverallAlignM', 'EUTaxTotNotDisclEnablRevM', 'EUTaxBuildingAcqOwnDNSH', 'EUTaxElecTranDisRevAbsolute', 'EUTaxCogenGeothermRevenue', 'EUTaxElecBioenCapExOverAlignM', 'EUTaxSeaCoastalFreightWaterTransDNSH', 'EUTaxTotalNotAlignedRevenuesExNG', 'EUTaxFreiWatTranRevAbsolute', 'EUTaxRehabilitationRevenue', 'EUTaxElectricityFossilGasCapExDNSH', 'EUTaxElecProdHydroOverallAlignM', 'EUTaxLCTTransportSC', 'EUTaxCogenConSolPowSC', 'EUTaxTotalNotAlignedEnablingRevA', 'EUTaxInfLowCbnAptRevAbsolute', 'EUTaxCementfactOverallAlignM', 'EUTaxProfServicesEnergyPerfBuildRevenue', 'EUTaxTotLikelyNotAlignedEnablRevA', 'EUTaxMotionPictureTelevisionProgramSCA', 'EUTaxPassengerRailSC', 'EUTaxLCTTransportSCM', 'EUTaxTotLikelyNotAlignedGreenRevA', 'EUTaxTotLikelyNotAlignedEnablRev', 'EUTaxHydrogenStorageSCM', 'EUTaxPassWaterTranspOverallAlign', 'EUTaxRehabilitationOverallAlignA', 'EUTaxTotNotDisclTransCapExA', 'EUTaxHydrogenStorageRevenue', 'EUTaxManufactureEquipProdHydrogenOverallAlignM', 'EUTaxElecProdGasCapExAbsolute', 'EUTaxNuclearConstrNewPlantsDNSH', 'EUTaxHeatCoolGeotherInvolvement', 'EUTaxCogenBioenergyOverallAlignM', 'EUTaxOperationPersonalMobilDevicesOverallAlignM', 'EUTaxReinsuranceSC', 'EUTaxTotOpExAbs', 'EUTaxHeatCoConSolPowSCM', 'EUTaxDataSource', 'EUTaxResearchDevDirectAirCaptureSC', 'EUTaxIronSteelSCM', 'EUTaxChlorineRevenue', 'EUTaxHeatCoolWasteRevenue', 'EUTaxThermEneStorageSC', 'EUTaxTotalPotentAlignedRevenuesM', 'EUTaxDataDrCCMonRevAbsolute', 'EUTaxTotAlignedEnablCapEx', 'EUTaxInfraPersonalMobilCycleLogisticsDNSH', 'EUTaxInterurbTranspDNSH', 'EUTaxPassengerRailRevenue', 'EUTaxTotalNotCollectedRevenuesAExNG', 'EUTaxLCTTransportInvolvement', 'EUTaxFreightTranRoadRevenue', 'EUTaxPlasticsPrimaryOverallAlign', 'EUTaxRestorationWetlandsOverallAlignA', 'EUTaxElectricityWindPowerCapExOverAlign', 'EUTaxAluminiumDNSH', 'EUTaxOperationPersonalMobilDevicesSC', 'EUTaxElecProdGasCapExSCM', 'EUTaxAnhydrAmmoniaInvolvement', 'EUTaxRenewEnTechRevAbsolute', 'EUTaxConservationForestSCM', 'EUTaxTotNotAlignedEnablCapExM', 'EUTaxCogenerationGasDNSH', 'EUTaxTotNotDisclOpExAExNG', 'EUTaxCogenerationGasSC', 'EUTaxHeatCoolGasSCM', 'EUTaxGasElecGenCapExAbsolute', 'EUTaxTraNetRenGasRevAbsolute', 'EUTaxNonHazWastRecovOverallAlignM', 'EUTaxElecOceanEnCapExSCA', 'EUTaxTotalNotRelevantRevenuesA', 'EUTaxManufactureEquipProdHydrogenDNSH', 'EUTaxTotNotEligibleEnablOpExA', 'EUTaxProfServicesEnergyPerfBuildInvolvement', 'EUTaxGasProdHeatCoolDNSH', 'EUTaxOthOrBChemRevAbsolute', 'EUTaxTotalLikelyNotAlignedRev', 'EUTaxTotNotAlignedCapExMExNG', 'EUTaxTotAlignedEnablOpEx', 'EUTaxLCTTransportOverallAlign', 'EUTaxCarbonBlackOverallAlign', 'EUTaxTotLikelyAlignedGreenCapExM', 'EUTaxCogenConSolPowInvolvement', 'EUTaxNuclearConstrNewPlantsOverallAlignM', 'EUTaxTotEligibleOpExA', 'EUTaxHumanHealthSocialWorkActivSC', 'EUTaxDisodiumCarbSCM', 'EUTaxTotAlignedTransitOpExM', 'EUTaxElectricityGenSolarPhotoCapExSC', 'EUTaxTotalAlignedRevenuesAExNG', 'EUTaxConsNewBuildRevAbsolute', 'EUTaxRestorationWetlandsRevenue', 'EUTaxBuildingAcqOwnInvolvement', 'EUTaxElProdConSolPowOverallAlign', 'EUTaxTotEligibleCapExAExNG', 'EUTaxRestorationWetlandsOverallAlignM', 'EUTaxSeaCstFrWaTrRevAbsolute', 'EUTaxTransNetwRenGasRevenue', 'EUTaxRenewEnergyTechOverallAlignM', 'EUTaxNuclearElectricityGenInvolvement', 'EUTaxTotPotentAlignedCapExM', 'EUTaxTotNotEligibleGreenCapExA', 'EUTaxInstalMainRenewableEnergyOverallAlign', 'EUTaxTransNetwRenGasSCM', 'EUTaxCogenGeothermOverallAlign', 'EUTaxPSEnPerfBldRevAbsolute', 'EUTaxTotNotAlignedTransitionRevM', 'EUTaxPassWaterTranspRevenue', 'EUTaxSeaCoastalPassWaterTransInvolvement', 'EUTaxTotalLikelyNotAlignedRevA', 'EUTaxThermEneStorRevAbsolute', 'EUTaxGasHighEffCoGenHCPOverallAlign', 'EUTaxManufactureBatteriesInvolvement', 'EUTaxAnaerDigeSewageOverallAlign', 'EUTaxElectricStorageDNSH', 'EUTaxComputerProgramConsultSCM', 'EUTaxInfraRailTransInvolvement', 'EUTaxCementfactRevenue', 'EUTaxNuclearPreCommFuelCycleDNSH', 'EUTaxInterurbTranspOverallAlign', 'EUTaxResearchDevDirectAirCaptureDNSH', 'EUTaxNuclearConstrNewPlantsRevenue', 'EUTaxLMCActivRevAbsolute', 'EUTaxBuildingRenovatRevenue', 'EUTaxOtherOrgBasChemSC', 'EUTaxTotalNotAlignedEnablingRevM', 'EUTaxAnaerDigeSewageSCM', 'EUTaxElecBioenCapExAbsolute', 'EUTaxTotAlignedOpExAExNG', 'EUTaxChlorineOverallAlign', 'EUTaxElProdGeOthmCapExOverAlignM', 'EUTaxProgramBroadcastingActivInvolvement', 'EUTaxTotalLikelyAlignedGreenCapEx', 'EUTaxTotAlignedOpExExNG', 'EUTaxTotNotDisclGreenRev', 'EUTaxCO2TransportSCM', 'EUTaxTotalEligibleActivityGreenRev', 'EUTaxGasElectricityGenOverallAlign', 'EUTaxCementfactDNSH', 'EUTaxTotAlignedCapExAbs', 'EUTaxChlorineRevAbsolute', 'EUTaxElecProdHydroSCM', 'EUTaxInfraEnablingLowCarbonRoadTransOverallAlign', 'EUTaxExpDerivativesAbs', 'EUTaxElecOceanEnCapExOverAlignA', 'EUTaxHeatCoolWasteSCM', 'EUTaxFreightTranRoadOverallAlign', 'EUTaxNonLifeInsurancRevenue', 'EUTaxRestorationWetlandsDNSH', 'EUTaxElecOceanEnCapExSCM', 'EUTaxCementfactRevAbsolute', 'EUTaxElecTransmDistrInvolvement', 'EUTaxLibrariesMuseumsCulturalActivInvolvement', 'EUTaxElecProdWindPowOverallAlign', 'EUTaxBuildAcqOwnRevAbsolute', 'EUTaxTotalNotAlignedRevenues', 'EUTaxElecHydropowCapExAbsolute', 'EUTaxElectricityBioenergyCapEx', 'EUTaxExpNonEligibleAsRevAbs', 'EUTaxTotSCAlignedOpExAbsA', 'EUTaxTotEligibleOpExM', 'EUTaxElecHeatPumpRevAbsolute', 'EUTaxHeatCoConSolPowSC', 'EUTaxElProdGeothermDNSH', 'EUTaxTotNotDisclRev', 'EUTaxElectricityGeothermalCapExInvolv', 'EUTaxTotalLikelyNotAlignedTransCapEx', 'EUTaxLibrariesMuseumsCulturalActivSC', 'EUTaxResidentialCareActivOverallAlignM', 'EUTaxElecProdSolarPVOverallAlign', 'EUTaxConsNewBuildingInvolvement', 'EUTaxTotAlignedOpExMExNG', 'EUTaxBuildRenovatRevAbsolute', 'EUTaxTotPotentAlignedGreenCapExM', 'EUTaxNonPerennCropsOverallAlignM', 'EUTaxTotAlignedCapExAExNG', 'EUTaxElecProdSolarPVRevenue', 'EUTaxHydrogenStorageOverallAlignM', 'EUTaxTotalAlignedEnablingRevM', 'EUTaxTotEligibleGreenOpExA', 'EUTaxDisodiumCarbSC', 'EUTaxTotalNotRelevantRevenuesMExNG', 'EUTaxTotalAlignedRevenues', 'EUTaxExpNonNFRDAbs', 'EUTaxInfraLowCarbonAirportOverallAlignM', 'EUTaxHydrogenSC', 'EUTaxFreightRailSCM', 'EUTaxTotalNotAlignedRevenuesMExNG', 'EUTaxTotalAlignedRevenuesM', 'EUTaxGasElecGenCapExOverAlignA', 'EUTaxUrbPassengTransOverallAlign', 'EUTaxRetWPFrTransRevAbsolute', 'EUTaxTotalPotentAlignedGreenCapEx', 'EUTaxRenewalWaterCollectTreatDNSH', 'EUTaxTotSCAlignedRevA', 'EUTaxWasteWaterTreatSC', 'EUTaxTotAlignedCapExM', 'EUTaxTotalAlignedRevenuesA', 'EUTaxNuclearPreCommFuelCycleRevenue', 'EUTaxGasProdHeatCoolOverallAlign', 'EUTaxWasteWaterTreatInvolvement', 'EUTaxTotEligibleTransCapExM', 'EUTaxInfraEnablingLowCarbonRoadTransRevenue', 'EUTaxTotalPotentAlignedRevenuesA', 'EUTaxTotNotAlignedGreenCapExM', 'EUTaxTotNotAlignedOpExM', 'EUTaxHumanHealthSocialWorkActivDNSH', 'EUTaxCogenGeoRevAbsolute', 'EUTaxRenewalWasteWaterCollectTreatSCM', 'EUTaxLandfillGasCaptRevenue', 'EUTaxManufactureBatteriesSCM', 'EUTaxEligibleCapexActivOverview', 'EUTaxElectrHeatPumpRevenue', 'EUTaxCompostBioWasteRevenue', 'EUTaxGasProdHeatCoolSCM', 'EUTaxMotionPictureTelevisionProgramOverallAlignA', 'EUTaxHeatCoolBioenerDNSH', 'EUTaxElectricStorageOverallAlign', 'EUTaxTotalNotRelevantRevenuesAExNG', 'EUTaxElectricityOceanEnergyCapExDNSH', 'EUTaxComputerProgramConsultDNSH', 'EUTaxPassWaterTranspInvolvement', 'EUTaxTotalLikelyAlignedRevenuesMExNG', 'EUTaxHeatCoolWasteDNSH', 'EUTaxGasElecGenCapExSCA', 'EUTaxTransNetwRenGasOverallAlignM', 'EUTaxLCTOtherOverallAlignM', 'EUTaxElecProdWindPowOverallAlignM', 'EUTaxCogenGasRevAbsolute', 'EUTaxTotalLikelyNotAlignedRevExNG', 'EUTaxElProdConSolPowRevenue', 'EUTaxTotalRelevantRevenuesA', 'EUTaxElectricityBioenergyCapExDNSH', 'EUTaxInterurbTranspOverallAlignM', 'EUTaxTotEligibleCapExA', 'EUTaxTotNotDisclRevAExNG', 'EUTaxTotalNotAlignedGreenRevA', 'EUTaxTotalLikelyAlignedRevenuesAExNG', 'EUTaxOtherOrgBasChemOverallAlignM', 'EUTaxElecProdHydroOverallAlign', 'EUTaxTotNotEligibleOpEx', 'EUTaxNitricAcidRevAbsolute', 'EUTaxEligibleOpExActityInvolv', 'EUTaxNitricAcidOverallAlignM', 'EUTaxTotNotDisclCapExM', 'EUTaxElecProdBioenerSC', 'EUTaxElectricityHydropowerCapExInvolv', 'EUTaxElecProdSolarPVSCM', 'EUTaxTotEligibleEnablCapEx', 'EUTaxTotLikelyNotAlignedTransRevA', 'EUTaxBuildingRenovatSCM', 'EUTaxCogenGeothermSC', 'EUTaxTotLikelyAlignedTransitRev', 'EUTaxOperationPersonalMobilDevicesSCM', 'EUTaxElectricityRenewGasLiquidCapExOverAlign', 'EUTaxWaterColleTreatSC', 'EUTaxAfforestationOverallAlign', 'EUTaxResidentialCareActivDNSH', 'EUTaxLowCarbWaTrRevAbsolute', 'EUTaxSeaCoastalFreightWaterTransOverallAlign', 'EUTaxNucElecGenRevAbsolute', 'EUTaxPassCarsCommercSCM', 'EUTaxElecProdHydroDNSH', 'EUTaxElecProdBioenerRevenue', 'EUTaxProgBrdActRevAbsolute', 'EUTaxCogenGeothermDNSH', 'EUTaxConservForestOverallAlignM', 'EUTaxCogenBioenergySCM', 'EUTaxRetroWaterPassFreightTransSCM', 'EUTaxTotNotDisclGreenCapEx', 'EUTaxEducationRevenue', 'EUTaxRehabilitationOverallAlign', 'EUTaxPassWaterTranspSCM', 'EUTaxTotNotAlignedGreenOpExM', 'EUTaxLCTTransportOverallAlignM', 'EUTaxTotalNotCollectedCapExExNG', 'EUTaxFreighWaterTranSC', 'EUTaxTotalNotAlignedEnablingRev', 'EUTaxChlorineInvolvement', 'EUTaxElecProdPVCapExSCA', 'EUTaxDisodiumCarbInvolvement', 'EUTaxInterurbTranspSC', 'EUTaxGasElectricityGenSCM', 'EUTaxDisodiumCarbOverallAlig', 'EUTaxBuildingRenovatOverallAlign', 'EUTaxLCTOtherOverallAlign', 'EUTaxInfraRailTransSC', 'EUTaxTotSCAlignedCapExA', 'EUTaxInfraEnablingLowCarbonRoadTransDNSH', 'EUTaxTotalNotCollectedGreenRev', 'EUTaxTotSCAlignedRevAbsM', 'EUTaxChlorineSCM', 'EUTaxHeatCoolGasOverallAlign', 'EUTaxTotEligibleRevMExNG', 'EUTaxTotNotAlignedTransCapExM', 'EUTaxTotalAlignedGreenCapEx', 'EUTaxElecProdBioenerDNSH', 'EUTaxElecProdGasRevAbsolute', 'EUTaxTotalRelevantGreenRevM', 'EUTaxTotNotAlignedCapExAExNG', 'EUTaxPassWaterTranspSC', 'EUTaxElProdGeOthmCapExSCM', 'EUTaxComputerProgramConsultOverallAlignM', 'EUTaxPlasticsPrimaryDNSH', 'EUTaxImpForestManagemOverallAlign', 'EUTaxLowCarbWateTranOverallAlignM', 'EUTaxTotLikelyAlignedCapExMExNG', 'EUTaxEnergyEfficiencyEquipOverallAlign', 'EUTaxTotNotEligibleOpExA', 'EUTaxOperationPersonalMobilDevicesInvolvement', 'EUTaxWasteWaterTreatRevenue', 'EUTaxReinsuranceSCA', 'EUTaxAfforestationRevenue', 'EUTaxEnEfficEquipRevAbsolute', 'EUTaxInfraPersonalMobilCycleLogisticsSC', 'EUTaxElectricityRenewGasLiquidCapEx', 'EUTaxReforestationOverallAlignM', 'EUTaxTotNotAlignedGreenOpEx', 'EUTaxLCTOtherSCM', 'EUTaxElectricityGeothermalCapExDNSH', 'EUTaxEnergyEfficiencyEquipSCM', 'EUTaxAnhydrAmmoniaOverallAlign', 'EUTaxTotalAlignedTransCapEx', 'EUTaxTotalLikelyNotAlignedCapEx', 'EUTaxTransNetwRenGasSC', 'EUTaxNonPerennialCropsSCM', 'EUTaxElectricStorageRevenue', 'EUTaxElectricityGeothermalCapExOverAlign', 'EUTaxReforestationRevenue', 'EUTaxAnaDigBioWasRevAbsolute', 'EUTaxHeatCoolGasInvolvement', 'EUTaxResidentialCareActivInvolvement', 'EUTaxRenewEnergyTechOverallAlign', 'EUTaxTotNotAlignedOpExA', 'EUTaxTotNotDisclGreenRevM', 'EUTaxNonHazWastRecovRevenue', 'EUTaxHeatCoolBioenerSCM', 'EUTaxLandfillGasCaptOverallAlign', 'EUTaxNuclearElectricityGenSC', 'EUTaxTotalRelevantEnablingRevA', 'EUTaxRehabilitationSC', 'EUTaxHeatClGasRevAbsolute', 'EUTaxPlasticsPrimaryOverallAlignM', 'EUTaxUrbPassengTransOverallAlignM', 'EUTaxElectricityHydropowerCapExOverAlign', 'EUTaxTotEligibleCapExAbs', 'EUTaxPerennialCropsOverallAlign', 'EUTaxElectricityGenSolarPhotoCapExOverAlign', 'EUTaxDistrHeatCoolOverallAlign', 'EUTaxHeatCoolBioenerOverallAlign', 'EUTaxRenewalWaterCollectTreatOverallAlign', 'EUTaxTotalNotRelevantGreenRevA', 'EUTaxManuBattsRevAbsolute', 'EUTaxAnhydrAmmoniaSCM', 'EUTaxLCTOtherRevAbsolute', 'EUTaxTotNotDisclCapExExNG', 'EUTaxWasteWaterTreatOverallAlign', 'EUTaxAfforestationSCM', 'EUTaxTotNotEligibleGreenOpExM', 'EUTaxReforestationOverallAlign', 'EUTaxElecProdHydroRevenue', 'EUTaxElecProdWindPowSCM', 'EUTaxResearchDevDirectAirCaptureOverallAlignM', 'EUTaxElectrHeatPumpOverallAlign', 'EUTaxPermCO2SequestrInvolvement', 'EUTaxElecProdCSPCapExOverAlignM', 'EUTaxTotCapExAbs', 'EUTaxInfraPersonalMobilCycleLogisticsInvolvement', 'EUTaxInMnInstrDevRevAbsolute', 'EUTaxRetroSeaCoastalFreightPassWaterTransSC', 'EUTaxExpEligibleAsCapExAbs', 'EUTaxTotRevAbs', 'EUTaxElectricityOceanEnergyCapExSC', 'EUTaxTotAlignedTransitOpExA', 'EUTaxInstalMainRenewableEnergyDNSH', 'EUTaxElectrHeatPumpSC', 'EUTaxTotSCAlignedRevAbsA', 'EUTaxSepColNonHazWasSCM', 'EUTaxInstalMainInstrumentsDevicesDNSH', 'EUTaxFreightRailInvolvement', 'EUTaxOperationPersonalMobilDevicesDNSH', 'EUTaxDataProcessHostRevenue', 'EUTaxCreativeArtsEntertainctivOverallAlign', 'EUTaxElectricityFossilGasCapExSC', 'EUTaxNucConsNewRevAbsolute', 'EUTaxTotNotEligibleTransCapExM', 'EUTaxRDCloseToMktOverallAlignA', 'EUTaxTotNotAlignedEnablOpExM', 'EUTaxEducationOverallAlign', 'EUTaxCogenBioenRevAbsolute', 'EUTaxTotEligibleGreenOpExM', 'EUTaxPassWatTransRevAbsolute', 'EUTaxGasHEfCoGenRevAbsolute', 'EUTaxCAERevAbsolute', 'EUTaxTotNotDisclTransitRevM', 'EUTaxElectricityGenCSPCapEx', 'EUTaxPermCO2SequestrOverallAlignM', 'EUTaxTotNotDisclGreenCapExM', 'EUTaxTotalAlignedEnablingRev', 'EUTaxFreightTranRoadOverallAlignM', 'EUTaxTotEligibleEnablOpExM', 'EUTaxSepColNonHazWasSC', 'EUTaxTotalNotEligibleTransCapEx', 'EUTaxInstalMainEnergyEfficEquipDNSH', 'EUTaxTotalEligibleActivityCapExExNG', 'EUTaxPermCO2SequestrSC', 'EUTaxNuclearPreCommFuelCycleInvolvement', 'EUTaxLibrariesMuseumsCulturalActivDNSH', 'EUTaxBuildingRenovatDNSH', 'EUTaxCogenGeothermInvolvement', 'EUTaxAnaerDigeBioWasSC', 'EUTaxHeatClBioenRevAbsolute', 'EUTaxNuclearElectricityGenOverallAlign', 'EUTaxRenewalWaterCollectTreatRevenue', 'EUTaxConservForRevAbsolute', 'EUTaxInfraEnablingLowCarbonRoadTransSCM', 'EUTaxNonLifeInsurancDNSH', 'EUTaxTotNotEligibleTransitOpExA', 'EUTaxLowCarbWateTranRevenue', 'EUTaxHeatCoolGeotherOverallAlignM', 'EUTaxTotalNotCollectedGreenRevA', 'EUTaxElecStorRevAbsolute', 'EUTaxTradportfol', 'EUTaxUrbPassengTransSC', 'EUTaxCogenConSolRevAbsolute', 'EUTaxInstalMainInstrumentsDevicesInvolvement', 'EUTaxTotAlignedCapExMExNG', 'EUTaxTotAlignedGreenOpExA', 'EUTaxRehabilitationDNSH', 'EUTaxComputerProgramConsultOverallAlign', 'EUTaxPlasticsPrimRevAbsolute', 'EUTaxRenWWColTrRevAbsolute', 'EUTaxAnaerDigeBioWasSCM', 'EUTaxCompostBioWasteSC', 'EUTaxElecBioenRevAbsolute', 'EUTaxCompostBioWasteDNSH', 'EUTaxTotNotDisclEnablRev', 'EUTaxTotalLikelyAlignedGreenRev', 'EUTaxPerennialCropsOverallAlignM', 'EUTaxIronSteelInvolvement', 'EUTaxElecProdPVRevAbsolute', 'EUTaxLivestockProdOverallAlign', 'EUTaxTotEligibleEnablCapExA', 'EUTaxSepColNonHazWasDNSH', 'EUTaxTotNotEligibleCapExA', 'EUTaxPermCO2SequestrDNSH', 'EUTaxSeaCoastalFreightWaterTransRevenue', 'EUTaxEnergyEfficiencyEquipOverallAlignM', 'EUTaxDataDrivCCMonitSCM', 'EUTaxTotPotentAlignedEnablingRev', 'EUTaxInfraRailTransOverallAlignM', 'EUTaxTotAlignedGreenOpExM', 'EUTaxMotionPictureTelevisionProgramOverallAlign', 'EUTaxElectricityRenewGasLiquidCapExDNSH', 'EUTaxGasProdHeatCoolOverallAlignM', 'EUTaxInfraEnablingLowCarbonRoadTransSC', 'EUTaxTotalLikelyAlignedGreenRevM', 'EUTaxResearchDevCloseToMarketInvolvement', 'EUTaxTotEligibleTransCapExA', 'EUTaxMaEqProdHydrRevAbsolute', 'EUTaxOperationPersonalMobilDevicesRevenue', 'EUTaxNitricAcidOverallAlign', 'EUTaxTotNotDisclOpExMExNG', 'EUTaxAnaerDigeBioWasDNSH', 'EUTaxOtherOrgBasChemInvolvement', 'EUTaxDataDrivCCMonitSC', 'EUTaxTotalLikelyAlignedCapEx', 'EUTaxTotNotDisclEnablOpEx', 'EUTaxPassengerRailOverallAlign', 'EUTaxFreighWaterTranDNSH', 'EUTaxProfServicesEnergyPerfBuildSCM', 'EUTaxTotNotEligibleOpExAExNG', 'EUTaxCogenerationGasSCM', 'EUTaxBiofuelfactDNSH', 'EUTaxBiofuelfactInvolvement', 'EUTaxPerennialCropsRevenue', 'EUTaxOtherOrgBasChemDNSH', 'EUTaxRehabilitationSCA', 'EUTaxElectricStorageOverallAlignM', 'EUTaxGasProdHeatCoolRevenue', 'EUTaxInMnEnEffEqRevAbsolute', 'EUTaxWasteWaterTreatOverallAlignM', 'EUTaxDisodiumCarbDNSH', 'EUTaxTotNotDisclRevM', 'EUTaxNuclearElectricityGenOverallAlignM', 'EUTaxRetroWaterPassFreightTransOverallAlign', 'EUTaxCogenerationGasInvolvement', 'EUTaxCompostBioWasteInvolvement', 'EUTaxBiofuelfactRevenue', 'EUTaxRehabilitationInvolvement', 'EUTaxHeatCoolBioenerSC', 'EUTaxSeaCoastalPassWaterTransOverallAlignM', 'EUTaxProfServicesEnergyPerfBuildOverallAlignM', 'EUTaxAfforestationSC', 'EUTaxElecProdOceanEnergySC', 'EUTaxElectricityGenSolarPhotoCapExDNSH', 'EUTaxCementfactInvolvement', 'EUTaxElectricityGenCSPCapExOverAlign', 'EUTaxNonHazWastRecovSC', 'EUTaxRDCloseToMktRevAbsolute', 'EUTaxRenewalWaterCollectTreatSCM', 'EUTaxAfforestationOverallAlignM', 'EUTaxElProdGeothermInvolvement', 'EUTaxAfforestationSCA', 'EUTaxTotalLikelyAlignedCapExExNG', 'EUTaxBiofuelfactRevAbsolute', 'EUTaxElecProdGasOverallAlign', 'EUTaxBuildingAcqOwnSCM', 'EUTaxHeatCoolWasteInvolvement', 'EUTaxTotNotEligibleEnablCapEx', 'EUTaxDataDrivCCMonitOverallAlignM', 'EUTaxDistrHeatCoolInvolvement', 'EUTaxPassengerRailOverallAlignM', 'EUTaxTotalNotAlignedGreenCapEx', 'EUTaxEducationRevAbsolute', 'EUTaxTotNotDisclCapExA', 'EUTaxGasElecGenCapExSCM', 'EUTaxTotNotAlignedTransitionRevA', 'EUTaxNuclearElectricityGenDNSH', 'EUTaxConservationForestDNSH', 'EUTaxElectricStorageSC', 'EUTaxDNSHLowestOutcome', 'EUTaxTotNotCollectedEnablingRev', 'EUTaxTotalNotRelevantRevenuesExNG', 'EUTaxElecProdCSPCapExSCA', 'EUTaxElecProdOceanEnergyDNSH', 'EUTaxTotLikelyNotAligCapExMExNG', 'EUTaxResidentialCareActivSC', 'EUTaxDataDrivCCMonitRevenue', 'EUTaxInterurbTranspRevenue', 'EUTaxCogenerationGasOverallAlignM', 'EUTaxTotalAlignedRevenuesMExNG', 'EUTaxTotNotEligibleEnablCapExM', 'EUTaxExpNonEligibleAsRev', 'EUTaxTotalAlignedGreenRevenuesA', 'EUTaxTotLikelyNotAlignedTransRevM', 'EUTaxElecProdBioenerOverallAlign', 'EUTaxNitricAcidInvolvement', 'EUTaxPassCarsCommercDNSH', 'EUTaxRestorationWetlandsSCM', 'EUTaxTotEligibleRevAbs', 'EUTaxTotSCAlignedCapExAbsM', 'EUTaxTotPotentAlignedTransitRev', 'EUTaxTotalEligibleActivityGreenCapEx', 'EUTaxReforestationDNSH', 'EUTaxCCAdaptEngineerOverallAlign', 'EUTaxRenewEnergyTechDNSH', 'EUTaxGasProdHeatCoolInvolvement', 'EUTaxResearchDevCloseToMarketSC', 'EUTaxManufactureBatteriesSC', 'EUTaxTotalLikelyAlignedRevenues', 'EUTaxCCAdaptEngineerDNSH', 'EUTaxTotNotDisclCapEx', 'EUTaxConsNewBuildingOverallAlignM', 'EUTaxTotalLikelyNotAlignedRevAExNG', 'EUTaxTotNotRelevantTransitionRevM', 'EUTaxTotRelevantTransitionRevA', 'EUTaxInstalMainInstrumentsDevicesSCM', 'EUTaxResearchDevDirectAirCaptureSCM', 'EUTaxPlasticsPrimarySC', 'EUTaxPassRailRevAbsolute', 'EUTaxRSCFPWaTranRevAbsolute', 'EUTaxTotLikelyNotAlignedGreenRevM', 'EUTaxRestWetlandsRevAbsolute', 'EUTaxTransNetwRenGasDNSH', 'EUTaxConsNewBuildingSC', 'EUTaxElecTransmDistrRevenue', 'EUTaxTotalAlignedCapExExNG', 'EUTaxElecProdHydroInvolvement', 'EUTaxTotLikelyNotAlignedGreenRev', 'EUTaxTotEligibleOpExMExNG', 'EUTaxSepColNonHazWasInvolvement', 'EUTaxElecProdGasCapExOverAlignM', 'EUTaxTotLikelyAlignedCapExM', 'EUTaxRestorationWetlandsOverallAlign', 'EUTaxFreighWaterTranRevenue', 'EUTaxManufactureBatteriesOverallAlign', 'EUTaxManufactureBatteriesOverallAlignM', 'EUTaxCreativeArtsEntertainctivOverallAlignA', 'EUTaxTotalLikelyAlignedGreenRevA', 'EUTaxElecProdCSPRevAbsolute', 'EUTaxRenewalWasteWaterCollectTreatRevenue', 'EUTaxConservationForestRevenue', 'EUTaxTotNotCollectedEnablingRevA', 'EUTaxConsNewBuildingDNSH', 'EUTaxElectrHeatPumpSCM', 'EUTaxRenewEnergyTechSCM', 'EUTaxAnaerDigeSewageOverallAlignM', 'EUTaxAluminiumSC', 'EUTaxInstalMainInstrumentsDevicesRevenue', 'EUTaxPerennialCropsSCM', 'EUTaxResearchDevCloseToMarketDNSH', 'EUTaxTotalLikelyAlignedTransCapEx', 'EUTaxInMnRenewEnRevAbsolute', 'EUTaxLowCarbWateTranSC', 'EUTaxNucPreComCycRevAbsolute', 'EUTaxTotalNotEligibleCapExExNG', 'EUTaxWatColleTrRevAbsolute', 'EUTaxTotEligibleOpExExNG', 'EUTaxNuclearConstrNewPlantsOverallAlign', 'EUTaxElecProdOceanEnInvolvement', 'EUTaxGasHighEffCoGenHCPSCM', 'EUTaxElecProdWindPowSC', 'EUTaxCreativeArtsEntertainctivRevenue', 'EUTaxAnhydrAmmoniaOverallAlignM', 'EUTaxHeatCoolBioenerRevenue', 'EUTaxDistrHeatClRevAbsolute', 'EUTaxHydrogenOverallAlignM', 'EUTaxTotalNotEligibleRevenues', 'EUTaxCO2TransportOverallAlign', 'EUTaxElecWindPowCapExOverAlignA', 'EUTaxInstalMainChargingStationsInvolvement', 'EUTaxTotNotEligibleEnablOpExM', 'EUTaxElecProdHydroSC', 'EUTaxHeatCoConSolPowOverallAlignM', 'EUTaxBuildingAcqOwnRevenue', 'EUTaxNonLifeInsurancOverallAlignA', 'EUTaxTotalRelevantActivityRevExNG', 'EUTaxElecProdPVCapExAbsolute', 'EUTaxReforestationSCM', 'EUTaxNitricAcidSC', 'EUTaxTotalRelevantEnablingRevM', 'EUTaxConsNewBuildingOverallAlign', 'EUTaxTotEligibleEnablOpEx', 'EUTaxElectricStorageSCM', 'EUTaxAluminiumRevAbsolute', 'EUTaxTotSCAlignedCapExAbsA', 'EUTaxPassWaterTranspDNSH', 'EUTaxManufactureEquipProdHydrogenRevenue', 'EUTaxTotNotAlignedTransitOpEx', 'EUTaxLibrariesMuseumsCulturalActivOverallAlignA', 'EUTaxTotNotAlignedTransitOpExA', 'EUTaxAluminiumOverallAlignM', 'EUTaxTotalLikelyAlignedRevenuesA', 'EUTaxRestorationWetlandsSCA', 'EUTaxTotalEligibleActivityCapEx', 'EUTaxHeatCoolGeotherSCM', 'EUTaxInterurbTranspInvolvement', 'EUTaxDataProcessHostOverallAlign', 'EUTaxTotalNotRelevantGreenRevM', 'EUTaxIntbankloan', 'EUTaxInstalMainEnergyEfficEquipSC', 'EUTaxInstalMainRenewableEnergyOverallAlignM', 'EUTaxImpForestManagementRevenue', 'EUTaxElectricityGeothermalCapEx', 'EUTaxPassCarsCommercOverallAlignM', 'EUTaxHeatCoConSolPowDNSH', 'EUTaxNuclearConstrNewPlantsSCM', 'EUTaxTotNotAlignedEnablOpEx', 'EUTaxFreightRailOverallAlign', 'EUTaxDistrHeatCoolSCM', 'EUTaxPermCO2SeqRevAbsolute', 'EUTaxResidentialCareActivRevenue', 'EUTaxTotalNotAlignedRevenuesA', 'EUTaxElectricityBioenergyCapExInvolv', 'EUTaxThermEneStorageSCM', 'EUTaxUrbPassengTransSCM', 'EUTaxProgramBroadcastingActivSC', 'EUTaxTotalPotentAlignedRevenues', 'EUTaxElProdGeothermSCM', 'EUTaxLowCarbWateTranInvolvement', 'EUTaxTotalRelevantRevenuesM', 'EUTaxLCTOtherSC', 'EUTaxFreightRailOverallAlignM', 'EUTaxLandfillGasCaptDNSH', 'EUTaxExpNonEligibleAsCapExAbs', 'EUTaxRetroWaterPassFreightTransRevenue', 'EUTaxTotAlignedGreenOpEx', 'EUTaxCementfactOverallAlign', 'EUTaxCogenBioenergyInvolvement', 'EUTaxElecProdGasOverallAlignM', 'EUTaxHeatCoolGeotherRevenue', 'EUTaxTotLikelyNotAligTransCapExM', 'EUTaxElecProdBioenerSCM', 'EUTaxHeatCoConSolPowOverallAlign', 'EUTaxInterurbTranspSCM', 'EUTaxElecProdBioenerOverallAlignM', 'EUTaxElectricityGenSolarPhotoCapEx', 'EUTaxInstalMainInstrumentsDevicesOverallAlign', 'EUTaxBiofuelfactSCM', 'EUTaxIronSteelOverallAlignM', 'EUTaxTotNotDisclRevA', 'EUTaxCreativeArtsEntertainctivSC', 'EUTaxThermEneStorageDNSH', 'EUTaxResearchDevDirectAirCaptureOverallAlign', 'EUTaxMotionPictureTelevisionProgramSC', 'EUTaxTotNotCollectedTransitRevM', 'EUTaxUrbPassengTransInvolvement', 'EUTaxInfraPersMCLRevAbsolute', 'EUTaxTotalEligibleActivityTransCapEx', 'EUTaxCO2TransportRevAbsolute', 'EUTaxCCAdaptEngineerRevenue', 'EUTaxTotalAlignedGreenRevenues', 'EUTaxTotalEligibleActivityRev', 'EUTaxElectricityGenCSPCapExInvolv', 'EUTaxNuclearElectricityGenSCM', 'EUTaxElectrHeatPumpInvolvement', 'EUTaxNuclearElectricityGenRevenue', 'EUTaxAluminiumSCM', 'EUTaxElectricityWindPowerCapExSC', 'EUTaxReinsuranceInvolvement', 'EUTaxCompostBioWasteSCM', 'EUTaxEnergyEfficiencyEquipDNSH', 'EUTaxHumanHealthSocialWorkActivOverallAlign', 'EUTaxNonLifeInsurancSC', 'EUTaxHeatCoolBioenerOverallAlignM', 'EUTaxElectricityWindPowerCapExInvolv', 'EUTaxBuildingRenovatSC', 'EUTaxTotNotDisclOpExExNG', 'EUTaxTotSCAlignedRevM', 'EUTaxFreRailRevAbsolute', 'EUTaxElecProdGasSCM', 'EUTaxComputerProgramConsultSC', 'EUTaxTotalNotRelevantEnablingRevM', 'EUTaxUrbPassengTransRevenue', 'EUTaxAnhydrAmmoniaDNSH', 'EUTaxImpForestManagementSC', 'EUTaxPassengerRailInvolvement', 'EUTaxCogenBioenergySC', 'EUTaxThermEneStorageOverallAlign', 'EUTaxHeatCoolGasOverallAlignM', 'EUTaxTotalNotAlignedRevenuesAExNG', 'EUTaxTradportfolAbs', 'EUTaxHeatCoConSolPowInvolvement', 'EUTaxBiofuelfactOverallAlign', 'EUTaxInstalMainEnergyEfficEquipRevenue', 'EUTaxTotalNotCollectedCapEx', 'EUTaxAnaerDigeBioWasRevenue', 'EUTaxGasElectricityGenRevenue', 'EUTaxTotNotCollectedCapExM', 'EUTaxHeatCoolWasteSC', 'EUTaxRetroSeaCoastalFreightPassWaterTransInvolvement', 'EUTaxElProdGeOthmCapExSCA', 'EUTaxInfraRailTransOverallAlign', 'EUTaxHeatCoolWasteOverallAlignM', 'EUTaxFreightTranRoadDNSH', 'EUTaxProgramBroadcastingActivOverallAlignA', 'EUTaxInstalMainChargingStationsSC', 'EUTaxSeaCoastalFreightWaterTransOverallAlignM', 'EUTaxRDCloseToMktSCA', 'EUTaxCompanyType', 'EUTaxThermEneStorageRevenue', 'EUTaxTotLikelyNotAligGreenCapExM', 'EUTaxTotalNotCollectedRevenuesA', 'EUTaxRenWatColTrRevAbsolute', 'EUTaxSepColNonHazWasOverallAlign', 'EUTaxHeatCoolBioenerInvolvement', 'EUTaxPermCO2SequestrOverallAlign', 'EUTaxCarbonBlackSC', 'EUTaxSeaCoastalFreightWaterTransSC', 'EUTaxWasteWaterTreatSCM', 'EUTaxTotalAlignedRevenuesExNG', 'EUTaxRestorationWetlandsSC', 'EUTaxTotNotDisclGreenCapExA', 'EUTaxProfServicesEnergyPerfBuildOverallAlign', 'EUTaxCreativeArtsEntertainctivDNSH', 'EUTaxLandfillGasCaptInvolvement', 'EUTaxTotalAlignedTransitionRev'}\n",
      "--------------------------------------------------\n",
      "[]\n",
      "0\n"
     ]
    },
    {
     "name": "stderr",
     "output_type": "stream",
     "text": [
      "C:\\Users\\varthar\\AppData\\Local\\Temp\\5\\ipykernel_38388\\1904427031.py:7: FutureWarning: The frame.append method is deprecated and will be removed from pandas in a future version. Use pandas.concat instead.\n",
      "  df =df.append(data)\n"
     ]
    }
   ],
   "source": [
    "factorDiffDictionary([\"DATA/SF Phase 2 - Data Dictionary - EU Taxonomy.xlsx\"],\"DATA/SF Phase 2 - Factor List - EU Taxonomy.xlsx\",\"EU TAXONOMY Missing Fact.txt\")"
   ]
  },
  {
   "cell_type": "code",
   "execution_count": 4,
   "id": "d42d2b57",
   "metadata": {},
   "outputs": [
    {
     "name": "stdout",
     "output_type": "stream",
     "text": [
      "['IssuerLEI', 'BloombergID', 'IssuerDescription', 'IssuerType', 'Ticker', 'EKNIdentifier', 'GICSSector', 'GICSSubIndustry', 'IssuerWebsite', 'ISIN', 'CountryOfCoverage', 'CountryOfIncorporation', 'CUSIP', 'GICSIndustry', 'GICSIndustryGroup', 'IssuerName', 'IssuerCIK', 'SIC', 'StateOfIncorporation', 'StockExchange', 'ClimateParentEntityID', 'ClimateParentEntityName', 'IssuerRegion', 'ISOCountryCode2', 'IssuerJQ', 'ISOCountryName', 'ISOCountryCode3', 'NACECodeNumber', 'NACECodeTreeDescription', 'SPVParentEntityID', 'SPVParentEntityName', 'SEDOL', 'ESGRatingParentEntityID', 'ESGRatingParentEntityName']\n",
      "--------------------------------------------------\n",
      "{'CountryOfCoverage', 'ClimateParentEntityName', 'Ticker', 'SIC', 'ISOCountryCode3', 'IssuerWebsite', 'ISOCountryCode2', 'GICSSubIndustry', 'ESGRatingParentEntityName', 'IssuerLEI', 'BloombergID', 'GICSIndustryGroup', 'GICSIndustry', 'NACECodeNumber', 'CountryOfIncorporation', 'IssuerDescription', 'IssuerRegion', 'SPVParentEntityID', 'CUSIP', 'SPVParentEntityName', 'StateOfIncorporation', 'IssuerCIK', 'EKNIdentifier', 'ISIN', 'IssuerJQ', 'SEDOL', 'GICSSector', 'StockExchange', 'IssuerName', 'ClimateParentEntityID', 'IssuerType', 'ISOCountryName', 'ESGRatingParentEntityID', 'NACECodeTreeDescription'}\n",
      "--------------------------------------------------\n",
      "[]\n",
      "0\n"
     ]
    },
    {
     "name": "stderr",
     "output_type": "stream",
     "text": [
      "C:\\Users\\varthar\\AppData\\Local\\Temp\\10\\ipykernel_43128\\1726765200.py:7: FutureWarning: The frame.append method is deprecated and will be removed from pandas in a future version. Use pandas.concat instead.\n",
      "  df =df.append(data)\n"
     ]
    }
   ],
   "source": [
    "factorDiffDictionary([\"DATA/ScreeningControversies_Issuer_Reference_Dictionary_V1 (1).xlsx\"],\"DATA/ScreeningControversies_Issuer_Reference_V1 (3).xlsx\",\"MISSING.txt\")"
   ]
  },
  {
   "cell_type": "code",
   "execution_count": 14,
   "id": "677399e3",
   "metadata": {},
   "outputs": [],
   "source": [
    "df1 = pd.read_excel('ImpactUNSDG_SDGSolutionsAssessment_Inst_Corp_V1_OLD.xlsx')\n",
    "\n",
    "viewFactorListOld = list(pd.read_excel('ImpactUNSDG_SDGSolutionsAssessment_Inst_Corp_V1_OLD.xlsx').columns)\n",
    "\n",
    "df2 = pd.read_excel('ImpactUNSDG_SDGSolutionsAssessment_Inst_Corp_V1_OLD.xlsx')\n",
    "\n",
    "viewFactorListNew = list(pd.read_excel('ImpactUNSDG_SDGSolutionsAssessment_Inst_Corp_V1_NEW.xlsx').columns)\n",
    "\n",
    "if \"issuerID\" in viewFactorListOld:\n",
    "    viewFactorListOld.remove(\"issuerID\")\n",
    "    \n",
    "if \"issuerID\" in viewFactorListNew:\n",
    "    viewFactorListNew.remove(\"issuerID\")\n",
    "\n",
    "new_factors =[x for x in viewFactorListNew if x not in viewFactorListOld]\n",
    "\n",
    "\n",
    "removed_factors =[x for x in viewFactorListOld if x not in viewFactorListNew]"
   ]
  },
  {
   "cell_type": "code",
   "execution_count": 15,
   "id": "17f663a9",
   "metadata": {},
   "outputs": [
    {
     "data": {
      "text/plain": [
       "['ESGRatingIndustry',\n",
       " 'SDGSolOverallScoreWgtdAvg',\n",
       " 'SDGSolOverallScoreWgtdAvgPeer',\n",
       " 'SDGSolEnvironmentalScoreWgtdAvg',\n",
       " 'SDGSolSocialScoreWgtdAvg',\n",
       " 'SDGSolRatioSigCont',\n",
       " 'SDGSolRatioSigContPeer',\n",
       " 'SDGSolRatioLtdCont',\n",
       " 'SDGSolRatioLtdContPeer',\n",
       " 'SDGSolRatioNoNetImpact',\n",
       " 'SDGSolRatioNoNetImpactPeer',\n",
       " 'SDGSolRatioLtdObstruct',\n",
       " 'SDGSolRatioLtdObstructPeer',\n",
       " 'SDGSolRatioSigObstruct',\n",
       " 'SDGSolRatioSigObstructPeer',\n",
       " 'SDGSolRatioNotCollected',\n",
       " 'SDGSolRatioNotCollectedPeer',\n",
       " 'SDGSolMinOverall',\n",
       " 'SDGSolMaxOverall',\n",
       " 'SDGSolMinSocial',\n",
       " 'SDGSolMaxSocial',\n",
       " 'SDGSolMinAllevPoverty',\n",
       " 'SDGSolMaxAllevPoverty',\n",
       " 'SDGSolMinCombatHunger',\n",
       " 'SDGSolMaxCombatHunger',\n",
       " 'SDGSolMinEnsuringHealth',\n",
       " 'SDGSolMaxEnsuringHealth',\n",
       " 'SDGSolMinDelvrEducation',\n",
       " 'SDGSolMaxDelvrEducation',\n",
       " 'SDGSolMinGenderEquality',\n",
       " 'SDGSolMaxGenderEquality',\n",
       " 'SDGSolMinBasicServices',\n",
       " 'SDGSolMaxBasicServices',\n",
       " 'SDGSolMinSafeguardPeace',\n",
       " 'SDGSolMaxSafeguardPeace',\n",
       " 'SDGSolMinOtherSocial',\n",
       " 'SDGSolMaxOtherSocial',\n",
       " 'SDGSolMinOverallEnv',\n",
       " 'SDGSolMaxOverallEnv',\n",
       " 'SDGSolMinSusAgriculture',\n",
       " 'SDGSolMaxSusAgriculture',\n",
       " 'SDGSolMinConserveWater',\n",
       " 'SDGSolMaxConserveWater',\n",
       " 'SDGSolMinSusEnergyUse',\n",
       " 'SDGSolMaxSusEnergyUse',\n",
       " 'SDGSolMinSusBuildings',\n",
       " 'SDGSolMaxSusBuildings',\n",
       " 'SDGSolMinOptMaterials',\n",
       " 'SDGSolMaxOptMaterials',\n",
       " 'SDGSolPoverty1MInvLtdCont',\n",
       " 'SDGSolPoverty1MInvLtdContPeer',\n",
       " 'SDGSolMinMitClimateChng',\n",
       " 'SDGSolMaxMitClimateChng',\n",
       " 'SDGSolMinMarineEcosys',\n",
       " 'SDGSolMaxMarineEcosys',\n",
       " 'SDGSolPoverty1MInvNoNetImpact',\n",
       " 'SDGSolPoverty1MInvNoNetImpactPeer',\n",
       " 'SDGSolMinTerrestlEcosys',\n",
       " 'SDGSolMaxTerrestlEcosys',\n",
       " 'SDGSolMinOtherEnv',\n",
       " 'SDGSolMaxOtherEnv',\n",
       " 'SDGSolPoverty1MInvSigCont',\n",
       " 'SDGSolPoverty1MInvSigContPeer',\n",
       " 'SDGSolPoverty1MInvLtdObstruct',\n",
       " 'SDGSolPoverty1MInvLtdObstructPeer',\n",
       " 'SDGSolPoverty1MInvSigObstruct',\n",
       " 'SDGSolPoverty1MInvSigObstructPeer',\n",
       " 'SDGSolHunger1MInvSigCont',\n",
       " 'SDGSolHunger1MInvSigContPeer',\n",
       " 'SDGSolHunger1MInvLtdCont',\n",
       " 'SDGSolHunger1MInvLtdContPeer',\n",
       " 'SDGSolHunger1MInvNoNetImpact',\n",
       " 'SDGSolHunger1MInvNoNetImpactPeer',\n",
       " 'SDGSolHunger1MInvLtdObstruct',\n",
       " 'SDGSolHunger1MInvLtdObstructPeer',\n",
       " 'SDGSolHunger1MInvSigObstruct',\n",
       " 'SDGSolHunger1MInvSigObstructPeer',\n",
       " 'SDGSolHealth1MInvSigCont',\n",
       " 'SDGSolHealth1MInvSigContPeer',\n",
       " 'SDGSolHealth1MInvLtdCont',\n",
       " 'SDGSolHealth1MInvLtdContPeer',\n",
       " 'SDGSolHealth1MInvNoNetImpact',\n",
       " 'SDGSolHealth1MInvNoNetImpactPeer',\n",
       " 'SDGSolHealth1MInvLtdObstruct',\n",
       " 'SDGSolHealth1MInvLtdObstructPeer',\n",
       " 'SDGSolHealth1MInvSigObstruct',\n",
       " 'SDGSolHealth1MInvSigObstructPeer',\n",
       " 'SDGSolEdu1MInvSigCont',\n",
       " 'SDGSolEdu1MInvSigContPeer',\n",
       " 'SDGSolEdu1MInvLtdCont',\n",
       " 'SDGSolEdu1MInvLtdContPeer',\n",
       " 'SDGSolEdu1MInvNoNetImpact',\n",
       " 'SDGSolEdu1MInvNoNetImpactPeer',\n",
       " 'SDGSolEdu1MInvLtdObstruct',\n",
       " 'SDGSolEdu1MInvLtdObstructPeer',\n",
       " 'SDGSolEdu1MInvSigObstruct',\n",
       " 'SDGSolEdu1MInvSigObstructPeer',\n",
       " 'SDGSolGender1MInvSigCont',\n",
       " 'SDGSolGender1MInvSigContPeer',\n",
       " 'SDGSolGender1MInvLtdCont',\n",
       " 'SDGSolGender1MInvLtdContPeer',\n",
       " 'SDGSolGender1MInvNoNetImpact',\n",
       " 'SDGSolGender1MInvNoNetImpactPeer',\n",
       " 'SDGSolGender1MInvLtdObstruct',\n",
       " 'SDGSolGender1MInvLtdObstructPeer',\n",
       " 'SDGSolGender1MInvSigObstruct',\n",
       " 'SDGSolGender1MInvSigObstructPeer',\n",
       " 'SDGSolBasServ1MInvSigCont',\n",
       " 'SDGSolBasServ1MInvSigContPeer',\n",
       " 'SDGSolBasServ1MInvLtdCont',\n",
       " 'SDGSolBasServ1MInvLtdContPeer',\n",
       " 'SDGSolBasServ1MInvNoNetImpact',\n",
       " 'SDGSolBasServ1MInvNoNetImpactPeer',\n",
       " 'SDGSolBasServ1MInvLtdObstruct',\n",
       " 'SDGSolBasServ1MInvLtdObstructPeer',\n",
       " 'SDGSolBasServ1MInvSigObstruct',\n",
       " 'SDGSolBasServ1MInvSigObstructPeer',\n",
       " 'SDGSolPeace1MInvSigCont',\n",
       " 'SDGSolPeace1MInvSigContPeer',\n",
       " 'SDGSolPeace1MInvLtdCont',\n",
       " 'SDGSolPeace1MInvLtdContPeer',\n",
       " 'SDGSolPeace1MInvNoNetImpact',\n",
       " 'SDGSolPeace1MInvNoNetImpactPeer',\n",
       " 'SDGSolPeace1MInvLtdObstruct',\n",
       " 'SDGSolPeace1MInvLtdObstructPeer',\n",
       " 'SDGSolPeace1MInvSigObstruct',\n",
       " 'SDGSolPeace1MInvSigObstructPeer',\n",
       " 'SDGSolOtherSoc1MInvSigCont',\n",
       " 'SDGSolOtherSoc1MInvSigContPeer',\n",
       " 'SDGSolOtherSoc1MInvLtdCont',\n",
       " 'SDGSolOtherSoc1MInvLtdContPeer',\n",
       " 'SDGSolOtherSoc1MInvNoNetImpact',\n",
       " 'SDGSolOtherSoc1MInvNoNetImpactPeer',\n",
       " 'SDGSolOtherSoc1MInvLtdObstruct',\n",
       " 'SDGSolOtherSoc1MInvLtdObstructPeer',\n",
       " 'SDGSolOtherSoc1MInvSigObstruct',\n",
       " 'SDGSolOtherSoc1MInvSigObstructPeer',\n",
       " 'SDGSolAgri1MInvSigCont',\n",
       " 'SDGSolAgri1MInvSigContPeer',\n",
       " 'SDGSolAgri1MInvLtdCont',\n",
       " 'SDGSolAgri1MInvLtdContPeer',\n",
       " 'SDGSolAgri1MInvNoNetImpact',\n",
       " 'SDGSolAgri1MInvNoNetImpactPeer',\n",
       " 'SDGSolAgri1MInvLtdObstruct',\n",
       " 'SDGSolAgri1MInvLtdObstructPeer',\n",
       " 'SDGSolAgri1MInvSigObstruct',\n",
       " 'SDGSolAgri1MInvSigObstructPeer',\n",
       " 'SDGSolWater1MInvSigCont',\n",
       " 'SDGSolWater1MInvSigContPeer',\n",
       " 'SDGSolWater1MInvLtdCont',\n",
       " 'SDGSolWater1MInvLtdContPeer',\n",
       " 'SDGSolWater1MInvNoNetImpact',\n",
       " 'SDGSolWater1MInvNoNetImpactPeer',\n",
       " 'SDGSolWater1MInvLtdObstruct',\n",
       " 'SDGSolWater1MInvLtdObstructPeer',\n",
       " 'SDGSolWater1MInvSigObstruct',\n",
       " 'SDGSolWater1MInvSigObstructPeer',\n",
       " 'SDGSolEnergy1MInvSigCont',\n",
       " 'SDGSolEnergy1MInvSigContPeer',\n",
       " 'SDGSolEnergy1MInvLtdCont',\n",
       " 'SDGSolEnergy1MInvLtdContPeer',\n",
       " 'SDGSolEnergy1MInvNoNetImpact',\n",
       " 'SDGSolEnergy1MInvNoNetImpactPeer',\n",
       " 'SDGSolEnergy1MInvLtdObstruct',\n",
       " 'SDGSolEnergy1MInvLtdObstructPeer',\n",
       " 'SDGSolEnergy1MInvSigObstruct',\n",
       " 'SDGSolEnergy1MInvSigObstructPeer',\n",
       " 'SDGSolSusBuild1MInvSigCont',\n",
       " 'SDGSolSusBuild1MInvSigContPeer',\n",
       " 'SDGSolSusBuild1MInvLtdCont',\n",
       " 'SDGSolSusBuild1MInvLtdContPeer',\n",
       " 'SDGSolSusBuild1MInvNoNetImpact',\n",
       " 'SDGSolSusBuild1MInvNoNetImpactPeer',\n",
       " 'SDGSolSusBuild1MInvLtdObstruct',\n",
       " 'SDGSolSusBuild1MInvLtdObstructPeer',\n",
       " 'SDGSolSusBuild1MInvSigObstruct',\n",
       " 'SDGSolSusBuild1MInvSigObstructPeer',\n",
       " 'SDGSolMatUse1MInvSigCont',\n",
       " 'SDGSolMatUse1MInvSigContPeer',\n",
       " 'SDGSolMatUse1MInvLtdCont',\n",
       " 'SDGSolMatUse1MInvLtdContPeer',\n",
       " 'SDGSolMatUse1MInvNoNetImpact',\n",
       " 'SDGSolMatUse1MInvNoNetImpactPeer',\n",
       " 'SDGSolMatUse1MInvLtdObstruct',\n",
       " 'SDGSolMatUse1MInvLtdObstructPeer',\n",
       " 'SDGSolMatUse1MInvSigObstruct',\n",
       " 'SDGSolMatUse1MInvSigObstructPeer',\n",
       " 'SDGSolClimate1MInvSigCont',\n",
       " 'SDGSolClimate1MInvSigContPeer',\n",
       " 'SDGSolClimate1MInvLtdCont',\n",
       " 'SDGSolClimate1MInvLtdContPeer',\n",
       " 'SDGSolClimate1MInvNoNetImpact',\n",
       " 'SDGSolClimate1MInvNoNetImpactPeer',\n",
       " 'SDGSolClimate1MInvLtdObstruct',\n",
       " 'SDGSolClimate1MInvLtdObstructPeer',\n",
       " 'SDGSolClimate1MInvSigObstruct',\n",
       " 'SDGSolClimate1MInvSigObstructPeer',\n",
       " 'SDGSolMarine1MInvSigCont',\n",
       " 'SDGSolMarine1MInvSigContPeer',\n",
       " 'SDGSolMarine1MInvLtdCont',\n",
       " 'SDGSolMarine1MInvLtdContPeer',\n",
       " 'SDGSolMarine1MInvNoNetImpact',\n",
       " 'SDGSolMarine1MInvNoNetImpactPeer',\n",
       " 'SDGSolMarine1MInvLtdObstruct',\n",
       " 'SDGSolMarine1MInvLtdObstructPeer',\n",
       " 'SDGSolMarine1MInvSigObstruct',\n",
       " 'SDGSolMarine1MInvSigObstructPeer',\n",
       " 'SDGSolTerrEco1MInvSigCont',\n",
       " 'SDGSolTerrEco1MInvSigContPeer',\n",
       " 'SDGSolTerrEco1MInvLtdCont',\n",
       " 'SDGSolTerrEco1MInvLtdContPeer',\n",
       " 'SDGSolTerrEco1MInvNoNetImpact',\n",
       " 'SDGSolTerrEco1MInvNoNetImpactPeer',\n",
       " 'SDGSolTerrEco1MInvLtdObstruct',\n",
       " 'SDGSolTerrEco1MInvLtdObstructPeer',\n",
       " 'SDGSolTerrEco1MInvSigObstruct',\n",
       " 'SDGSolTerrEco1MInvSigObstructPeer',\n",
       " 'SDGSolOtherEnv1MInvSigCont',\n",
       " 'SDGSolOtherEnv1MInvSigContPeer',\n",
       " 'SDGSolOtherEnv1MInvLtdCont',\n",
       " 'SDGSolOtherEnv1MInvLtdContPeer',\n",
       " 'SDGSolOtherEnv1MInvNoNetImpact',\n",
       " 'SDGSolOtherEnv1MInvNoNetImpactPeer',\n",
       " 'SDGSolOtherEnv1MInvLtdObstruct',\n",
       " 'SDGSolOtherEnv1MInvLtdObstructPeer',\n",
       " 'SDGSolOtherEnv1MInvSigObstruct',\n",
       " 'SDGSolOtherEnv1MInvSigObstructPeer']"
      ]
     },
     "execution_count": 15,
     "metadata": {},
     "output_type": "execute_result"
    }
   ],
   "source": [
    "new_factors"
   ]
  },
  {
   "cell_type": "code",
   "execution_count": 5,
   "id": "3032f4f1",
   "metadata": {},
   "outputs": [],
   "source": [
    "def compareFactorDiffViews(view1, view2, newFactorsFile,oldFactorFile):\n",
    "    viewFactorListOld = list(pd.read_excel(view1).columns)\n",
    "    viewFactorListNew = list(pd.read_excel(view2).columns)\n",
    "    \n",
    "    if \"issuerID\" in viewFactorListOld:\n",
    "        viewFactorListOld.remove(\"issuerID\")\n",
    "        \n",
    "    if \"issuerID\" in viewFactorListNew:\n",
    "        viewFactorListNew.remove(\"issuerID\")\n",
    "\n",
    "    new_factors =[x for x in viewFactorListNew if x not in viewFactorListOld]\n",
    "    removed_factors =[x for x in viewFactorListOld if x not in viewFactorListNew]\n",
    "    \n",
    "    if not len(new_factors) == 0:   \n",
    "        with open(newFactorsFile +'.txt', mode='w+', encoding='utf-8') as myfile:\n",
    "            myfile.write('\\n'.join(new_factors))\n",
    "        print(\"New factors present\")\n",
    "    else:\n",
    "        print(\"No Added factors\")\n",
    "    \n",
    "    if not len(removed_factors) == 0:    \n",
    "        with open(oldFactorFile+\".txt\", mode='w+', encoding='utf-8') as myfile:\n",
    "                myfile.write('\\n'.join(removed_factors))\n",
    "        print(\"removed factors present\")\n",
    "    else:\n",
    "        print(\"No removed factors\")"
   ]
  },
  {
   "cell_type": "code",
   "execution_count": 24,
   "id": "ef9011ea",
   "metadata": {},
   "outputs": [
    {
     "name": "stdout",
     "output_type": "stream",
     "text": [
      "No Added factors\n",
      "No removed factors\n"
     ]
    }
   ],
   "source": [
    "compareFactorDiffViews(\"./DATA/DD-12303/ImpactUNSDG_SDGSolutionsAssessment_Inst_Corp_V1.xlsx\",\n",
    "                       \"./data/DD-12303/ImpactUNSDG_SDGSolutionsAssessment_Inst_Sample_V1.xlsx\",\n",
    "                       './DATA/Diff_files/Factors in data view not in sample view',\n",
    "                       './DATA/Diff_files/Factors in sample view not in data view')"
   ]
  },
  {
   "cell_type": "code",
   "execution_count": 35,
   "id": "2eb573e7",
   "metadata": {},
   "outputs": [
    {
     "name": "stdout",
     "output_type": "stream",
     "text": [
      "No extra factors in view\n",
      "Extra factors in dictionary present\n"
     ]
    },
    {
     "name": "stderr",
     "output_type": "stream",
     "text": [
      "C:\\Users\\varthar\\AppData\\Local\\Temp\\3\\ipykernel_9684\\3365250513.py:7: FutureWarning: The frame.append method is deprecated and will be removed from pandas in a future version. Use pandas.concat instead.\n",
      "  df =df.append(data)\n",
      "C:\\Users\\varthar\\AppData\\Local\\Temp\\3\\ipykernel_9684\\3365250513.py:7: FutureWarning: The frame.append method is deprecated and will be removed from pandas in a future version. Use pandas.concat instead.\n",
      "  df =df.append(data)\n"
     ]
    }
   ],
   "source": [
    "factorDiffDictionary([\"./DATA/DD-11949/SF Phase 2 - Data Dictionary - SDGSA Funds.xlsx\",\n",
    "                      \"./DATA/DD-11949/SF Phase 2 - Data Dictionary - SDGSA Issuers.xlsx\"],\"./DATA/DD-12303/ImpactUNSDG_SDGSolutionsAssessment_Inst_Dictionary_V1.xlsx\",\n",
    "                     './DATA/Diff_files/Extra factors in dictionary view',\n",
    "                     \"./DATA/Diff_files/Extra factors in dictionary\")"
   ]
  },
  {
   "cell_type": "code",
   "execution_count": 36,
   "id": "686e6095",
   "metadata": {},
   "outputs": [
    {
     "name": "stdout",
     "output_type": "stream",
     "text": [
      "No extra factors in view\n",
      "Extra factors in dictionary present\n"
     ]
    },
    {
     "name": "stderr",
     "output_type": "stream",
     "text": [
      "C:\\Users\\varthar\\AppData\\Local\\Temp\\3\\ipykernel_9684\\3365250513.py:7: FutureWarning: The frame.append method is deprecated and will be removed from pandas in a future version. Use pandas.concat instead.\n",
      "  df =df.append(data)\n",
      "C:\\Users\\varthar\\AppData\\Local\\Temp\\3\\ipykernel_9684\\3365250513.py:7: FutureWarning: The frame.append method is deprecated and will be removed from pandas in a future version. Use pandas.concat instead.\n",
      "  df =df.append(data)\n"
     ]
    }
   ],
   "source": [
    "factorDiffDictionary([\"./DATA/DD-11949/SF Phase 2 - Data Dictionary - SDGSA Funds.xlsx\",\n",
    "                      \"./DATA/DD-11949/SF Phase 2 - Data Dictionary - SDGSA Issuers.xlsx\"],\"./DATA/DD-12303/ImpactUNSDG_SDGSolutionsAssessment_Inst_Corp_V1.xlsx\",\n",
    "                     './DATA/Diff_files/Extra factors in inst_corp view',\n",
    "                     \"./DATA/Diff_files/Extra factors in dictionary\")"
   ]
  },
  {
   "cell_type": "code",
   "execution_count": 4,
   "id": "01efe579",
   "metadata": {},
   "outputs": [
    {
     "name": "stdout",
     "output_type": "stream",
     "text": [
      "New factors present\n",
      "No removed factors\n"
     ]
    }
   ],
   "source": [
    "compareFactorDiffViews(\"./DATA/DD-1333/ScreeningControversies_Issuer_Reference_V1.xlsx\",\n",
    "                       \"./data/DD-1333/ScreeningControversies_Issuer_Reference_V1_NEW.xlsx\",\n",
    "                       './DATA/Diff_files/Factors present in new not in old',\n",
    "                       './DATA/Diff_files/Factors present in old not in new')"
   ]
  },
  {
   "cell_type": "code",
   "execution_count": 5,
   "id": "af12e0a6",
   "metadata": {},
   "outputs": [],
   "source": [
    "viewFactorListNew = list(pd.read_excel(\"./data/DD-1333/ScreeningControversies_Issuer_Reference_V1_NEW.xlsx\").columns)"
   ]
  },
  {
   "cell_type": "code",
   "execution_count": 6,
   "id": "4c1135fc",
   "metadata": {},
   "outputs": [
    {
     "data": {
      "text/plain": [
       "['IssuerLEI',\n",
       " 'BloombergID',\n",
       " 'IssuerDescription',\n",
       " 'IssuerType',\n",
       " 'Ticker',\n",
       " 'EKNIdentifier',\n",
       " 'GICSSector',\n",
       " 'GICSSubIndustry',\n",
       " 'IssuerWebsite',\n",
       " 'ISIN',\n",
       " 'issuerID',\n",
       " 'CountryOfCoverage',\n",
       " 'CountryOfIncorporation',\n",
       " 'CUSIP',\n",
       " 'GICSIndustry',\n",
       " 'GICSIndustryGroup',\n",
       " 'IssuerName',\n",
       " 'IssuerCIK',\n",
       " 'SIC',\n",
       " 'StateOfIncorporation',\n",
       " 'StockExchange',\n",
       " 'ClimateParentEntityID',\n",
       " 'ClimateParentEntityName',\n",
       " 'IssuerRegion',\n",
       " 'ISOCountryCode2',\n",
       " 'IssuerJQ',\n",
       " 'ISOCountryName',\n",
       " 'ISOCountryCode3',\n",
       " 'NACECodeNumber',\n",
       " 'NACECodeTreeDescription',\n",
       " 'SPVParentEntityID',\n",
       " 'SPVParentEntityName',\n",
       " 'SEDOL',\n",
       " 'ESGRatingParentEntityID',\n",
       " 'ESGRatingParentEntityName']"
      ]
     },
     "execution_count": 6,
     "metadata": {},
     "output_type": "execute_result"
    }
   ],
   "source": [
    "viewFactorListNew"
   ]
  },
  {
   "cell_type": "code",
   "execution_count": 7,
   "id": "78217042",
   "metadata": {},
   "outputs": [
    {
     "data": {
      "text/plain": [
       "['BloombergID',\n",
       " 'CountryOfCoverage',\n",
       " 'CountryOfIncorporation',\n",
       " 'EKNIdentifier',\n",
       " 'ESGRatingParentEntityID',\n",
       " 'ESGRatingParentEntityName',\n",
       " 'GICSIndustry',\n",
       " 'GICSIndustryGroup',\n",
       " 'GICSSector',\n",
       " 'GICSSubIndustry',\n",
       " 'ISIN',\n",
       " 'ISOCountryCode2',\n",
       " 'ISOCountryCode3',\n",
       " 'ISOCountryName',\n",
       " 'IssuerCIK',\n",
       " 'IssuerDescription',\n",
       " 'issuerID',\n",
       " 'IssuerJQ',\n",
       " 'IssuerLEI',\n",
       " 'IssuerName',\n",
       " 'IssuerRegion',\n",
       " 'IssuerType',\n",
       " 'IssuerWebsite',\n",
       " 'NACECodeNumber',\n",
       " 'NACECodeTreeDescription',\n",
       " 'SIC',\n",
       " 'SPVParentEntityID',\n",
       " 'SPVParentEntityName',\n",
       " 'StateOfIncorporation',\n",
       " 'StockExchange',\n",
       " 'Ticker']"
      ]
     },
     "execution_count": 7,
     "metadata": {},
     "output_type": "execute_result"
    }
   ],
   "source": [
    "list(pd.read_excel(\"./data/DD-1333/ScreeningControversies_Issuer_Reference_V1.xlsx\").columns)"
   ]
  },
  {
   "cell_type": "code",
   "execution_count": 3,
   "id": "0116fc0f",
   "metadata": {},
   "outputs": [
    {
     "name": "stdout",
     "output_type": "stream",
     "text": [
      "New factors present\n",
      "removed factors present\n"
     ]
    }
   ],
   "source": [
    "compareFactorDiffViews(\"./DATA/DIFF/ScreeningControversies_SectorScreening_All_Inst_Dictionary_V1.xlsx\",\"./DATA/DIFF/VIEW - ScreeningControversies_SectorScreening_All_Inst_Dictionary_V1.xlsx\",\"./DATA/Diff_files/Additions in SBS Dictionary View\",\"./DATA/Diff_files/Removed from new dictionary view\")"
   ]
  },
  {
   "cell_type": "code",
   "execution_count": 5,
   "id": "f6100832",
   "metadata": {},
   "outputs": [
    {
     "name": "stderr",
     "output_type": "stream",
     "text": [
      "C:\\Users\\varthar\\AppData\\Local\\Temp\\5\\ipykernel_39360\\3365250513.py:7: FutureWarning: The frame.append method is deprecated and will be removed from pandas in a future version. Use pandas.concat instead.\n",
      "  df =df.append(data)\n"
     ]
    },
    {
     "name": "stdout",
     "output_type": "stream",
     "text": [
      "Extra factors in view present\n",
      "Extra factors in dictionary present\n"
     ]
    }
   ],
   "source": [
    "factorDiffDictionary([\"./DATA/DIFF/ScreeningControversies_SectorScreening_All_Inst_Dictionary_V1.xlsx\"],\n",
    "                     \"./DATA/DIFF/VIEW - ScreeningControversies_SectorScreening_All_Inst_Dictionary_V1.xlsx\",\n",
    "                     \"./DATA/Diff_files/Additions in SBS Dictionary View\",\n",
    "                     \"./DATA/Diff_files/Removed from new dictionary view\"\n",
    "                    )"
   ]
  },
  {
   "cell_type": "code",
   "execution_count": 13,
   "id": "e0af33d9",
   "metadata": {},
   "outputs": [],
   "source": [
    "def DiffDictionary(dicList1,dicList2,filename1,filename2):\n",
    "    import pandas as pd\n",
    "    import numpy as np\n",
    "    df = pd.DataFrame()\n",
    "    df2 = pd.DataFrame()\n",
    "    for f in dicList1:\n",
    "        data = pd.read_excel(str(f))\n",
    "        df =pd.concat([df, data],ignore_index=True)\n",
    "    col_list_set1 = set(df[\"File Header\"].tolist())\n",
    "    \n",
    "    for f in dicList2:\n",
    "        data2 = pd.read_excel(str(f))\n",
    "        df2 =pd.concat([df2, data2],ignore_index=True)\n",
    "    \n",
    "    col_list_set2 = set(df2[\"File Header\"].tolist())\n",
    "    \n",
    "    \n",
    "    temp3 = [x for x in col_list_set2 if x not in col_list_set1]\n",
    "    \n",
    "    temp4 = [x for x in col_list_set1 if x not in col_list_set2]\n",
    "    \n",
    "    if not len(temp3)==0:\n",
    "        with open(filename1+\".txt\", mode='w', encoding='utf-8') as myfile:\n",
    "            myfile.write('\\n'.join(temp3))\n",
    "        print(\"Extra factors in new dictionary\")\n",
    "    else:\n",
    "        print(\"No extra factors in new dictionary\")\n",
    "        \n",
    "        \n",
    "    if not len(temp4)==0:\n",
    "        with open(filename2+\".txt\", mode='w', encoding='utf-8') as myfile:\n",
    "            myfile.write('\\n'.join(temp4))\n",
    "        print(\"Extra factors in old dictionary present\")\n",
    "    else:\n",
    "        print(\"No extra factors in dictionary\")"
   ]
  },
  {
   "cell_type": "code",
   "execution_count": 14,
   "id": "4c5f5739",
   "metadata": {},
   "outputs": [
    {
     "name": "stdout",
     "output_type": "stream",
     "text": [
      "Extra factors in new dictionary\n",
      "No extra factors in dictionary\n"
     ]
    }
   ],
   "source": [
    "DiffDictionary([\"./DATA/DIFF/DICTIONARY - ScreeningControversies_SectorScreening_All_Inst_Dictionary_V1.xlsx\"],\n",
    "               [\"./DATA/DIFF/ScreeningControversies_SectorScreening_All_Inst_Dictionary_V1.xlsx\"],\n",
    "               \"./DATA/Diff_files/New factors in sbs dictionary\",\n",
    "               \"./DATA/Diff_files/Removed factors from sbs dictionary\")"
   ]
  },
  {
   "cell_type": "code",
   "execution_count": 7,
   "id": "7b622319",
   "metadata": {},
   "outputs": [
    {
     "name": "stdout",
     "output_type": "stream",
     "text": [
      "No Added factors\n",
      "No removed factors\n"
     ]
    }
   ],
   "source": [
    "compareFactorDiffViews(\"./DATA/SBS Updates/VIEW - ScreeningControversies_SectorScreening_All_Inst_Corp_V1.xlsx\",\n",
    "                       \"./DATA/SBS Updates/VIEW - ScreeningControversies_SectorScreening_All_Inst_Dictionary_V1.xlsx\",\n",
    "                       './DATA/Diff_files/Factors extra in NEW dictionary view',\n",
    "                       './DATA/Diff_files/Factors extra in NEW data view')"
   ]
  },
  {
   "cell_type": "code",
   "execution_count": 8,
   "id": "d8ecf1db",
   "metadata": {},
   "outputs": [
    {
     "name": "stdout",
     "output_type": "stream",
     "text": [
      "No extra factors in view\n",
      "No extra factors in dictionary\n"
     ]
    },
    {
     "name": "stderr",
     "output_type": "stream",
     "text": [
      "C:\\Users\\varthar\\AppData\\Local\\Temp\\1\\ipykernel_14676\\3365250513.py:7: FutureWarning: The frame.append method is deprecated and will be removed from pandas in a future version. Use pandas.concat instead.\n",
      "  df =df.append(data)\n"
     ]
    }
   ],
   "source": [
    "factorDiffDictionary([\"./DATA/SBS Updates/V DICTIONARY - ScreeningControversies_SectorScreening_All_Inst_Dictionary_V1.xlsx\"],\n",
    "                     \"./DATA/SBS Updates/VIEW - ScreeningControversies_SectorScreening_All_Inst_Corp_V1.xlsx\",\n",
    "                     './DATA/Diff_files/Factors extra in data view',\n",
    "                     './DATA/Diff_files/Factors extra in dictionary')"
   ]
  },
  {
   "cell_type": "code",
   "execution_count": 10,
   "id": "367fe85d",
   "metadata": {},
   "outputs": [],
   "source": [
    "dicList1 = [\"./DATA/DIFF/DICTIONARY - ScreeningControversies_SectorScreening_All_Inst_Dictionary_V1.xlsx\"]\n",
    "df = pd.DataFrame()\n",
    "for f in dicList1:\n",
    "    data = pd.read_excel(str(f))\n",
    "    df =pd.concat([df, data],ignore_index=True)"
   ]
  },
  {
   "cell_type": "code",
   "execution_count": 11,
   "id": "61bcb685",
   "metadata": {},
   "outputs": [
    {
     "data": {
      "text/html": [
       "<div>\n",
       "<style scoped>\n",
       "    .dataframe tbody tr th:only-of-type {\n",
       "        vertical-align: middle;\n",
       "    }\n",
       "\n",
       "    .dataframe tbody tr th {\n",
       "        vertical-align: top;\n",
       "    }\n",
       "\n",
       "    .dataframe thead th {\n",
       "        text-align: right;\n",
       "    }\n",
       "</style>\n",
       "<table border=\"1\" class=\"dataframe\">\n",
       "  <thead>\n",
       "    <tr style=\"text-align: right;\">\n",
       "      <th></th>\n",
       "      <th>Name</th>\n",
       "      <th>Label</th>\n",
       "      <th>File Header</th>\n",
       "      <th>Entity</th>\n",
       "      <th>DataSet</th>\n",
       "      <th>Can be Used as Criteria</th>\n",
       "      <th>Can be used in Results</th>\n",
       "      <th>Can be used in Alerts</th>\n",
       "      <th>Can be used in Dashboard Charts</th>\n",
       "      <th>Internal Only</th>\n",
       "      <th>Categories</th>\n",
       "      <th>Description</th>\n",
       "      <th>DataType</th>\n",
       "      <th>Is Derived</th>\n",
       "      <th>Derivation Expression</th>\n",
       "      <th>Formatter</th>\n",
       "      <th>Enumeration Type</th>\n",
       "    </tr>\n",
       "  </thead>\n",
       "  <tbody>\n",
       "    <tr>\n",
       "      <th>0</th>\n",
       "      <td>AbortifacientsCountInvolvedPDS</td>\n",
       "      <td>Abortifacients - Holdings Count by Any Involve...</td>\n",
       "      <td>AbortifacientsCountInvolvedPDS</td>\n",
       "      <td>Issuer</td>\n",
       "      <td>ESG Fund Screening SBS - Abortifacients</td>\n",
       "      <td>True</td>\n",
       "      <td>True</td>\n",
       "      <td>True</td>\n",
       "      <td>False</td>\n",
       "      <td>False</td>\n",
       "      <td>Fund and Portfolio Factors&gt;Sector-Based Screen...</td>\n",
       "      <td>Abortifacients - Holdings Count by Any Involve...</td>\n",
       "      <td>INTEGER</td>\n",
       "      <td>False</td>\n",
       "      <td>NaN</td>\n",
       "      <td>NaN</td>\n",
       "      <td>NaN</td>\n",
       "    </tr>\n",
       "    <tr>\n",
       "      <th>1</th>\n",
       "      <td>AbortifacientsDistrMaxRevRatio1Y</td>\n",
       "      <td>Abortifacients - Distribution Max Pct of Reven...</td>\n",
       "      <td>AbortifacientsDistrMaxRevRatio1Y</td>\n",
       "      <td>Issuer</td>\n",
       "      <td>SBS - Abortifacients|Workstation ESG|Workstati...</td>\n",
       "      <td>True</td>\n",
       "      <td>True</td>\n",
       "      <td>True</td>\n",
       "      <td>False</td>\n",
       "      <td>False</td>\n",
       "      <td>Sector-Based Screening&gt;Medical Ethics&gt;Abortifa...</td>\n",
       "      <td>Abortifacients - Distribution Max Percentage o...</td>\n",
       "      <td>DOUBLE</td>\n",
       "      <td>False</td>\n",
       "      <td>NaN</td>\n",
       "      <td>0.00%</td>\n",
       "      <td>NaN</td>\n",
       "    </tr>\n",
       "    <tr>\n",
       "      <th>2</th>\n",
       "      <td>AbortifacientsDistrMaxRevRatio3Y</td>\n",
       "      <td>Abortifacients - Distribution Max Pct of Reven...</td>\n",
       "      <td>AbortifacientsDistrMaxRevRatio3Y</td>\n",
       "      <td>Issuer</td>\n",
       "      <td>SBS - Abortifacients|Workstation ESG|Workstati...</td>\n",
       "      <td>True</td>\n",
       "      <td>True</td>\n",
       "      <td>True</td>\n",
       "      <td>False</td>\n",
       "      <td>False</td>\n",
       "      <td>Sector-Based Screening&gt;Medical Ethics&gt;Abortifa...</td>\n",
       "      <td>Abortifacients - Distribution Max Percentage o...</td>\n",
       "      <td>DOUBLE</td>\n",
       "      <td>False</td>\n",
       "      <td>NaN</td>\n",
       "      <td>0.00%</td>\n",
       "      <td>NaN</td>\n",
       "    </tr>\n",
       "    <tr>\n",
       "      <th>3</th>\n",
       "      <td>AbortifacientsDistrMinRevRatio1Y</td>\n",
       "      <td>Abortifacients - Distribution Min Pct of Reven...</td>\n",
       "      <td>AbortifacientsDistrMinRevRatio1Y</td>\n",
       "      <td>Issuer</td>\n",
       "      <td>SBS - Abortifacients|Workstation ESG|Workstati...</td>\n",
       "      <td>True</td>\n",
       "      <td>True</td>\n",
       "      <td>True</td>\n",
       "      <td>False</td>\n",
       "      <td>False</td>\n",
       "      <td>Sector-Based Screening&gt;Medical Ethics&gt;Abortifa...</td>\n",
       "      <td>Abortifacients - Distribution Min Percentage o...</td>\n",
       "      <td>DOUBLE</td>\n",
       "      <td>False</td>\n",
       "      <td>NaN</td>\n",
       "      <td>0.00%</td>\n",
       "      <td>NaN</td>\n",
       "    </tr>\n",
       "    <tr>\n",
       "      <th>4</th>\n",
       "      <td>AbortifacientsHasRisk</td>\n",
       "      <td>Abortifacients - Risk</td>\n",
       "      <td>AbortifacientsHasRisk</td>\n",
       "      <td>Issuer</td>\n",
       "      <td>SBS - Abortifacients|Workstation ESG|Workstati...</td>\n",
       "      <td>True</td>\n",
       "      <td>True</td>\n",
       "      <td>True</td>\n",
       "      <td>False</td>\n",
       "      <td>False</td>\n",
       "      <td>Sector-Based Screening&gt;Medical Ethics&gt;Abortifa...</td>\n",
       "      <td>Abortifacients - Risk: This factor identifies ...</td>\n",
       "      <td>BOOLEAN</td>\n",
       "      <td>False</td>\n",
       "      <td>NaN</td>\n",
       "      <td>NaN</td>\n",
       "      <td>NaN</td>\n",
       "    </tr>\n",
       "    <tr>\n",
       "      <th>...</th>\n",
       "      <td>...</td>\n",
       "      <td>...</td>\n",
       "      <td>...</td>\n",
       "      <td>...</td>\n",
       "      <td>...</td>\n",
       "      <td>...</td>\n",
       "      <td>...</td>\n",
       "      <td>...</td>\n",
       "      <td>...</td>\n",
       "      <td>...</td>\n",
       "      <td>...</td>\n",
       "      <td>...</td>\n",
       "      <td>...</td>\n",
       "      <td>...</td>\n",
       "      <td>...</td>\n",
       "      <td>...</td>\n",
       "      <td>...</td>\n",
       "    </tr>\n",
       "    <tr>\n",
       "      <th>324</th>\n",
       "      <td>ViolentVideoGamesRevShareMaxAgg</td>\n",
       "      <td>Violent Video Games - Aggregated Revenue Share...</td>\n",
       "      <td>ViolentVideoGamesRevShareMaxAgg</td>\n",
       "      <td>Issuer</td>\n",
       "      <td>ESG Fund Screening SBS - Violent Video Games</td>\n",
       "      <td>True</td>\n",
       "      <td>True</td>\n",
       "      <td>True</td>\n",
       "      <td>False</td>\n",
       "      <td>False</td>\n",
       "      <td>Fund and Portfolio Factors&gt;Sector-Based Screen...</td>\n",
       "      <td>Violent Video Games - Aggregated Revenue Share...</td>\n",
       "      <td>DOUBLE</td>\n",
       "      <td>False</td>\n",
       "      <td>NaN</td>\n",
       "      <td>0.00%</td>\n",
       "      <td>NaN</td>\n",
       "    </tr>\n",
       "    <tr>\n",
       "      <th>325</th>\n",
       "      <td>ViolentVideoGamesRevShareMin</td>\n",
       "      <td>Violent Video Games - Total Minimum Percentage...</td>\n",
       "      <td>ViolentVideoGamesRevShareMin</td>\n",
       "      <td>Issuer</td>\n",
       "      <td>SBS - Violent Video Games|Labels &amp; Standards -...</td>\n",
       "      <td>True</td>\n",
       "      <td>True</td>\n",
       "      <td>True</td>\n",
       "      <td>False</td>\n",
       "      <td>False</td>\n",
       "      <td>Sector-Based Screening&gt;Violent Video Games|Lab...</td>\n",
       "      <td>Violent Video Games - Total Minimum Percentage...</td>\n",
       "      <td>DOUBLE</td>\n",
       "      <td>False</td>\n",
       "      <td>NaN</td>\n",
       "      <td>0.00%</td>\n",
       "      <td>NaN</td>\n",
       "    </tr>\n",
       "    <tr>\n",
       "      <th>326</th>\n",
       "      <td>ViolentVideoGamesRevShareMinAgg</td>\n",
       "      <td>Violent Video Games - Aggregated Revenue Share...</td>\n",
       "      <td>ViolentVideoGamesRevShareMinAgg</td>\n",
       "      <td>Issuer</td>\n",
       "      <td>ESG Fund Screening SBS - Violent Video Games</td>\n",
       "      <td>True</td>\n",
       "      <td>True</td>\n",
       "      <td>True</td>\n",
       "      <td>False</td>\n",
       "      <td>False</td>\n",
       "      <td>Fund and Portfolio Factors&gt;Sector-Based Screen...</td>\n",
       "      <td>Violent Video Games - Aggregated Revenue Share...</td>\n",
       "      <td>DOUBLE</td>\n",
       "      <td>False</td>\n",
       "      <td>NaN</td>\n",
       "      <td>0.00%</td>\n",
       "      <td>NaN</td>\n",
       "    </tr>\n",
       "    <tr>\n",
       "      <th>327</th>\n",
       "      <td>ViolentVideoGamesRisk</td>\n",
       "      <td>Violent Video Games - Risk</td>\n",
       "      <td>ViolentVideoGamesRisk</td>\n",
       "      <td>Issuer</td>\n",
       "      <td>SBS - Violent Video Games</td>\n",
       "      <td>True</td>\n",
       "      <td>True</td>\n",
       "      <td>True</td>\n",
       "      <td>False</td>\n",
       "      <td>False</td>\n",
       "      <td>Sector-Based Screening&gt;Violent Video Games</td>\n",
       "      <td>Violent Video Games - Risk: This factor identi...</td>\n",
       "      <td>STRINGLIST</td>\n",
       "      <td>False</td>\n",
       "      <td>NaN</td>\n",
       "      <td>NaN</td>\n",
       "      <td>STATIC</td>\n",
       "    </tr>\n",
       "    <tr>\n",
       "      <th>328</th>\n",
       "      <td>ViolentVidGamesRevenueDisclosure</td>\n",
       "      <td>Violent Video Games - Revenue Disclosure</td>\n",
       "      <td>ViolentVidGamesRevenueDisclosure</td>\n",
       "      <td>Issuer</td>\n",
       "      <td>SBS - Violent Video Games</td>\n",
       "      <td>True</td>\n",
       "      <td>True</td>\n",
       "      <td>True</td>\n",
       "      <td>False</td>\n",
       "      <td>False</td>\n",
       "      <td>Sector-Based Screening&gt;Violent Video Games</td>\n",
       "      <td>SBS - Violent Video Games: This factor identif...</td>\n",
       "      <td>STRING</td>\n",
       "      <td>False</td>\n",
       "      <td>NaN</td>\n",
       "      <td>NaN</td>\n",
       "      <td>STATIC</td>\n",
       "    </tr>\n",
       "  </tbody>\n",
       "</table>\n",
       "<p>329 rows × 17 columns</p>\n",
       "</div>"
      ],
      "text/plain": [
       "                                 Name  \\\n",
       "0      AbortifacientsCountInvolvedPDS   \n",
       "1    AbortifacientsDistrMaxRevRatio1Y   \n",
       "2    AbortifacientsDistrMaxRevRatio3Y   \n",
       "3    AbortifacientsDistrMinRevRatio1Y   \n",
       "4               AbortifacientsHasRisk   \n",
       "..                                ...   \n",
       "324   ViolentVideoGamesRevShareMaxAgg   \n",
       "325      ViolentVideoGamesRevShareMin   \n",
       "326   ViolentVideoGamesRevShareMinAgg   \n",
       "327             ViolentVideoGamesRisk   \n",
       "328  ViolentVidGamesRevenueDisclosure   \n",
       "\n",
       "                                                 Label  \\\n",
       "0    Abortifacients - Holdings Count by Any Involve...   \n",
       "1    Abortifacients - Distribution Max Pct of Reven...   \n",
       "2    Abortifacients - Distribution Max Pct of Reven...   \n",
       "3    Abortifacients - Distribution Min Pct of Reven...   \n",
       "4                                Abortifacients - Risk   \n",
       "..                                                 ...   \n",
       "324  Violent Video Games - Aggregated Revenue Share...   \n",
       "325  Violent Video Games - Total Minimum Percentage...   \n",
       "326  Violent Video Games - Aggregated Revenue Share...   \n",
       "327                         Violent Video Games - Risk   \n",
       "328           Violent Video Games - Revenue Disclosure   \n",
       "\n",
       "                          File Header  Entity  \\\n",
       "0      AbortifacientsCountInvolvedPDS  Issuer   \n",
       "1    AbortifacientsDistrMaxRevRatio1Y  Issuer   \n",
       "2    AbortifacientsDistrMaxRevRatio3Y  Issuer   \n",
       "3    AbortifacientsDistrMinRevRatio1Y  Issuer   \n",
       "4               AbortifacientsHasRisk  Issuer   \n",
       "..                                ...     ...   \n",
       "324   ViolentVideoGamesRevShareMaxAgg  Issuer   \n",
       "325      ViolentVideoGamesRevShareMin  Issuer   \n",
       "326   ViolentVideoGamesRevShareMinAgg  Issuer   \n",
       "327             ViolentVideoGamesRisk  Issuer   \n",
       "328  ViolentVidGamesRevenueDisclosure  Issuer   \n",
       "\n",
       "                                               DataSet  \\\n",
       "0              ESG Fund Screening SBS - Abortifacients   \n",
       "1    SBS - Abortifacients|Workstation ESG|Workstati...   \n",
       "2    SBS - Abortifacients|Workstation ESG|Workstati...   \n",
       "3    SBS - Abortifacients|Workstation ESG|Workstati...   \n",
       "4    SBS - Abortifacients|Workstation ESG|Workstati...   \n",
       "..                                                 ...   \n",
       "324       ESG Fund Screening SBS - Violent Video Games   \n",
       "325  SBS - Violent Video Games|Labels & Standards -...   \n",
       "326       ESG Fund Screening SBS - Violent Video Games   \n",
       "327                          SBS - Violent Video Games   \n",
       "328                          SBS - Violent Video Games   \n",
       "\n",
       "     Can be Used as Criteria  Can be used in Results  Can be used in Alerts  \\\n",
       "0                       True                    True                   True   \n",
       "1                       True                    True                   True   \n",
       "2                       True                    True                   True   \n",
       "3                       True                    True                   True   \n",
       "4                       True                    True                   True   \n",
       "..                       ...                     ...                    ...   \n",
       "324                     True                    True                   True   \n",
       "325                     True                    True                   True   \n",
       "326                     True                    True                   True   \n",
       "327                     True                    True                   True   \n",
       "328                     True                    True                   True   \n",
       "\n",
       "     Can be used in Dashboard Charts  Internal Only  \\\n",
       "0                              False          False   \n",
       "1                              False          False   \n",
       "2                              False          False   \n",
       "3                              False          False   \n",
       "4                              False          False   \n",
       "..                               ...            ...   \n",
       "324                            False          False   \n",
       "325                            False          False   \n",
       "326                            False          False   \n",
       "327                            False          False   \n",
       "328                            False          False   \n",
       "\n",
       "                                            Categories  \\\n",
       "0    Fund and Portfolio Factors>Sector-Based Screen...   \n",
       "1    Sector-Based Screening>Medical Ethics>Abortifa...   \n",
       "2    Sector-Based Screening>Medical Ethics>Abortifa...   \n",
       "3    Sector-Based Screening>Medical Ethics>Abortifa...   \n",
       "4    Sector-Based Screening>Medical Ethics>Abortifa...   \n",
       "..                                                 ...   \n",
       "324  Fund and Portfolio Factors>Sector-Based Screen...   \n",
       "325  Sector-Based Screening>Violent Video Games|Lab...   \n",
       "326  Fund and Portfolio Factors>Sector-Based Screen...   \n",
       "327         Sector-Based Screening>Violent Video Games   \n",
       "328         Sector-Based Screening>Violent Video Games   \n",
       "\n",
       "                                           Description    DataType  \\\n",
       "0    Abortifacients - Holdings Count by Any Involve...     INTEGER   \n",
       "1    Abortifacients - Distribution Max Percentage o...      DOUBLE   \n",
       "2    Abortifacients - Distribution Max Percentage o...      DOUBLE   \n",
       "3    Abortifacients - Distribution Min Percentage o...      DOUBLE   \n",
       "4    Abortifacients - Risk: This factor identifies ...     BOOLEAN   \n",
       "..                                                 ...         ...   \n",
       "324  Violent Video Games - Aggregated Revenue Share...      DOUBLE   \n",
       "325  Violent Video Games - Total Minimum Percentage...      DOUBLE   \n",
       "326  Violent Video Games - Aggregated Revenue Share...      DOUBLE   \n",
       "327  Violent Video Games - Risk: This factor identi...  STRINGLIST   \n",
       "328  SBS - Violent Video Games: This factor identif...      STRING   \n",
       "\n",
       "     Is Derived Derivation Expression Formatter Enumeration Type  \n",
       "0         False                   NaN       NaN              NaN  \n",
       "1         False                   NaN     0.00%              NaN  \n",
       "2         False                   NaN     0.00%              NaN  \n",
       "3         False                   NaN     0.00%              NaN  \n",
       "4         False                   NaN       NaN              NaN  \n",
       "..          ...                   ...       ...              ...  \n",
       "324       False                   NaN     0.00%              NaN  \n",
       "325       False                   NaN     0.00%              NaN  \n",
       "326       False                   NaN     0.00%              NaN  \n",
       "327       False                   NaN       NaN           STATIC  \n",
       "328       False                   NaN       NaN           STATIC  \n",
       "\n",
       "[329 rows x 17 columns]"
      ]
     },
     "execution_count": 11,
     "metadata": {},
     "output_type": "execute_result"
    }
   ],
   "source": [
    "df"
   ]
  },
  {
   "cell_type": "code",
   "execution_count": 5,
   "id": "efc3ae58",
   "metadata": {},
   "outputs": [
    {
     "name": "stdout",
     "output_type": "stream",
     "text": [
      "No Added factors\n",
      "No removed factors\n"
     ]
    }
   ],
   "source": [
    "compareFactorDiffViews(\"DATA/dd-12494/VIEW - Regulatory_Issuer_Reference_V1.xlsx\"\n",
    "                       ,\"DATA/dd-12494/VIEW - Regulatory_Issuer_Reference_Dictionary_V1.xlsx\"\n",
    "                      ,\"DATA/Diff_files/Extra in EUTAX Data views\"\n",
    "                      ,\"DATA/Diff_files/Extra in EUTAX Dictionary views\")"
   ]
  },
  {
   "cell_type": "code",
   "execution_count": 8,
   "id": "84700a11",
   "metadata": {},
   "outputs": [
    {
     "name": "stdout",
     "output_type": "stream",
     "text": [
      "New factors present\n",
      "removed factors present\n"
     ]
    }
   ],
   "source": [
    "compareFactorDiffViews(\"DATA/dd-12494/VIEW - Regulatory_Issuer_SEDOL_Reference_V1.xlsx\"\n",
    "                       ,\"DATA/dd-12494/VIEW - Regulatory_Issuer_CUSIP_Reference_V1.xlsx\"\n",
    "                      ,\"DATA/Diff_files/Extra in EUTAX CUSIP views\"\n",
    "                      ,\"DATA/Diff_files/Extra in EUTAX SEDOL views\")"
   ]
  },
  {
   "cell_type": "code",
   "execution_count": 9,
   "id": "6d7f234d",
   "metadata": {},
   "outputs": [
    {
     "name": "stdout",
     "output_type": "stream",
     "text": [
      "New factors present\n",
      "No removed factors\n"
     ]
    }
   ],
   "source": [
    "compareFactorDiffViews(\"DATA/dd-12494/VIEW - Regulatory_Issuer_Reference_Dictionary_V1.xlsx\"\n",
    "                       ,\"DATA/dd-12494/VIEW - Regulatory_Issuer_CUSIP_Reference_V1.xlsx\"\n",
    "                      ,\"DATA/Diff_files/Extra in EUTAX CUSIP V2 views\"\n",
    "                      ,\"DATA/Diff_files/Extra in EUTAX DICTIONARY views\")"
   ]
  },
  {
   "cell_type": "code",
   "execution_count": 8,
   "id": "499b3701",
   "metadata": {},
   "outputs": [
    {
     "name": "stdout",
     "output_type": "stream",
     "text": [
      "New factors present\n",
      "No removed factors\n"
     ]
    }
   ],
   "source": [
    "compareFactorDiffViews(\"DATA/dd-12494/VIEW - Regulatory_Issuer_Reference_Dictionary_V1.xlsx\"\n",
    "                       ,\"DATA/dd-12494/VIEW - Regulatory_Issuer_SEDOL_Reference_V1.xlsx\"\n",
    "                      ,\"DATA/Diff_files/Extra in EUTAX SEDOL V2 views\"\n",
    "                      ,\"DATA/Diff_files/Extra in EUTAX DICTIONARY views\")"
   ]
  },
  {
   "cell_type": "code",
   "execution_count": 9,
   "id": "0f42ee69",
   "metadata": {},
   "outputs": [
    {
     "name": "stdout",
     "output_type": "stream",
     "text": [
      "New factors present\n",
      "No removed factors\n"
     ]
    }
   ],
   "source": [
    "compareFactorDiffViews(\"DATA/DD-12585/ClimateSolutions_CarbonRiskRating_Inst_Sample_V1.xlsx\"\n",
    "                      ,\"DATA/DD-11001/ClimateSolutions_CarbonRiskRating_Inst_Corp_V1.xlsx\"\n",
    "                      ,\"DATA/Diff_files/Factors extra in CarbonRiskRating INST View\"\n",
    "                      ,\"DATA/Diff_files/Factors Extra in CarbonRiskRating SAMPLE View\")"
   ]
  },
  {
   "cell_type": "code",
   "execution_count": 8,
   "id": "9ba0ba39",
   "metadata": {},
   "outputs": [
    {
     "name": "stdout",
     "output_type": "stream",
     "text": [
      "New factors present\n",
      "No removed factors\n"
     ]
    }
   ],
   "source": [
    "compareFactorDiffViews(\"DATA/DD-12585 UPDATED/ClimateSolutions_CarbonRiskRating_Inst_Sample_V1.xlsx\"\n",
    "                      ,\"DATA/DD-11001/ClimateSolutions_CarbonRiskRating_Inst_Corp_V1.xlsx\"\n",
    "                      ,\"DATA/Diff_files/Factors extra in CarbonRiskRating INST View\"\n",
    "                      ,\"DATA/Diff_files/Factors Extra in CarbonRiskRating SAMPLE View\")"
   ]
  },
  {
   "cell_type": "code",
   "execution_count": null,
   "id": "307b4665",
   "metadata": {},
   "outputs": [],
   "source": []
  },
  {
   "cell_type": "code",
   "execution_count": 11,
   "id": "6844c431",
   "metadata": {},
   "outputs": [
    {
     "name": "stdout",
     "output_type": "stream",
     "text": [
      "New factors present\n",
      "No removed factors\n"
     ]
    }
   ],
   "source": [
    "compareFactorDiffViews(\"DATA/DD-12585/ClimateSolutions_ClimatePhysicalRisk_Inst_Sample_V1.xlsx\"\n",
    "                      ,\"DATA/DD-11001/ClimateSolutions_ClimatePhysicalRisk_Inst_Corp_V1.xlsx\"\n",
    "                      ,\"DATA/Diff_files/Factors extra in ClimatePhysicalRisk INST View\"\n",
    "                      ,\"DATA/Diff_files/Factors Extra in ClimatePhysicalRisk SAMPLE View\")"
   ]
  },
  {
   "cell_type": "code",
   "execution_count": 9,
   "id": "a0e93164",
   "metadata": {},
   "outputs": [
    {
     "name": "stdout",
     "output_type": "stream",
     "text": [
      "New factors present\n",
      "No removed factors\n"
     ]
    }
   ],
   "source": [
    "compareFactorDiffViews(\"DATA/DD-12585 UPDATED/ClimateSolutions_ClimatePhysicalRisk_Inst_Sample_V1.xlsx\"\n",
    "                      ,\"DATA/DD-11001/ClimateSolutions_ClimatePhysicalRisk_Inst_Corp_V1.xlsx\"\n",
    "                      ,\"DATA/Diff_files/Factors extra in ClimatePhysicalRisk INST View\"\n",
    "                      ,\"DATA/Diff_files/Factors Extra in ClimatePhysicalRisk NEW SAMPLE View\")"
   ]
  },
  {
   "cell_type": "code",
   "execution_count": 13,
   "id": "090b84c5",
   "metadata": {},
   "outputs": [
    {
     "name": "stdout",
     "output_type": "stream",
     "text": [
      "New factors present\n",
      "removed factors present\n"
     ]
    }
   ],
   "source": [
    "compareFactorDiffViews(\"DATA/DD-12585 UPDATED/VIEW - ClimateSolutions_ClimatePhysicalRisk_Inst_Corp_V1.xlsx\"\n",
    "                      ,\"DATA/DD-11001/ClimateSolutions_ClimatePhysicalRisk_Inst_Corp_V1.xlsx\"\n",
    "                      ,\"DATA/Diff_files/Factors extra in ClimatePhysicalRisk OLD INST View\"\n",
    "                      ,\"DATA/Diff_files/Factors Extra in ClimatePhysicalRisk NEW INST View\")"
   ]
  },
  {
   "cell_type": "code",
   "execution_count": 14,
   "id": "b0a62226",
   "metadata": {},
   "outputs": [
    {
     "name": "stdout",
     "output_type": "stream",
     "text": [
      "New factors present\n",
      "removed factors present\n"
     ]
    }
   ],
   "source": [
    "compareFactorDiffViews(\"DATA/DD-12585 UPDATED/ClimateSolutions_ClimatePhysicalRisk_Inst_Sample_V1.xlsx\"\n",
    "                      ,\"DATA/DD-12585 UPDATED/VIEW - ClimateSolutions_ClimatePhysicalRisk_Inst_Corp_V1.xlsx\"\n",
    "                      ,\"DATA/Diff_files/Factors extra in ClimatePhysicalRisk NEW INST View\"\n",
    "                      ,\"DATA/Diff_files/Factors Extra in ClimatePhysicalRisk NEW SAMPLE View\")"
   ]
  },
  {
   "cell_type": "code",
   "execution_count": 11,
   "id": "da43a4fe",
   "metadata": {},
   "outputs": [
    {
     "name": "stdout",
     "output_type": "stream",
     "text": [
      "New factors present\n",
      "removed factors present\n"
     ]
    }
   ],
   "source": [
    "compareFactorDiffViews(\"DATA/DD-12585/ClimateSolutions_SovereignEmissions_Inst_Sample_V1.xlsx\"\n",
    "                      ,\"DATA/DD-11001/ClimateSolutions_SovereignEmissions_Inst_Sov_V1.xlsx\"\n",
    "                      ,\"DATA/Diff_files/Factors extra in SovereignEmissions INST View\"\n",
    "                      ,\"DATA/Diff_files/Factors Extra in SovereignEmissions SAMPLE View\")"
   ]
  },
  {
   "cell_type": "code",
   "execution_count": 10,
   "id": "1b39d873",
   "metadata": {},
   "outputs": [
    {
     "name": "stdout",
     "output_type": "stream",
     "text": [
      "New factors present\n",
      "removed factors present\n"
     ]
    }
   ],
   "source": [
    "compareFactorDiffViews(\"DATA/DD-12585/ClimateSolutions_SovereignEmissions_Inst_Sample_V1.xlsx\"\n",
    "                      ,\"DATA/DD-11001/ClimateSolutions_SovereignEmissions_Inst_Sov_V1.xlsx\"\n",
    "                      ,\"DATA/Diff_files/Factors extra in SovereignEmissions INST View\"\n",
    "                      ,\"DATA/Diff_files/Factors Extra in SovereignEmissions SAMPLE View\")"
   ]
  },
  {
   "cell_type": "code",
   "execution_count": 3,
   "id": "6fe0b820",
   "metadata": {},
   "outputs": [
    {
     "name": "stdout",
     "output_type": "stream",
     "text": [
      "No Added factors\n",
      "No removed factors\n"
     ]
    }
   ],
   "source": [
    "compareFactorDiffViews(\"DATA/DD-12587/ScreeningControversies_NormBasedResearchCases_Inst_Sample_V1.xlsx\"\n",
    "                      ,\"DATA/DD-11015/ScreeningControversies_NormBasedResearchCases_Inst_Corp_V1.xlsx\"\n",
    "                      ,\"DATA/Diff_files/Factors extra in NormBasedResearchCases INST View\"\n",
    "                      ,\"DATA/Diff_files/Factors Extra in NormBasedResearchCases SAMPLE View\")"
   ]
  },
  {
   "cell_type": "code",
   "execution_count": 4,
   "id": "ab3a2548",
   "metadata": {},
   "outputs": [
    {
     "name": "stdout",
     "output_type": "stream",
     "text": [
      "No Added factors\n",
      "No removed factors\n"
     ]
    }
   ],
   "source": [
    "compareFactorDiffViews(\"DATA/DD-12587/ScreeningControversies_NormBasedResearchIssuers_Inst_Sample_V1.xlsx\"\n",
    "                      ,\"DATA/DD-11015/ScreeningControversies_NormBasedResearchIssuers_Inst_Corp_V1.xlsx\"\n",
    "                      ,\"DATA/Diff_files/Factors extra in NormBasedResearchIssuers INST View\"\n",
    "                      ,\"DATA/Diff_files/Factors Extra in NormBasedResearchIssuers SAMPLE View\")"
   ]
  },
  {
   "cell_type": "code",
   "execution_count": 7,
   "id": "55650672",
   "metadata": {},
   "outputs": [],
   "source": [
    "def compareFactorDiffViews2(view1, viewList, newFactorsFile,oldFactorFile):\n",
    "    viewFactorListOld = list(pd.read_excel(view1).columns)\n",
    "    viewFactorList = []\n",
    "    \n",
    "    for f in viewList:\n",
    "        list1 = list(pd.read_excel(str(f)).columns)\n",
    "        viewFactorList.extend(list1)\n",
    "    \n",
    "    \n",
    "    viewFactorListNew = list(set(viewFactorList))\n",
    "    print(len(viewFactorListNew))\n",
    "    if \"issuerID\" in viewFactorListOld:\n",
    "        viewFactorListOld.remove(\"issuerID\")\n",
    "        \n",
    "    if \"issuerID\" in viewFactorListNew:\n",
    "        viewFactorListNew.remove(\"issuerID\")\n",
    "\n",
    "    new_factors =[x for x in viewFactorListNew if x not in viewFactorListOld]\n",
    "    removed_factors =[x for x in viewFactorListOld if x not in viewFactorListNew]\n",
    "    \n",
    "    if not len(new_factors) == 0:   \n",
    "        with open(newFactorsFile +'.txt', mode='w+', encoding='utf-8') as myfile:\n",
    "            myfile.write('\\n'.join(new_factors))\n",
    "        print(\"New factors present\")\n",
    "    else:\n",
    "        print(\"No Added factors\")\n",
    "    \n",
    "    if not len(removed_factors) == 0:    \n",
    "        with open(oldFactorFile+\".txt\", mode='w+', encoding='utf-8') as myfile:\n",
    "                myfile.write('\\n'.join(removed_factors))\n",
    "        print(\"removed factors present\")\n",
    "    else:\n",
    "        print(\"No removed factors\")"
   ]
  },
  {
   "cell_type": "code",
   "execution_count": 9,
   "id": "79dfd523",
   "metadata": {},
   "outputs": [
    {
     "name": "stdout",
     "output_type": "stream",
     "text": [
      "No Added factors\n",
      "No removed factors\n"
     ]
    }
   ],
   "source": [
    "compareFactorDiffViews(\"DATA/DD-12581/ESGRatingsRankings_ESGCorporateRating_RatingOnly_Inst_Sample_V2.xlsx\"\n",
    "                      ,\"DATA/DD-11017/ESGRatingsRankings_ESGCorporateRating_RatingOnly_Inst_Corp_V1.xlsx\"\n",
    "                      ,\"DATA/Diff_files/Factors extra in ESGCorporateRating_RatingOnly INST View\"\n",
    "                      ,\"DATA/Diff_files/Factors Extra in ESGCorporateRating_RatingOnly SAMPLE View\")"
   ]
  },
  {
   "cell_type": "code",
   "execution_count": 8,
   "id": "fb92fd0a",
   "metadata": {},
   "outputs": [
    {
     "name": "stdout",
     "output_type": "stream",
     "text": [
      "2431\n",
      "No Added factors\n",
      "No removed factors\n"
     ]
    }
   ],
   "source": [
    "compareFactorDiffViews2(\"DATA/DD-12581/ESGRatingsRankings_ESGCorporateRating_RatingDetail_Inst_Sample_V1.xlsx\"\n",
    "                      ,[\"DATA/DD-11017/ESGRatingsRankings_ESGCorporateRating_RatingDetail_Inst_Corp_V1a.xlsx\",\n",
    "                        \"DATA/DD-11017/ESGRatingsRankings_ESGCorporateRating_RatingDetail_Inst_Corp_V1b.xlsx\",\n",
    "                        \"DATA/DD-11017/ESGRatingsRankings_ESGCorporateRating_RatingDetail_Inst_Corp_V1c.xlsx\"]\n",
    "                      ,\"DATA/Diff_files/Factors extra in ESGCorporateRating_RatingDetail INST View\"\n",
    "                      ,\"DATA/Diff_files/Factors Extra in ESGCorporateRating_RatingDetail SAMPLE View\")"
   ]
  },
  {
   "cell_type": "code",
   "execution_count": null,
   "id": "d65e60d5",
   "metadata": {},
   "outputs": [],
   "source": []
  }
 ],
 "metadata": {
  "kernelspec": {
   "display_name": "Python 3 (ipykernel)",
   "language": "python",
   "name": "python3"
  },
  "language_info": {
   "codemirror_mode": {
    "name": "ipython",
    "version": 3
   },
   "file_extension": ".py",
   "mimetype": "text/x-python",
   "name": "python",
   "nbconvert_exporter": "python",
   "pygments_lexer": "ipython3",
   "version": "3.9.13"
  }
 },
 "nbformat": 4,
 "nbformat_minor": 5
}
